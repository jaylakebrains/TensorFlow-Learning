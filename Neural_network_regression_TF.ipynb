{
  "nbformat": 4,
  "nbformat_minor": 0,
  "metadata": {
    "colab": {
      "provenance": [],
      "authorship_tag": "ABX9TyNakf6eQcLR07M6JUyql4sj",
      "include_colab_link": true
    },
    "kernelspec": {
      "name": "python3",
      "display_name": "Python 3"
    },
    "language_info": {
      "name": "python"
    }
  },
  "cells": [
    {
      "cell_type": "markdown",
      "metadata": {
        "id": "view-in-github",
        "colab_type": "text"
      },
      "source": [
        "<a href=\"https://colab.research.google.com/github/jaylakebrains/TensorFlow-Learning/blob/main/Neural_network_regression_TF.ipynb\" target=\"_parent\"><img src=\"https://colab.research.google.com/assets/colab-badge.svg\" alt=\"Open In Colab\"/></a>"
      ]
    },
    {
      "cell_type": "code",
      "execution_count": 2,
      "metadata": {
        "colab": {
          "base_uri": "https://localhost:8080/"
        },
        "id": "-cB8kdo2kDV2",
        "outputId": "c97b0028-1fec-450e-b4a9-d17248d33466"
      },
      "outputs": [
        {
          "output_type": "stream",
          "name": "stdout",
          "text": [
            "2.8.2\n"
          ]
        }
      ],
      "source": [
        "import tensorflow as tf\n",
        "print(tf.__version__)"
      ]
    },
    {
      "cell_type": "code",
      "source": [
        "import numpy as np\n",
        "import matplotlib.pyplot as plt\n",
        "\n",
        "# Create features\n",
        "X = np.array([-7.0, -4.0, -1.0, 2.0, 5.0, 8.0, 11.0, 14.0])\n",
        "\n",
        "# Create labels\n",
        "y = np.array([3.0, 6.0, 9.0, 12.0, 15.0, 18.0, 21.0, 24.0])\n",
        "\n",
        "# Visualize it\n",
        "plt.scatter(X, y);"
      ],
      "metadata": {
        "colab": {
          "base_uri": "https://localhost:8080/",
          "height": 269
        },
        "id": "Ai_reqH7vE3E",
        "outputId": "53652e15-1a81-4f3e-e1c8-4a1ca612695b"
      },
      "execution_count": 24,
      "outputs": [
        {
          "output_type": "display_data",
          "data": {
            "text/plain": [
              "<Figure size 432x288 with 1 Axes>"
            ],
            "image/png": "[encoded data removed]"
          },
          "metadata": {
            "needs_background": "light"
          }
        }
      ]
    },
    {
      "cell_type": "code",
      "source": [
        "input_shape = X[0].shape\n",
        "output_shape = y.shape\n",
        "input_shape, output_shape"
      ],
      "metadata": {
        "colab": {
          "base_uri": "https://localhost:8080/"
        },
        "id": "9VE9jH2OvSy2",
        "outputId": "099be06e-631e-4669-f9a9-b84cb2521abc"
      },
      "execution_count": 26,
      "outputs": [
        {
          "output_type": "execute_result",
          "data": {
            "text/plain": [
              "((), (8,))"
            ]
          },
          "metadata": {},
          "execution_count": 26
        }
      ]
    },
    {
      "cell_type": "code",
      "source": [
        "tf.random.set_seed(66)\n",
        "model = tf.keras.Sequential([tf.keras.layers.Dense(1)])\n",
        "model.compile(loss=tf.keras.losses.mae,\n",
        "              optimizer=tf.keras.optimizers.SGD(),\n",
        "              metrics=[\"mae\"])\n",
        "model.fit(tf.expand_dims(X,axis = 1),y,epochs=1000)\n"
      ],
      "metadata": {
        "id": "q_H38r_D0moE",
        "colab": {
          "base_uri": "https://localhost:8080/"
        },
        "outputId": "ff7b9233-cf77-49a3-c1ee-959e625296e6"
      },
      "execution_count": 41,
      "outputs": [
        {
          "output_type": "stream",
          "name": "stdout",
          "text": [
            "Epoch 1/1000\n",
            "1/1 [==============================] - 0s 263ms/step - loss: 7.8185 - mae: 7.8185\n",
            "Epoch 2/1000\n",
            "1/1 [==============================] - 0s 8ms/step - loss: 7.6860 - mae: 7.6860\n",
            "Epoch 3/1000\n",
            "1/1 [==============================] - 0s 5ms/step - loss: 7.5535 - mae: 7.5535\n",
            "Epoch 4/1000\n",
            "1/1 [==============================] - 0s 5ms/step - loss: 7.4775 - mae: 7.4775\n",
            "Epoch 5/1000\n",
            "1/1 [==============================] - 0s 5ms/step - loss: 7.4719 - mae: 7.4719\n",
            "Epoch 6/1000\n",
            "1/1 [==============================] - 0s 5ms/step - loss: 7.4663 - mae: 7.4663\n",
            "Epoch 7/1000\n",
            "1/1 [==============================] - 0s 5ms/step - loss: 7.4606 - mae: 7.4606\n",
            "Epoch 8/1000\n",
            "1/1 [==============================] - 0s 5ms/step - loss: 7.4550 - mae: 7.4550\n",
            "Epoch 9/1000\n",
            "1/1 [==============================] - 0s 5ms/step - loss: 7.4494 - mae: 7.4494\n",
            "Epoch 10/1000\n",
            "1/1 [==============================] - 0s 5ms/step - loss: 7.4438 - mae: 7.4438\n",
            "Epoch 11/1000\n",
            "1/1 [==============================] - 0s 5ms/step - loss: 7.4381 - mae: 7.4381\n",
            "Epoch 12/1000\n",
            "1/1 [==============================] - 0s 5ms/step - loss: 7.4325 - mae: 7.4325\n",
            "Epoch 13/1000\n",
            "1/1 [==============================] - 0s 11ms/step - loss: 7.4269 - mae: 7.4269\n",
            "Epoch 14/1000\n",
            "1/1 [==============================] - 0s 9ms/step - loss: 7.4213 - mae: 7.4213\n",
            "Epoch 15/1000\n",
            "1/1 [==============================] - 0s 8ms/step - loss: 7.4156 - mae: 7.4156\n",
            "Epoch 16/1000\n",
            "1/1 [==============================] - 0s 5ms/step - loss: 7.4100 - mae: 7.4100\n",
            "Epoch 17/1000\n",
            "1/1 [==============================] - 0s 5ms/step - loss: 7.4044 - mae: 7.4044\n",
            "Epoch 18/1000\n",
            "1/1 [==============================] - 0s 5ms/step - loss: 7.3988 - mae: 7.3988\n",
            "Epoch 19/1000\n",
            "1/1 [==============================] - 0s 6ms/step - loss: 7.3931 - mae: 7.3931\n",
            "Epoch 20/1000\n",
            "1/1 [==============================] - 0s 5ms/step - loss: 7.3875 - mae: 7.3875\n",
            "Epoch 21/1000\n",
            "1/1 [==============================] - 0s 5ms/step - loss: 7.3819 - mae: 7.3819\n",
            "Epoch 22/1000\n",
            "1/1 [==============================] - 0s 6ms/step - loss: 7.3763 - mae: 7.3763\n",
            "Epoch 23/1000\n",
            "1/1 [==============================] - 0s 11ms/step - loss: 7.3706 - mae: 7.3706\n",
            "Epoch 24/1000\n",
            "1/1 [==============================] - 0s 12ms/step - loss: 7.3650 - mae: 7.3650\n",
            "Epoch 25/1000\n",
            "1/1 [==============================] - 0s 9ms/step - loss: 7.3594 - mae: 7.3594\n",
            "Epoch 26/1000\n",
            "1/1 [==============================] - 0s 6ms/step - loss: 7.3538 - mae: 7.3538\n",
            "Epoch 27/1000\n",
            "1/1 [==============================] - 0s 6ms/step - loss: 7.3481 - mae: 7.3481\n",
            "Epoch 28/1000\n",
            "1/1 [==============================] - 0s 7ms/step - loss: 7.3425 - mae: 7.3425\n",
            "Epoch 29/1000\n",
            "1/1 [==============================] - 0s 6ms/step - loss: 7.3369 - mae: 7.3369\n",
            "Epoch 30/1000\n",
            "1/1 [==============================] - 0s 6ms/step - loss: 7.3313 - mae: 7.3313\n",
            "Epoch 31/1000\n",
            "1/1 [==============================] - 0s 6ms/step - loss: 7.3256 - mae: 7.3256\n",
            "Epoch 32/1000\n",
            "1/1 [==============================] - 0s 6ms/step - loss: 7.3200 - mae: 7.3200\n",
            "Epoch 33/1000\n",
            "1/1 [==============================] - 0s 6ms/step - loss: 7.3144 - mae: 7.3144\n",
            "Epoch 34/1000\n",
            "1/1 [==============================] - 0s 6ms/step - loss: 7.3088 - mae: 7.3088\n",
            "Epoch 35/1000\n",
            "1/1 [==============================] - 0s 5ms/step - loss: 7.3031 - mae: 7.3031\n",
            "Epoch 36/1000\n",
            "1/1 [==============================] - 0s 5ms/step - loss: 7.2975 - mae: 7.2975\n",
            "Epoch 37/1000\n",
            "1/1 [==============================] - 0s 6ms/step - loss: 7.2919 - mae: 7.2919\n",
            "Epoch 38/1000\n",
            "1/1 [==============================] - 0s 6ms/step - loss: 7.2863 - mae: 7.2863\n",
            "Epoch 39/1000\n",
            "1/1 [==============================] - 0s 6ms/step - loss: 7.2806 - mae: 7.2806\n",
            "Epoch 40/1000\n",
            "1/1 [==============================] - 0s 6ms/step - loss: 7.2750 - mae: 7.2750\n",
            "Epoch 41/1000\n",
            "1/1 [==============================] - 0s 6ms/step - loss: 7.2694 - mae: 7.2694\n",
            "Epoch 42/1000\n",
            "1/1 [==============================] - 0s 6ms/step - loss: 7.2638 - mae: 7.2638\n",
            "Epoch 43/1000\n",
            "1/1 [==============================] - 0s 6ms/step - loss: 7.2581 - mae: 7.2581\n",
            "Epoch 44/1000\n",
            "1/1 [==============================] - 0s 6ms/step - loss: 7.2525 - mae: 7.2525\n",
            "Epoch 45/1000\n",
            "1/1 [==============================] - 0s 6ms/step - loss: 7.2469 - mae: 7.2469\n",
            "Epoch 46/1000\n",
            "1/1 [==============================] - 0s 6ms/step - loss: 7.2413 - mae: 7.2413\n",
            "Epoch 47/1000\n",
            "1/1 [==============================] - 0s 8ms/step - loss: 7.2356 - mae: 7.2356\n",
            "Epoch 48/1000\n",
            "1/1 [==============================] - 0s 7ms/step - loss: 7.2300 - mae: 7.2300\n",
            "Epoch 49/1000\n",
            "1/1 [==============================] - 0s 6ms/step - loss: 7.2244 - mae: 7.2244\n",
            "Epoch 50/1000\n",
            "1/1 [==============================] - 0s 7ms/step - loss: 7.2188 - mae: 7.2188\n",
            "Epoch 51/1000\n",
            "1/1 [==============================] - 0s 6ms/step - loss: 7.2131 - mae: 7.2131\n",
            "Epoch 52/1000\n",
            "1/1 [==============================] - 0s 6ms/step - loss: 7.2075 - mae: 7.2075\n",
            "Epoch 53/1000\n",
            "1/1 [==============================] - 0s 8ms/step - loss: 7.2019 - mae: 7.2019\n",
            "Epoch 54/1000\n",
            "1/1 [==============================] - 0s 5ms/step - loss: 7.1962 - mae: 7.1962\n",
            "Epoch 55/1000\n",
            "1/1 [==============================] - 0s 6ms/step - loss: 7.1906 - mae: 7.1906\n",
            "Epoch 56/1000\n",
            "1/1 [==============================] - 0s 6ms/step - loss: 7.1850 - mae: 7.1850\n",
            "Epoch 57/1000\n",
            "1/1 [==============================] - 0s 6ms/step - loss: 7.1794 - mae: 7.1794\n",
            "Epoch 58/1000\n",
            "1/1 [==============================] - 0s 6ms/step - loss: 7.1737 - mae: 7.1737\n",
            "Epoch 59/1000\n",
            "1/1 [==============================] - 0s 6ms/step - loss: 7.1681 - mae: 7.1681\n",
            "Epoch 60/1000\n",
            "1/1 [==============================] - 0s 6ms/step - loss: 7.1625 - mae: 7.1625\n",
            "Epoch 61/1000\n",
            "1/1 [==============================] - 0s 6ms/step - loss: 7.1569 - mae: 7.1569\n",
            "Epoch 62/1000\n",
            "1/1 [==============================] - 0s 6ms/step - loss: 7.1512 - mae: 7.1512\n",
            "Epoch 63/1000\n",
            "1/1 [==============================] - 0s 6ms/step - loss: 7.1456 - mae: 7.1456\n",
            "Epoch 64/1000\n",
            "1/1 [==============================] - 0s 6ms/step - loss: 7.1400 - mae: 7.1400\n",
            "Epoch 65/1000\n",
            "1/1 [==============================] - 0s 6ms/step - loss: 7.1344 - mae: 7.1344\n",
            "Epoch 66/1000\n",
            "1/1 [==============================] - 0s 6ms/step - loss: 7.1288 - mae: 7.1288\n",
            "Epoch 67/1000\n",
            "1/1 [==============================] - 0s 6ms/step - loss: 7.1231 - mae: 7.1231\n",
            "Epoch 68/1000\n",
            "1/1 [==============================] - 0s 6ms/step - loss: 7.1175 - mae: 7.1175\n",
            "Epoch 69/1000\n",
            "1/1 [==============================] - 0s 6ms/step - loss: 7.1119 - mae: 7.1119\n",
            "Epoch 70/1000\n",
            "1/1 [==============================] - 0s 7ms/step - loss: 7.1063 - mae: 7.1063\n",
            "Epoch 71/1000\n",
            "1/1 [==============================] - 0s 5ms/step - loss: 7.1006 - mae: 7.1006\n",
            "Epoch 72/1000\n",
            "1/1 [==============================] - 0s 6ms/step - loss: 7.0950 - mae: 7.0950\n",
            "Epoch 73/1000\n",
            "1/1 [==============================] - 0s 6ms/step - loss: 7.0894 - mae: 7.0894\n",
            "Epoch 74/1000\n",
            "1/1 [==============================] - 0s 6ms/step - loss: 7.0838 - mae: 7.0838\n",
            "Epoch 75/1000\n",
            "1/1 [==============================] - 0s 6ms/step - loss: 7.0781 - mae: 7.0781\n",
            "Epoch 76/1000\n",
            "1/1 [==============================] - 0s 6ms/step - loss: 7.0725 - mae: 7.0725\n",
            "Epoch 77/1000\n",
            "1/1 [==============================] - 0s 6ms/step - loss: 7.0669 - mae: 7.0669\n",
            "Epoch 78/1000\n",
            "1/1 [==============================] - 0s 6ms/step - loss: 7.0613 - mae: 7.0613\n",
            "Epoch 79/1000\n",
            "1/1 [==============================] - 0s 6ms/step - loss: 7.0556 - mae: 7.0556\n",
            "Epoch 80/1000\n",
            "1/1 [==============================] - 0s 6ms/step - loss: 7.0500 - mae: 7.0500\n",
            "Epoch 81/1000\n",
            "1/1 [==============================] - 0s 6ms/step - loss: 7.0444 - mae: 7.0444\n",
            "Epoch 82/1000\n",
            "1/1 [==============================] - 0s 6ms/step - loss: 7.0388 - mae: 7.0388\n",
            "Epoch 83/1000\n",
            "1/1 [==============================] - 0s 6ms/step - loss: 7.0331 - mae: 7.0331\n",
            "Epoch 84/1000\n",
            "1/1 [==============================] - 0s 6ms/step - loss: 7.0275 - mae: 7.0275\n",
            "Epoch 85/1000\n",
            "1/1 [==============================] - 0s 6ms/step - loss: 7.0219 - mae: 7.0219\n",
            "Epoch 86/1000\n",
            "1/1 [==============================] - 0s 5ms/step - loss: 7.0163 - mae: 7.0163\n",
            "Epoch 87/1000\n",
            "1/1 [==============================] - 0s 6ms/step - loss: 7.0106 - mae: 7.0106\n",
            "Epoch 88/1000\n",
            "1/1 [==============================] - 0s 6ms/step - loss: 7.0050 - mae: 7.0050\n",
            "Epoch 89/1000\n",
            "1/1 [==============================] - 0s 6ms/step - loss: 6.9994 - mae: 6.9994\n",
            "Epoch 90/1000\n",
            "1/1 [==============================] - 0s 6ms/step - loss: 6.9938 - mae: 6.9938\n",
            "Epoch 91/1000\n",
            "1/1 [==============================] - 0s 6ms/step - loss: 6.9881 - mae: 6.9881\n",
            "Epoch 92/1000\n",
            "1/1 [==============================] - 0s 6ms/step - loss: 6.9825 - mae: 6.9825\n",
            "Epoch 93/1000\n",
            "1/1 [==============================] - 0s 6ms/step - loss: 6.9769 - mae: 6.9769\n",
            "Epoch 94/1000\n",
            "1/1 [==============================] - 0s 6ms/step - loss: 6.9713 - mae: 6.9713\n",
            "Epoch 95/1000\n",
            "1/1 [==============================] - 0s 6ms/step - loss: 6.9656 - mae: 6.9656\n",
            "Epoch 96/1000\n",
            "1/1 [==============================] - 0s 6ms/step - loss: 6.9600 - mae: 6.9600\n",
            "Epoch 97/1000\n",
            "1/1 [==============================] - 0s 6ms/step - loss: 6.9544 - mae: 6.9544\n",
            "Epoch 98/1000\n",
            "1/1 [==============================] - 0s 6ms/step - loss: 6.9488 - mae: 6.9488\n",
            "Epoch 99/1000\n",
            "1/1 [==============================] - 0s 6ms/step - loss: 6.9431 - mae: 6.9431\n",
            "Epoch 100/1000\n",
            "1/1 [==============================] - 0s 6ms/step - loss: 6.9375 - mae: 6.9375\n",
            "Epoch 101/1000\n",
            "1/1 [==============================] - 0s 6ms/step - loss: 6.9319 - mae: 6.9319\n",
            "Epoch 102/1000\n",
            "1/1 [==============================] - 0s 6ms/step - loss: 6.9263 - mae: 6.9263\n",
            "Epoch 103/1000\n",
            "1/1 [==============================] - 0s 6ms/step - loss: 6.9206 - mae: 6.9206\n",
            "Epoch 104/1000\n",
            "1/1 [==============================] - 0s 5ms/step - loss: 6.9150 - mae: 6.9150\n",
            "Epoch 105/1000\n",
            "1/1 [==============================] - 0s 6ms/step - loss: 6.9094 - mae: 6.9094\n",
            "Epoch 106/1000\n",
            "1/1 [==============================] - 0s 6ms/step - loss: 6.9038 - mae: 6.9038\n",
            "Epoch 107/1000\n",
            "1/1 [==============================] - 0s 6ms/step - loss: 6.8981 - mae: 6.8981\n",
            "Epoch 108/1000\n",
            "1/1 [==============================] - 0s 6ms/step - loss: 6.8925 - mae: 6.8925\n",
            "Epoch 109/1000\n",
            "1/1 [==============================] - 0s 6ms/step - loss: 6.8869 - mae: 6.8869\n",
            "Epoch 110/1000\n",
            "1/1 [==============================] - 0s 6ms/step - loss: 6.8813 - mae: 6.8813\n",
            "Epoch 111/1000\n",
            "1/1 [==============================] - 0s 6ms/step - loss: 6.8756 - mae: 6.8756\n",
            "Epoch 112/1000\n",
            "1/1 [==============================] - 0s 6ms/step - loss: 6.8700 - mae: 6.8700\n",
            "Epoch 113/1000\n",
            "1/1 [==============================] - 0s 6ms/step - loss: 6.8644 - mae: 6.8644\n",
            "Epoch 114/1000\n",
            "1/1 [==============================] - 0s 6ms/step - loss: 6.8588 - mae: 6.8588\n",
            "Epoch 115/1000\n",
            "1/1 [==============================] - 0s 6ms/step - loss: 6.8531 - mae: 6.8531\n",
            "Epoch 116/1000\n",
            "1/1 [==============================] - 0s 6ms/step - loss: 6.8475 - mae: 6.8475\n",
            "Epoch 117/1000\n",
            "1/1 [==============================] - 0s 7ms/step - loss: 6.8419 - mae: 6.8419\n",
            "Epoch 118/1000\n",
            "1/1 [==============================] - 0s 6ms/step - loss: 6.8363 - mae: 6.8363\n",
            "Epoch 119/1000\n",
            "1/1 [==============================] - 0s 6ms/step - loss: 6.8306 - mae: 6.8306\n",
            "Epoch 120/1000\n",
            "1/1 [==============================] - 0s 6ms/step - loss: 6.8250 - mae: 6.8250\n",
            "Epoch 121/1000\n",
            "1/1 [==============================] - 0s 6ms/step - loss: 6.8194 - mae: 6.8194\n",
            "Epoch 122/1000\n",
            "1/1 [==============================] - 0s 6ms/step - loss: 6.8138 - mae: 6.8138\n",
            "Epoch 123/1000\n",
            "1/1 [==============================] - 0s 6ms/step - loss: 6.8081 - mae: 6.8081\n",
            "Epoch 124/1000\n",
            "1/1 [==============================] - 0s 8ms/step - loss: 6.8025 - mae: 6.8025\n",
            "Epoch 125/1000\n",
            "1/1 [==============================] - 0s 9ms/step - loss: 6.7969 - mae: 6.7969\n",
            "Epoch 126/1000\n",
            "1/1 [==============================] - 0s 6ms/step - loss: 6.7913 - mae: 6.7913\n",
            "Epoch 127/1000\n",
            "1/1 [==============================] - 0s 6ms/step - loss: 6.7856 - mae: 6.7856\n",
            "Epoch 128/1000\n",
            "1/1 [==============================] - 0s 6ms/step - loss: 6.7800 - mae: 6.7800\n",
            "Epoch 129/1000\n",
            "1/1 [==============================] - 0s 6ms/step - loss: 6.7744 - mae: 6.7744\n",
            "Epoch 130/1000\n",
            "1/1 [==============================] - 0s 6ms/step - loss: 6.7688 - mae: 6.7688\n",
            "Epoch 131/1000\n",
            "1/1 [==============================] - 0s 8ms/step - loss: 6.7631 - mae: 6.7631\n",
            "Epoch 132/1000\n",
            "1/1 [==============================] - 0s 6ms/step - loss: 6.7575 - mae: 6.7575\n",
            "Epoch 133/1000\n",
            "1/1 [==============================] - 0s 11ms/step - loss: 6.7519 - mae: 6.7519\n",
            "Epoch 134/1000\n",
            "1/1 [==============================] - 0s 7ms/step - loss: 6.7463 - mae: 6.7463\n",
            "Epoch 135/1000\n",
            "1/1 [==============================] - 0s 6ms/step - loss: 6.7406 - mae: 6.7406\n",
            "Epoch 136/1000\n",
            "1/1 [==============================] - 0s 6ms/step - loss: 6.7350 - mae: 6.7350\n",
            "Epoch 137/1000\n",
            "1/1 [==============================] - 0s 6ms/step - loss: 6.7294 - mae: 6.7294\n",
            "Epoch 138/1000\n",
            "1/1 [==============================] - 0s 6ms/step - loss: 6.7238 - mae: 6.7238\n",
            "Epoch 139/1000\n",
            "1/1 [==============================] - 0s 6ms/step - loss: 6.7181 - mae: 6.7181\n",
            "Epoch 140/1000\n",
            "1/1 [==============================] - 0s 5ms/step - loss: 6.7125 - mae: 6.7125\n",
            "Epoch 141/1000\n",
            "1/1 [==============================] - 0s 5ms/step - loss: 6.7069 - mae: 6.7069\n",
            "Epoch 142/1000\n",
            "1/1 [==============================] - 0s 5ms/step - loss: 6.7013 - mae: 6.7013\n",
            "Epoch 143/1000\n",
            "1/1 [==============================] - 0s 5ms/step - loss: 6.6956 - mae: 6.6956\n",
            "Epoch 144/1000\n",
            "1/1 [==============================] - 0s 6ms/step - loss: 6.6900 - mae: 6.6900\n",
            "Epoch 145/1000\n",
            "1/1 [==============================] - 0s 6ms/step - loss: 6.6844 - mae: 6.6844\n",
            "Epoch 146/1000\n",
            "1/1 [==============================] - 0s 6ms/step - loss: 6.6788 - mae: 6.6788\n",
            "Epoch 147/1000\n",
            "1/1 [==============================] - 0s 5ms/step - loss: 6.6731 - mae: 6.6731\n",
            "Epoch 148/1000\n",
            "1/1 [==============================] - 0s 238ms/step - loss: 6.6675 - mae: 6.6675\n",
            "Epoch 149/1000\n",
            "1/1 [==============================] - 0s 6ms/step - loss: 6.6619 - mae: 6.6619\n",
            "Epoch 150/1000\n",
            "1/1 [==============================] - 0s 6ms/step - loss: 6.6562 - mae: 6.6562\n",
            "Epoch 151/1000\n",
            "1/1 [==============================] - 0s 6ms/step - loss: 6.6506 - mae: 6.6506\n",
            "Epoch 152/1000\n",
            "1/1 [==============================] - 0s 6ms/step - loss: 6.6450 - mae: 6.6450\n",
            "Epoch 153/1000\n",
            "1/1 [==============================] - 0s 6ms/step - loss: 6.6394 - mae: 6.6394\n",
            "Epoch 154/1000\n",
            "1/1 [==============================] - 0s 7ms/step - loss: 6.6337 - mae: 6.6337\n",
            "Epoch 155/1000\n",
            "1/1 [==============================] - 0s 6ms/step - loss: 6.6281 - mae: 6.6281\n",
            "Epoch 156/1000\n",
            "1/1 [==============================] - 0s 6ms/step - loss: 6.6225 - mae: 6.6225\n",
            "Epoch 157/1000\n",
            "1/1 [==============================] - 0s 6ms/step - loss: 6.6169 - mae: 6.6169\n",
            "Epoch 158/1000\n",
            "1/1 [==============================] - 0s 6ms/step - loss: 6.6112 - mae: 6.6112\n",
            "Epoch 159/1000\n",
            "1/1 [==============================] - 0s 6ms/step - loss: 6.6056 - mae: 6.6056\n",
            "Epoch 160/1000\n",
            "1/1 [==============================] - 0s 6ms/step - loss: 6.6000 - mae: 6.6000\n",
            "Epoch 161/1000\n",
            "1/1 [==============================] - 0s 7ms/step - loss: 6.5944 - mae: 6.5944\n",
            "Epoch 162/1000\n",
            "1/1 [==============================] - 0s 5ms/step - loss: 6.5887 - mae: 6.5887\n",
            "Epoch 163/1000\n",
            "1/1 [==============================] - 0s 6ms/step - loss: 6.5831 - mae: 6.5831\n",
            "Epoch 164/1000\n",
            "1/1 [==============================] - 0s 6ms/step - loss: 6.5775 - mae: 6.5775\n",
            "Epoch 165/1000\n",
            "1/1 [==============================] - 0s 5ms/step - loss: 6.5719 - mae: 6.5719\n",
            "Epoch 166/1000\n",
            "1/1 [==============================] - 0s 5ms/step - loss: 6.5662 - mae: 6.5662\n",
            "Epoch 167/1000\n",
            "1/1 [==============================] - 0s 6ms/step - loss: 6.5606 - mae: 6.5606\n",
            "Epoch 168/1000\n",
            "1/1 [==============================] - 0s 6ms/step - loss: 6.5550 - mae: 6.5550\n",
            "Epoch 169/1000\n",
            "1/1 [==============================] - 0s 6ms/step - loss: 6.5494 - mae: 6.5494\n",
            "Epoch 170/1000\n",
            "1/1 [==============================] - 0s 6ms/step - loss: 6.5437 - mae: 6.5437\n",
            "Epoch 171/1000\n",
            "1/1 [==============================] - 0s 6ms/step - loss: 6.5381 - mae: 6.5381\n",
            "Epoch 172/1000\n",
            "1/1 [==============================] - 0s 6ms/step - loss: 6.5325 - mae: 6.5325\n",
            "Epoch 173/1000\n",
            "1/1 [==============================] - 0s 6ms/step - loss: 6.5269 - mae: 6.5269\n",
            "Epoch 174/1000\n",
            "1/1 [==============================] - 0s 6ms/step - loss: 6.5212 - mae: 6.5212\n",
            "Epoch 175/1000\n",
            "1/1 [==============================] - 0s 6ms/step - loss: 6.5156 - mae: 6.5156\n",
            "Epoch 176/1000\n",
            "1/1 [==============================] - 0s 7ms/step - loss: 6.5100 - mae: 6.5100\n",
            "Epoch 177/1000\n",
            "1/1 [==============================] - 0s 6ms/step - loss: 6.5044 - mae: 6.5044\n",
            "Epoch 178/1000\n",
            "1/1 [==============================] - 0s 6ms/step - loss: 6.4987 - mae: 6.4987\n",
            "Epoch 179/1000\n",
            "1/1 [==============================] - 0s 6ms/step - loss: 6.4931 - mae: 6.4931\n",
            "Epoch 180/1000\n",
            "1/1 [==============================] - 0s 6ms/step - loss: 6.4875 - mae: 6.4875\n",
            "Epoch 181/1000\n",
            "1/1 [==============================] - 0s 6ms/step - loss: 6.4819 - mae: 6.4819\n",
            "Epoch 182/1000\n",
            "1/1 [==============================] - 0s 6ms/step - loss: 6.4762 - mae: 6.4762\n",
            "Epoch 183/1000\n",
            "1/1 [==============================] - 0s 6ms/step - loss: 6.4706 - mae: 6.4706\n",
            "Epoch 184/1000\n",
            "1/1 [==============================] - 0s 6ms/step - loss: 6.4650 - mae: 6.4650\n",
            "Epoch 185/1000\n",
            "1/1 [==============================] - 0s 5ms/step - loss: 6.4594 - mae: 6.4594\n",
            "Epoch 186/1000\n",
            "1/1 [==============================] - 0s 5ms/step - loss: 6.4537 - mae: 6.4537\n",
            "Epoch 187/1000\n",
            "1/1 [==============================] - 0s 6ms/step - loss: 6.4481 - mae: 6.4481\n",
            "Epoch 188/1000\n",
            "1/1 [==============================] - 0s 5ms/step - loss: 6.4425 - mae: 6.4425\n",
            "Epoch 189/1000\n",
            "1/1 [==============================] - 0s 5ms/step - loss: 6.4369 - mae: 6.4369\n",
            "Epoch 190/1000\n",
            "1/1 [==============================] - 0s 5ms/step - loss: 6.4312 - mae: 6.4312\n",
            "Epoch 191/1000\n",
            "1/1 [==============================] - 0s 6ms/step - loss: 6.4256 - mae: 6.4256\n",
            "Epoch 192/1000\n",
            "1/1 [==============================] - 0s 6ms/step - loss: 6.4200 - mae: 6.4200\n",
            "Epoch 193/1000\n",
            "1/1 [==============================] - 0s 6ms/step - loss: 6.4144 - mae: 6.4144\n",
            "Epoch 194/1000\n",
            "1/1 [==============================] - 0s 6ms/step - loss: 6.4087 - mae: 6.4087\n",
            "Epoch 195/1000\n",
            "1/1 [==============================] - 0s 7ms/step - loss: 6.4031 - mae: 6.4031\n",
            "Epoch 196/1000\n",
            "1/1 [==============================] - 0s 6ms/step - loss: 6.3975 - mae: 6.3975\n",
            "Epoch 197/1000\n",
            "1/1 [==============================] - 0s 6ms/step - loss: 6.3919 - mae: 6.3919\n",
            "Epoch 198/1000\n",
            "1/1 [==============================] - 0s 6ms/step - loss: 6.3862 - mae: 6.3862\n",
            "Epoch 199/1000\n",
            "1/1 [==============================] - 0s 6ms/step - loss: 6.3806 - mae: 6.3806\n",
            "Epoch 200/1000\n",
            "1/1 [==============================] - 0s 9ms/step - loss: 6.3750 - mae: 6.3750\n",
            "Epoch 201/1000\n",
            "1/1 [==============================] - 0s 5ms/step - loss: 6.3694 - mae: 6.3694\n",
            "Epoch 202/1000\n",
            "1/1 [==============================] - 0s 6ms/step - loss: 6.3637 - mae: 6.3637\n",
            "Epoch 203/1000\n",
            "1/1 [==============================] - 0s 6ms/step - loss: 6.3581 - mae: 6.3581\n",
            "Epoch 204/1000\n",
            "1/1 [==============================] - 0s 6ms/step - loss: 6.3525 - mae: 6.3525\n",
            "Epoch 205/1000\n",
            "1/1 [==============================] - 0s 6ms/step - loss: 6.3469 - mae: 6.3469\n",
            "Epoch 206/1000\n",
            "1/1 [==============================] - 0s 6ms/step - loss: 6.3412 - mae: 6.3412\n",
            "Epoch 207/1000\n",
            "1/1 [==============================] - 0s 6ms/step - loss: 6.3356 - mae: 6.3356\n",
            "Epoch 208/1000\n",
            "1/1 [==============================] - 0s 6ms/step - loss: 6.3300 - mae: 6.3300\n",
            "Epoch 209/1000\n",
            "1/1 [==============================] - 0s 6ms/step - loss: 6.3244 - mae: 6.3244\n",
            "Epoch 210/1000\n",
            "1/1 [==============================] - 0s 6ms/step - loss: 6.3187 - mae: 6.3187\n",
            "Epoch 211/1000\n",
            "1/1 [==============================] - 0s 5ms/step - loss: 6.3131 - mae: 6.3131\n",
            "Epoch 212/1000\n",
            "1/1 [==============================] - 0s 6ms/step - loss: 6.3075 - mae: 6.3075\n",
            "Epoch 213/1000\n",
            "1/1 [==============================] - 0s 6ms/step - loss: 6.3019 - mae: 6.3019\n",
            "Epoch 214/1000\n",
            "1/1 [==============================] - 0s 6ms/step - loss: 6.2962 - mae: 6.2962\n",
            "Epoch 215/1000\n",
            "1/1 [==============================] - 0s 6ms/step - loss: 6.2906 - mae: 6.2906\n",
            "Epoch 216/1000\n",
            "1/1 [==============================] - 0s 6ms/step - loss: 6.2850 - mae: 6.2850\n",
            "Epoch 217/1000\n",
            "1/1 [==============================] - 0s 6ms/step - loss: 6.2794 - mae: 6.2794\n",
            "Epoch 218/1000\n",
            "1/1 [==============================] - 0s 7ms/step - loss: 6.2737 - mae: 6.2737\n",
            "Epoch 219/1000\n",
            "1/1 [==============================] - 0s 6ms/step - loss: 6.2681 - mae: 6.2681\n",
            "Epoch 220/1000\n",
            "1/1 [==============================] - 0s 7ms/step - loss: 6.2625 - mae: 6.2625\n",
            "Epoch 221/1000\n",
            "1/1 [==============================] - 0s 6ms/step - loss: 6.2569 - mae: 6.2569\n",
            "Epoch 222/1000\n",
            "1/1 [==============================] - 0s 6ms/step - loss: 6.2512 - mae: 6.2512\n",
            "Epoch 223/1000\n",
            "1/1 [==============================] - 0s 10ms/step - loss: 6.2456 - mae: 6.2456\n",
            "Epoch 224/1000\n",
            "1/1 [==============================] - 0s 7ms/step - loss: 6.2400 - mae: 6.2400\n",
            "Epoch 225/1000\n",
            "1/1 [==============================] - 0s 7ms/step - loss: 6.2344 - mae: 6.2344\n",
            "Epoch 226/1000\n",
            "1/1 [==============================] - 0s 7ms/step - loss: 6.2287 - mae: 6.2287\n",
            "Epoch 227/1000\n",
            "1/1 [==============================] - 0s 6ms/step - loss: 6.2231 - mae: 6.2231\n",
            "Epoch 228/1000\n",
            "1/1 [==============================] - 0s 7ms/step - loss: 6.2175 - mae: 6.2175\n",
            "Epoch 229/1000\n",
            "1/1 [==============================] - 0s 7ms/step - loss: 6.2119 - mae: 6.2119\n",
            "Epoch 230/1000\n",
            "1/1 [==============================] - 0s 6ms/step - loss: 6.2062 - mae: 6.2062\n",
            "Epoch 231/1000\n",
            "1/1 [==============================] - 0s 9ms/step - loss: 6.2006 - mae: 6.2006\n",
            "Epoch 232/1000\n",
            "1/1 [==============================] - 0s 6ms/step - loss: 6.1950 - mae: 6.1950\n",
            "Epoch 233/1000\n",
            "1/1 [==============================] - 0s 6ms/step - loss: 6.1894 - mae: 6.1894\n",
            "Epoch 234/1000\n",
            "1/1 [==============================] - 0s 6ms/step - loss: 6.1837 - mae: 6.1837\n",
            "Epoch 235/1000\n",
            "1/1 [==============================] - 0s 5ms/step - loss: 6.1781 - mae: 6.1781\n",
            "Epoch 236/1000\n",
            "1/1 [==============================] - 0s 6ms/step - loss: 6.1725 - mae: 6.1725\n",
            "Epoch 237/1000\n",
            "1/1 [==============================] - 0s 6ms/step - loss: 6.1669 - mae: 6.1669\n",
            "Epoch 238/1000\n",
            "1/1 [==============================] - 0s 6ms/step - loss: 6.1612 - mae: 6.1612\n",
            "Epoch 239/1000\n",
            "1/1 [==============================] - 0s 7ms/step - loss: 6.1556 - mae: 6.1556\n",
            "Epoch 240/1000\n",
            "1/1 [==============================] - 0s 7ms/step - loss: 6.1500 - mae: 6.1500\n",
            "Epoch 241/1000\n",
            "1/1 [==============================] - 0s 6ms/step - loss: 6.1444 - mae: 6.1444\n",
            "Epoch 242/1000\n",
            "1/1 [==============================] - 0s 6ms/step - loss: 6.1387 - mae: 6.1387\n",
            "Epoch 243/1000\n",
            "1/1 [==============================] - 0s 6ms/step - loss: 6.1331 - mae: 6.1331\n",
            "Epoch 244/1000\n",
            "1/1 [==============================] - 0s 6ms/step - loss: 6.1275 - mae: 6.1275\n",
            "Epoch 245/1000\n",
            "1/1 [==============================] - 0s 6ms/step - loss: 6.1219 - mae: 6.1219\n",
            "Epoch 246/1000\n",
            "1/1 [==============================] - 0s 7ms/step - loss: 6.1162 - mae: 6.1162\n",
            "Epoch 247/1000\n",
            "1/1 [==============================] - 0s 6ms/step - loss: 6.1106 - mae: 6.1106\n",
            "Epoch 248/1000\n",
            "1/1 [==============================] - 0s 6ms/step - loss: 6.1050 - mae: 6.1050\n",
            "Epoch 249/1000\n",
            "1/1 [==============================] - 0s 7ms/step - loss: 6.0994 - mae: 6.0994\n",
            "Epoch 250/1000\n",
            "1/1 [==============================] - 0s 6ms/step - loss: 6.0937 - mae: 6.0937\n",
            "Epoch 251/1000\n",
            "1/1 [==============================] - 0s 6ms/step - loss: 6.0881 - mae: 6.0881\n",
            "Epoch 252/1000\n",
            "1/1 [==============================] - 0s 7ms/step - loss: 6.0825 - mae: 6.0825\n",
            "Epoch 253/1000\n",
            "1/1 [==============================] - 0s 7ms/step - loss: 6.0769 - mae: 6.0769\n",
            "Epoch 254/1000\n",
            "1/1 [==============================] - 0s 7ms/step - loss: 6.0712 - mae: 6.0712\n",
            "Epoch 255/1000\n",
            "1/1 [==============================] - 0s 6ms/step - loss: 6.0656 - mae: 6.0656\n",
            "Epoch 256/1000\n",
            "1/1 [==============================] - 0s 6ms/step - loss: 6.0600 - mae: 6.0600\n",
            "Epoch 257/1000\n",
            "1/1 [==============================] - 0s 7ms/step - loss: 6.0544 - mae: 6.0544\n",
            "Epoch 258/1000\n",
            "1/1 [==============================] - 0s 6ms/step - loss: 6.0487 - mae: 6.0487\n",
            "Epoch 259/1000\n",
            "1/1 [==============================] - 0s 7ms/step - loss: 6.0431 - mae: 6.0431\n",
            "Epoch 260/1000\n",
            "1/1 [==============================] - 0s 6ms/step - loss: 6.0375 - mae: 6.0375\n",
            "Epoch 261/1000\n",
            "1/1 [==============================] - 0s 6ms/step - loss: 6.0319 - mae: 6.0319\n",
            "Epoch 262/1000\n",
            "1/1 [==============================] - 0s 7ms/step - loss: 6.0262 - mae: 6.0262\n",
            "Epoch 263/1000\n",
            "1/1 [==============================] - 0s 6ms/step - loss: 6.0206 - mae: 6.0206\n",
            "Epoch 264/1000\n",
            "1/1 [==============================] - 0s 6ms/step - loss: 6.0150 - mae: 6.0150\n",
            "Epoch 265/1000\n",
            "1/1 [==============================] - 0s 6ms/step - loss: 6.0094 - mae: 6.0094\n",
            "Epoch 266/1000\n",
            "1/1 [==============================] - 0s 6ms/step - loss: 6.0053 - mae: 6.0053\n",
            "Epoch 267/1000\n",
            "1/1 [==============================] - 0s 6ms/step - loss: 6.0000 - mae: 6.0000\n",
            "Epoch 268/1000\n",
            "1/1 [==============================] - 0s 6ms/step - loss: 5.9944 - mae: 5.9944\n",
            "Epoch 269/1000\n",
            "1/1 [==============================] - 0s 7ms/step - loss: 5.9887 - mae: 5.9887\n",
            "Epoch 270/1000\n",
            "1/1 [==============================] - 0s 6ms/step - loss: 5.9831 - mae: 5.9831\n",
            "Epoch 271/1000\n",
            "1/1 [==============================] - 0s 6ms/step - loss: 5.9775 - mae: 5.9775\n",
            "Epoch 272/1000\n",
            "1/1 [==============================] - 0s 6ms/step - loss: 5.9719 - mae: 5.9719\n",
            "Epoch 273/1000\n",
            "1/1 [==============================] - 0s 6ms/step - loss: 5.9662 - mae: 5.9662\n",
            "Epoch 274/1000\n",
            "1/1 [==============================] - 0s 6ms/step - loss: 5.9606 - mae: 5.9606\n",
            "Epoch 275/1000\n",
            "1/1 [==============================] - 0s 6ms/step - loss: 5.9550 - mae: 5.9550\n",
            "Epoch 276/1000\n",
            "1/1 [==============================] - 0s 6ms/step - loss: 5.9494 - mae: 5.9494\n",
            "Epoch 277/1000\n",
            "1/1 [==============================] - 0s 6ms/step - loss: 5.9437 - mae: 5.9437\n",
            "Epoch 278/1000\n",
            "1/1 [==============================] - 0s 6ms/step - loss: 5.9381 - mae: 5.9381\n",
            "Epoch 279/1000\n",
            "1/1 [==============================] - 0s 6ms/step - loss: 5.9325 - mae: 5.9325\n",
            "Epoch 280/1000\n",
            "1/1 [==============================] - 0s 6ms/step - loss: 5.9269 - mae: 5.9269\n",
            "Epoch 281/1000\n",
            "1/1 [==============================] - 0s 6ms/step - loss: 5.9212 - mae: 5.9212\n",
            "Epoch 282/1000\n",
            "1/1 [==============================] - 0s 6ms/step - loss: 5.9156 - mae: 5.9156\n",
            "Epoch 283/1000\n",
            "1/1 [==============================] - 0s 6ms/step - loss: 5.9100 - mae: 5.9100\n",
            "Epoch 284/1000\n",
            "1/1 [==============================] - 0s 6ms/step - loss: 5.9044 - mae: 5.9044\n",
            "Epoch 285/1000\n",
            "1/1 [==============================] - 0s 6ms/step - loss: 5.8987 - mae: 5.8987\n",
            "Epoch 286/1000\n",
            "1/1 [==============================] - 0s 6ms/step - loss: 5.8931 - mae: 5.8931\n",
            "Epoch 287/1000\n",
            "1/1 [==============================] - 0s 7ms/step - loss: 5.8875 - mae: 5.8875\n",
            "Epoch 288/1000\n",
            "1/1 [==============================] - 0s 6ms/step - loss: 5.8819 - mae: 5.8819\n",
            "Epoch 289/1000\n",
            "1/1 [==============================] - 0s 6ms/step - loss: 5.8762 - mae: 5.8762\n",
            "Epoch 290/1000\n",
            "1/1 [==============================] - 0s 6ms/step - loss: 5.8706 - mae: 5.8706\n",
            "Epoch 291/1000\n",
            "1/1 [==============================] - 0s 6ms/step - loss: 5.8650 - mae: 5.8650\n",
            "Epoch 292/1000\n",
            "1/1 [==============================] - 0s 6ms/step - loss: 5.8594 - mae: 5.8594\n",
            "Epoch 293/1000\n",
            "1/1 [==============================] - 0s 6ms/step - loss: 5.8537 - mae: 5.8537\n",
            "Epoch 294/1000\n",
            "1/1 [==============================] - 0s 5ms/step - loss: 5.8481 - mae: 5.8481\n",
            "Epoch 295/1000\n",
            "1/1 [==============================] - 0s 6ms/step - loss: 5.8425 - mae: 5.8425\n",
            "Epoch 296/1000\n",
            "1/1 [==============================] - 0s 5ms/step - loss: 5.8369 - mae: 5.8369\n",
            "Epoch 297/1000\n",
            "1/1 [==============================] - 0s 7ms/step - loss: 5.8312 - mae: 5.8312\n",
            "Epoch 298/1000\n",
            "1/1 [==============================] - 0s 12ms/step - loss: 5.8256 - mae: 5.8256\n",
            "Epoch 299/1000\n",
            "1/1 [==============================] - 0s 7ms/step - loss: 5.8200 - mae: 5.8200\n",
            "Epoch 300/1000\n",
            "1/1 [==============================] - 0s 6ms/step - loss: 5.8144 - mae: 5.8144\n",
            "Epoch 301/1000\n",
            "1/1 [==============================] - 0s 6ms/step - loss: 5.8087 - mae: 5.8087\n",
            "Epoch 302/1000\n",
            "1/1 [==============================] - 0s 6ms/step - loss: 5.8031 - mae: 5.8031\n",
            "Epoch 303/1000\n",
            "1/1 [==============================] - 0s 6ms/step - loss: 5.7975 - mae: 5.7975\n",
            "Epoch 304/1000\n",
            "1/1 [==============================] - 0s 5ms/step - loss: 5.7919 - mae: 5.7919\n",
            "Epoch 305/1000\n",
            "1/1 [==============================] - 0s 6ms/step - loss: 5.7862 - mae: 5.7862\n",
            "Epoch 306/1000\n",
            "1/1 [==============================] - 0s 10ms/step - loss: 5.7809 - mae: 5.7809\n",
            "Epoch 307/1000\n",
            "1/1 [==============================] - 0s 7ms/step - loss: 5.7769 - mae: 5.7769\n",
            "Epoch 308/1000\n",
            "1/1 [==============================] - 0s 8ms/step - loss: 5.7712 - mae: 5.7712\n",
            "Epoch 309/1000\n",
            "1/1 [==============================] - 0s 6ms/step - loss: 5.7656 - mae: 5.7656\n",
            "Epoch 310/1000\n",
            "1/1 [==============================] - 0s 9ms/step - loss: 5.7600 - mae: 5.7600\n",
            "Epoch 311/1000\n",
            "1/1 [==============================] - 0s 5ms/step - loss: 5.7544 - mae: 5.7544\n",
            "Epoch 312/1000\n",
            "1/1 [==============================] - 0s 6ms/step - loss: 5.7487 - mae: 5.7487\n",
            "Epoch 313/1000\n",
            "1/1 [==============================] - 0s 6ms/step - loss: 5.7431 - mae: 5.7431\n",
            "Epoch 314/1000\n",
            "1/1 [==============================] - 0s 6ms/step - loss: 5.7375 - mae: 5.7375\n",
            "Epoch 315/1000\n",
            "1/1 [==============================] - 0s 303ms/step - loss: 5.7319 - mae: 5.7319\n",
            "Epoch 316/1000\n",
            "1/1 [==============================] - 0s 6ms/step - loss: 5.7262 - mae: 5.7262\n",
            "Epoch 317/1000\n",
            "1/1 [==============================] - 0s 6ms/step - loss: 5.7206 - mae: 5.7206\n",
            "Epoch 318/1000\n",
            "1/1 [==============================] - 0s 6ms/step - loss: 5.7150 - mae: 5.7150\n",
            "Epoch 319/1000\n",
            "1/1 [==============================] - 0s 6ms/step - loss: 5.7094 - mae: 5.7094\n",
            "Epoch 320/1000\n",
            "1/1 [==============================] - 0s 6ms/step - loss: 5.7037 - mae: 5.7037\n",
            "Epoch 321/1000\n",
            "1/1 [==============================] - 0s 6ms/step - loss: 5.6981 - mae: 5.6981\n",
            "Epoch 322/1000\n",
            "1/1 [==============================] - 0s 6ms/step - loss: 5.6925 - mae: 5.6925\n",
            "Epoch 323/1000\n",
            "1/1 [==============================] - 0s 6ms/step - loss: 5.6869 - mae: 5.6869\n",
            "Epoch 324/1000\n",
            "1/1 [==============================] - 0s 5ms/step - loss: 5.6812 - mae: 5.6812\n",
            "Epoch 325/1000\n",
            "1/1 [==============================] - 0s 6ms/step - loss: 5.6756 - mae: 5.6756\n",
            "Epoch 326/1000\n",
            "1/1 [==============================] - 0s 6ms/step - loss: 5.6700 - mae: 5.6700\n",
            "Epoch 327/1000\n",
            "1/1 [==============================] - 0s 6ms/step - loss: 5.6644 - mae: 5.6644\n",
            "Epoch 328/1000\n",
            "1/1 [==============================] - 0s 5ms/step - loss: 5.6587 - mae: 5.6587\n",
            "Epoch 329/1000\n",
            "1/1 [==============================] - 0s 6ms/step - loss: 5.6531 - mae: 5.6531\n",
            "Epoch 330/1000\n",
            "1/1 [==============================] - 0s 6ms/step - loss: 5.6475 - mae: 5.6475\n",
            "Epoch 331/1000\n",
            "1/1 [==============================] - 0s 6ms/step - loss: 5.6419 - mae: 5.6419\n",
            "Epoch 332/1000\n",
            "1/1 [==============================] - 0s 6ms/step - loss: 5.6362 - mae: 5.6362\n",
            "Epoch 333/1000\n",
            "1/1 [==============================] - 0s 6ms/step - loss: 5.6306 - mae: 5.6306\n",
            "Epoch 334/1000\n",
            "1/1 [==============================] - 0s 6ms/step - loss: 5.6250 - mae: 5.6250\n",
            "Epoch 335/1000\n",
            "1/1 [==============================] - 0s 6ms/step - loss: 5.6194 - mae: 5.6194\n",
            "Epoch 336/1000\n",
            "1/1 [==============================] - 0s 6ms/step - loss: 5.6137 - mae: 5.6137\n",
            "Epoch 337/1000\n",
            "1/1 [==============================] - 0s 6ms/step - loss: 5.6081 - mae: 5.6081\n",
            "Epoch 338/1000\n",
            "1/1 [==============================] - 0s 6ms/step - loss: 5.6025 - mae: 5.6025\n",
            "Epoch 339/1000\n",
            "1/1 [==============================] - 0s 6ms/step - loss: 5.5969 - mae: 5.5969\n",
            "Epoch 340/1000\n",
            "1/1 [==============================] - 0s 6ms/step - loss: 5.5912 - mae: 5.5912\n",
            "Epoch 341/1000\n",
            "1/1 [==============================] - 0s 6ms/step - loss: 5.5856 - mae: 5.5856\n",
            "Epoch 342/1000\n",
            "1/1 [==============================] - 0s 6ms/step - loss: 5.5800 - mae: 5.5800\n",
            "Epoch 343/1000\n",
            "1/1 [==============================] - 0s 5ms/step - loss: 5.5744 - mae: 5.5744\n",
            "Epoch 344/1000\n",
            "1/1 [==============================] - 0s 5ms/step - loss: 5.5687 - mae: 5.5687\n",
            "Epoch 345/1000\n",
            "1/1 [==============================] - 0s 6ms/step - loss: 5.5631 - mae: 5.5631\n",
            "Epoch 346/1000\n",
            "1/1 [==============================] - 0s 6ms/step - loss: 5.5575 - mae: 5.5575\n",
            "Epoch 347/1000\n",
            "1/1 [==============================] - 0s 6ms/step - loss: 5.5528 - mae: 5.5528\n",
            "Epoch 348/1000\n",
            "1/1 [==============================] - 0s 6ms/step - loss: 5.5481 - mae: 5.5481\n",
            "Epoch 349/1000\n",
            "1/1 [==============================] - 0s 6ms/step - loss: 5.5425 - mae: 5.5425\n",
            "Epoch 350/1000\n",
            "1/1 [==============================] - 0s 6ms/step - loss: 5.5369 - mae: 5.5369\n",
            "Epoch 351/1000\n",
            "1/1 [==============================] - 0s 6ms/step - loss: 5.5312 - mae: 5.5312\n",
            "Epoch 352/1000\n",
            "1/1 [==============================] - 0s 6ms/step - loss: 5.5256 - mae: 5.5256\n",
            "Epoch 353/1000\n",
            "1/1 [==============================] - 0s 6ms/step - loss: 5.5200 - mae: 5.5200\n",
            "Epoch 354/1000\n",
            "1/1 [==============================] - 0s 6ms/step - loss: 5.5144 - mae: 5.5144\n",
            "Epoch 355/1000\n",
            "1/1 [==============================] - 0s 6ms/step - loss: 5.5087 - mae: 5.5087\n",
            "Epoch 356/1000\n",
            "1/1 [==============================] - 0s 6ms/step - loss: 5.5031 - mae: 5.5031\n",
            "Epoch 357/1000\n",
            "1/1 [==============================] - 0s 6ms/step - loss: 5.4975 - mae: 5.4975\n",
            "Epoch 358/1000\n",
            "1/1 [==============================] - 0s 6ms/step - loss: 5.4919 - mae: 5.4919\n",
            "Epoch 359/1000\n",
            "1/1 [==============================] - 0s 6ms/step - loss: 5.4862 - mae: 5.4862\n",
            "Epoch 360/1000\n",
            "1/1 [==============================] - 0s 6ms/step - loss: 5.4806 - mae: 5.4806\n",
            "Epoch 361/1000\n",
            "1/1 [==============================] - 0s 6ms/step - loss: 5.4750 - mae: 5.4750\n",
            "Epoch 362/1000\n",
            "1/1 [==============================] - 0s 6ms/step - loss: 5.4694 - mae: 5.4694\n",
            "Epoch 363/1000\n",
            "1/1 [==============================] - 0s 6ms/step - loss: 5.4637 - mae: 5.4637\n",
            "Epoch 364/1000\n",
            "1/1 [==============================] - 0s 6ms/step - loss: 5.4581 - mae: 5.4581\n",
            "Epoch 365/1000\n",
            "1/1 [==============================] - 0s 6ms/step - loss: 5.4525 - mae: 5.4525\n",
            "Epoch 366/1000\n",
            "1/1 [==============================] - 0s 6ms/step - loss: 5.4469 - mae: 5.4469\n",
            "Epoch 367/1000\n",
            "1/1 [==============================] - 0s 5ms/step - loss: 5.4412 - mae: 5.4412\n",
            "Epoch 368/1000\n",
            "1/1 [==============================] - 0s 6ms/step - loss: 5.4356 - mae: 5.4356\n",
            "Epoch 369/1000\n",
            "1/1 [==============================] - 0s 5ms/step - loss: 5.4300 - mae: 5.4300\n",
            "Epoch 370/1000\n",
            "1/1 [==============================] - 0s 6ms/step - loss: 5.4244 - mae: 5.4244\n",
            "Epoch 371/1000\n",
            "1/1 [==============================] - 0s 6ms/step - loss: 5.4188 - mae: 5.4188\n",
            "Epoch 372/1000\n",
            "1/1 [==============================] - 0s 6ms/step - loss: 5.4131 - mae: 5.4131\n",
            "Epoch 373/1000\n",
            "1/1 [==============================] - 0s 5ms/step - loss: 5.4075 - mae: 5.4075\n",
            "Epoch 374/1000\n",
            "1/1 [==============================] - 0s 6ms/step - loss: 5.4019 - mae: 5.4019\n",
            "Epoch 375/1000\n",
            "1/1 [==============================] - 0s 6ms/step - loss: 5.3963 - mae: 5.3963\n",
            "Epoch 376/1000\n",
            "1/1 [==============================] - 0s 7ms/step - loss: 5.3906 - mae: 5.3906\n",
            "Epoch 377/1000\n",
            "1/1 [==============================] - 0s 6ms/step - loss: 5.3850 - mae: 5.3850\n",
            "Epoch 378/1000\n",
            "1/1 [==============================] - 0s 6ms/step - loss: 5.3794 - mae: 5.3794\n",
            "Epoch 379/1000\n",
            "1/1 [==============================] - 0s 6ms/step - loss: 5.3738 - mae: 5.3738\n",
            "Epoch 380/1000\n",
            "1/1 [==============================] - 0s 6ms/step - loss: 5.3681 - mae: 5.3681\n",
            "Epoch 381/1000\n",
            "1/1 [==============================] - 0s 6ms/step - loss: 5.3625 - mae: 5.3625\n",
            "Epoch 382/1000\n",
            "1/1 [==============================] - 0s 5ms/step - loss: 5.3569 - mae: 5.3569\n",
            "Epoch 383/1000\n",
            "1/1 [==============================] - 0s 6ms/step - loss: 5.3513 - mae: 5.3513\n",
            "Epoch 384/1000\n",
            "1/1 [==============================] - 0s 6ms/step - loss: 5.3456 - mae: 5.3456\n",
            "Epoch 385/1000\n",
            "1/1 [==============================] - 0s 6ms/step - loss: 5.3400 - mae: 5.3400\n",
            "Epoch 386/1000\n",
            "1/1 [==============================] - 0s 6ms/step - loss: 5.3344 - mae: 5.3344\n",
            "Epoch 387/1000\n",
            "1/1 [==============================] - 0s 6ms/step - loss: 5.3288 - mae: 5.3288\n",
            "Epoch 388/1000\n",
            "1/1 [==============================] - 0s 5ms/step - loss: 5.3247 - mae: 5.3247\n",
            "Epoch 389/1000\n",
            "1/1 [==============================] - 0s 5ms/step - loss: 5.3194 - mae: 5.3194\n",
            "Epoch 390/1000\n",
            "1/1 [==============================] - 0s 6ms/step - loss: 5.3138 - mae: 5.3138\n",
            "Epoch 391/1000\n",
            "1/1 [==============================] - 0s 6ms/step - loss: 5.3081 - mae: 5.3081\n",
            "Epoch 392/1000\n",
            "1/1 [==============================] - 0s 6ms/step - loss: 5.3025 - mae: 5.3025\n",
            "Epoch 393/1000\n",
            "1/1 [==============================] - 0s 6ms/step - loss: 5.2969 - mae: 5.2969\n",
            "Epoch 394/1000\n",
            "1/1 [==============================] - 0s 6ms/step - loss: 5.2913 - mae: 5.2913\n",
            "Epoch 395/1000\n",
            "1/1 [==============================] - 0s 6ms/step - loss: 5.2856 - mae: 5.2856\n",
            "Epoch 396/1000\n",
            "1/1 [==============================] - 0s 8ms/step - loss: 5.2800 - mae: 5.2800\n",
            "Epoch 397/1000\n",
            "1/1 [==============================] - 0s 6ms/step - loss: 5.2744 - mae: 5.2744\n",
            "Epoch 398/1000\n",
            "1/1 [==============================] - 0s 319ms/step - loss: 5.2688 - mae: 5.2688\n",
            "Epoch 399/1000\n",
            "1/1 [==============================] - 0s 6ms/step - loss: 5.2631 - mae: 5.2631\n",
            "Epoch 400/1000\n",
            "1/1 [==============================] - 0s 6ms/step - loss: 5.2575 - mae: 5.2575\n",
            "Epoch 401/1000\n",
            "1/1 [==============================] - 0s 6ms/step - loss: 5.2519 - mae: 5.2519\n",
            "Epoch 402/1000\n",
            "1/1 [==============================] - 0s 6ms/step - loss: 5.2463 - mae: 5.2463\n",
            "Epoch 403/1000\n",
            "1/1 [==============================] - 0s 6ms/step - loss: 5.2406 - mae: 5.2406\n",
            "Epoch 404/1000\n",
            "1/1 [==============================] - 0s 6ms/step - loss: 5.2350 - mae: 5.2350\n",
            "Epoch 405/1000\n",
            "1/1 [==============================] - 0s 6ms/step - loss: 5.2294 - mae: 5.2294\n",
            "Epoch 406/1000\n",
            "1/1 [==============================] - 0s 6ms/step - loss: 5.2238 - mae: 5.2238\n",
            "Epoch 407/1000\n",
            "1/1 [==============================] - 0s 5ms/step - loss: 5.2181 - mae: 5.2181\n",
            "Epoch 408/1000\n",
            "1/1 [==============================] - 0s 6ms/step - loss: 5.2125 - mae: 5.2125\n",
            "Epoch 409/1000\n",
            "1/1 [==============================] - 0s 6ms/step - loss: 5.2069 - mae: 5.2069\n",
            "Epoch 410/1000\n",
            "1/1 [==============================] - 0s 6ms/step - loss: 5.2013 - mae: 5.2013\n",
            "Epoch 411/1000\n",
            "1/1 [==============================] - 0s 6ms/step - loss: 5.1956 - mae: 5.1956\n",
            "Epoch 412/1000\n",
            "1/1 [==============================] - 0s 5ms/step - loss: 5.1900 - mae: 5.1900\n",
            "Epoch 413/1000\n",
            "1/1 [==============================] - 0s 6ms/step - loss: 5.1844 - mae: 5.1844\n",
            "Epoch 414/1000\n",
            "1/1 [==============================] - 0s 5ms/step - loss: 5.1788 - mae: 5.1788\n",
            "Epoch 415/1000\n",
            "1/1 [==============================] - 0s 5ms/step - loss: 5.1731 - mae: 5.1731\n",
            "Epoch 416/1000\n",
            "1/1 [==============================] - 0s 6ms/step - loss: 5.1675 - mae: 5.1675\n",
            "Epoch 417/1000\n",
            "1/1 [==============================] - 0s 14ms/step - loss: 5.1619 - mae: 5.1619\n",
            "Epoch 418/1000\n",
            "1/1 [==============================] - 0s 7ms/step - loss: 5.1563 - mae: 5.1563\n",
            "Epoch 419/1000\n",
            "1/1 [==============================] - 0s 8ms/step - loss: 5.1506 - mae: 5.1506\n",
            "Epoch 420/1000\n",
            "1/1 [==============================] - 0s 8ms/step - loss: 5.1450 - mae: 5.1450\n",
            "Epoch 421/1000\n",
            "1/1 [==============================] - 0s 10ms/step - loss: 5.1394 - mae: 5.1394\n",
            "Epoch 422/1000\n",
            "1/1 [==============================] - 0s 7ms/step - loss: 5.1338 - mae: 5.1338\n",
            "Epoch 423/1000\n",
            "1/1 [==============================] - 0s 6ms/step - loss: 5.1281 - mae: 5.1281\n",
            "Epoch 424/1000\n",
            "1/1 [==============================] - 0s 8ms/step - loss: 5.1225 - mae: 5.1225\n",
            "Epoch 425/1000\n",
            "1/1 [==============================] - 0s 9ms/step - loss: 5.1169 - mae: 5.1169\n",
            "Epoch 426/1000\n",
            "1/1 [==============================] - 0s 6ms/step - loss: 5.1113 - mae: 5.1113\n",
            "Epoch 427/1000\n",
            "1/1 [==============================] - 0s 6ms/step - loss: 5.1056 - mae: 5.1056\n",
            "Epoch 428/1000\n",
            "1/1 [==============================] - 0s 5ms/step - loss: 5.1003 - mae: 5.1003\n",
            "Epoch 429/1000\n",
            "1/1 [==============================] - 0s 6ms/step - loss: 5.0963 - mae: 5.0963\n",
            "Epoch 430/1000\n",
            "1/1 [==============================] - 0s 6ms/step - loss: 5.0906 - mae: 5.0906\n",
            "Epoch 431/1000\n",
            "1/1 [==============================] - 0s 9ms/step - loss: 5.0850 - mae: 5.0850\n",
            "Epoch 432/1000\n",
            "1/1 [==============================] - 0s 8ms/step - loss: 5.0794 - mae: 5.0794\n",
            "Epoch 433/1000\n",
            "1/1 [==============================] - 0s 7ms/step - loss: 5.0738 - mae: 5.0738\n",
            "Epoch 434/1000\n",
            "1/1 [==============================] - 0s 8ms/step - loss: 5.0681 - mae: 5.0681\n",
            "Epoch 435/1000\n",
            "1/1 [==============================] - 0s 9ms/step - loss: 5.0625 - mae: 5.0625\n",
            "Epoch 436/1000\n",
            "1/1 [==============================] - 0s 8ms/step - loss: 5.0569 - mae: 5.0569\n",
            "Epoch 437/1000\n",
            "1/1 [==============================] - 0s 7ms/step - loss: 5.0513 - mae: 5.0513\n",
            "Epoch 438/1000\n",
            "1/1 [==============================] - 0s 8ms/step - loss: 5.0456 - mae: 5.0456\n",
            "Epoch 439/1000\n",
            "1/1 [==============================] - 0s 10ms/step - loss: 5.0400 - mae: 5.0400\n",
            "Epoch 440/1000\n",
            "1/1 [==============================] - 0s 9ms/step - loss: 5.0344 - mae: 5.0344\n",
            "Epoch 441/1000\n",
            "1/1 [==============================] - 0s 10ms/step - loss: 5.0288 - mae: 5.0288\n",
            "Epoch 442/1000\n",
            "1/1 [==============================] - 0s 11ms/step - loss: 5.0231 - mae: 5.0231\n",
            "Epoch 443/1000\n",
            "1/1 [==============================] - 0s 12ms/step - loss: 5.0175 - mae: 5.0175\n",
            "Epoch 444/1000\n",
            "1/1 [==============================] - 0s 7ms/step - loss: 5.0119 - mae: 5.0119\n",
            "Epoch 445/1000\n",
            "1/1 [==============================] - 0s 10ms/step - loss: 5.0063 - mae: 5.0063\n",
            "Epoch 446/1000\n",
            "1/1 [==============================] - 0s 8ms/step - loss: 5.0006 - mae: 5.0006\n",
            "Epoch 447/1000\n",
            "1/1 [==============================] - 0s 10ms/step - loss: 4.9950 - mae: 4.9950\n",
            "Epoch 448/1000\n",
            "1/1 [==============================] - 0s 8ms/step - loss: 4.9894 - mae: 4.9894\n",
            "Epoch 449/1000\n",
            "1/1 [==============================] - 0s 10ms/step - loss: 4.9838 - mae: 4.9838\n",
            "Epoch 450/1000\n",
            "1/1 [==============================] - 0s 12ms/step - loss: 4.9781 - mae: 4.9781\n",
            "Epoch 451/1000\n",
            "1/1 [==============================] - 0s 12ms/step - loss: 4.9725 - mae: 4.9725\n",
            "Epoch 452/1000\n",
            "1/1 [==============================] - 0s 7ms/step - loss: 4.9669 - mae: 4.9669\n",
            "Epoch 453/1000\n",
            "1/1 [==============================] - 0s 8ms/step - loss: 4.9613 - mae: 4.9613\n",
            "Epoch 454/1000\n",
            "1/1 [==============================] - 0s 7ms/step - loss: 4.9556 - mae: 4.9556\n",
            "Epoch 455/1000\n",
            "1/1 [==============================] - 0s 8ms/step - loss: 4.9500 - mae: 4.9500\n",
            "Epoch 456/1000\n",
            "1/1 [==============================] - 0s 9ms/step - loss: 4.9444 - mae: 4.9444\n",
            "Epoch 457/1000\n",
            "1/1 [==============================] - 0s 11ms/step - loss: 4.9388 - mae: 4.9388\n",
            "Epoch 458/1000\n",
            "1/1 [==============================] - 0s 8ms/step - loss: 4.9331 - mae: 4.9331\n",
            "Epoch 459/1000\n",
            "1/1 [==============================] - 0s 8ms/step - loss: 4.9275 - mae: 4.9275\n",
            "Epoch 460/1000\n",
            "1/1 [==============================] - 0s 10ms/step - loss: 4.9219 - mae: 4.9219\n",
            "Epoch 461/1000\n",
            "1/1 [==============================] - 0s 9ms/step - loss: 4.9163 - mae: 4.9163\n",
            "Epoch 462/1000\n",
            "1/1 [==============================] - 0s 9ms/step - loss: 4.9106 - mae: 4.9106\n",
            "Epoch 463/1000\n",
            "1/1 [==============================] - 0s 14ms/step - loss: 4.9050 - mae: 4.9050\n",
            "Epoch 464/1000\n",
            "1/1 [==============================] - 0s 12ms/step - loss: 4.8994 - mae: 4.8994\n",
            "Epoch 465/1000\n",
            "1/1 [==============================] - 0s 12ms/step - loss: 4.8938 - mae: 4.8938\n",
            "Epoch 466/1000\n",
            "1/1 [==============================] - 0s 11ms/step - loss: 4.8881 - mae: 4.8881\n",
            "Epoch 467/1000\n",
            "1/1 [==============================] - 0s 8ms/step - loss: 4.8825 - mae: 4.8825\n",
            "Epoch 468/1000\n",
            "1/1 [==============================] - 0s 9ms/step - loss: 4.8769 - mae: 4.8769\n",
            "Epoch 469/1000\n",
            "1/1 [==============================] - 0s 8ms/step - loss: 4.8722 - mae: 4.8722\n",
            "Epoch 470/1000\n",
            "1/1 [==============================] - 0s 10ms/step - loss: 4.8675 - mae: 4.8675\n",
            "Epoch 471/1000\n",
            "1/1 [==============================] - 0s 8ms/step - loss: 4.8619 - mae: 4.8619\n",
            "Epoch 472/1000\n",
            "1/1 [==============================] - 0s 8ms/step - loss: 4.8563 - mae: 4.8563\n",
            "Epoch 473/1000\n",
            "1/1 [==============================] - 0s 10ms/step - loss: 4.8506 - mae: 4.8506\n",
            "Epoch 474/1000\n",
            "1/1 [==============================] - 0s 10ms/step - loss: 4.8450 - mae: 4.8450\n",
            "Epoch 475/1000\n",
            "1/1 [==============================] - 0s 8ms/step - loss: 4.8394 - mae: 4.8394\n",
            "Epoch 476/1000\n",
            "1/1 [==============================] - 0s 7ms/step - loss: 4.8338 - mae: 4.8338\n",
            "Epoch 477/1000\n",
            "1/1 [==============================] - 0s 9ms/step - loss: 4.8281 - mae: 4.8281\n",
            "Epoch 478/1000\n",
            "1/1 [==============================] - 0s 8ms/step - loss: 4.8225 - mae: 4.8225\n",
            "Epoch 479/1000\n",
            "1/1 [==============================] - 0s 6ms/step - loss: 4.8169 - mae: 4.8169\n",
            "Epoch 480/1000\n",
            "1/1 [==============================] - 0s 6ms/step - loss: 4.8113 - mae: 4.8113\n",
            "Epoch 481/1000\n",
            "1/1 [==============================] - 0s 6ms/step - loss: 4.8056 - mae: 4.8056\n",
            "Epoch 482/1000\n",
            "1/1 [==============================] - 0s 7ms/step - loss: 4.8000 - mae: 4.8000\n",
            "Epoch 483/1000\n",
            "1/1 [==============================] - 0s 9ms/step - loss: 4.7944 - mae: 4.7944\n",
            "Epoch 484/1000\n",
            "1/1 [==============================] - 0s 6ms/step - loss: 4.7888 - mae: 4.7888\n",
            "Epoch 485/1000\n",
            "1/1 [==============================] - 0s 6ms/step - loss: 4.7831 - mae: 4.7831\n",
            "Epoch 486/1000\n",
            "1/1 [==============================] - 0s 6ms/step - loss: 4.7775 - mae: 4.7775\n",
            "Epoch 487/1000\n",
            "1/1 [==============================] - 0s 6ms/step - loss: 4.7719 - mae: 4.7719\n",
            "Epoch 488/1000\n",
            "1/1 [==============================] - 0s 6ms/step - loss: 4.7663 - mae: 4.7663\n",
            "Epoch 489/1000\n",
            "1/1 [==============================] - 0s 5ms/step - loss: 4.7606 - mae: 4.7606\n",
            "Epoch 490/1000\n",
            "1/1 [==============================] - 0s 9ms/step - loss: 4.7550 - mae: 4.7550\n",
            "Epoch 491/1000\n",
            "1/1 [==============================] - 0s 6ms/step - loss: 4.7494 - mae: 4.7494\n",
            "Epoch 492/1000\n",
            "1/1 [==============================] - 0s 6ms/step - loss: 4.7438 - mae: 4.7438\n",
            "Epoch 493/1000\n",
            "1/1 [==============================] - 0s 6ms/step - loss: 4.7381 - mae: 4.7381\n",
            "Epoch 494/1000\n",
            "1/1 [==============================] - 0s 6ms/step - loss: 4.7325 - mae: 4.7325\n",
            "Epoch 495/1000\n",
            "1/1 [==============================] - 0s 6ms/step - loss: 4.7269 - mae: 4.7269\n",
            "Epoch 496/1000\n",
            "1/1 [==============================] - 0s 5ms/step - loss: 4.7213 - mae: 4.7213\n",
            "Epoch 497/1000\n",
            "1/1 [==============================] - 0s 6ms/step - loss: 4.7156 - mae: 4.7156\n",
            "Epoch 498/1000\n",
            "1/1 [==============================] - 0s 6ms/step - loss: 4.7100 - mae: 4.7100\n",
            "Epoch 499/1000\n",
            "1/1 [==============================] - 0s 6ms/step - loss: 4.7044 - mae: 4.7044\n",
            "Epoch 500/1000\n",
            "1/1 [==============================] - 0s 6ms/step - loss: 4.6988 - mae: 4.6988\n",
            "Epoch 501/1000\n",
            "1/1 [==============================] - 0s 7ms/step - loss: 4.6931 - mae: 4.6931\n",
            "Epoch 502/1000\n",
            "1/1 [==============================] - 0s 6ms/step - loss: 4.6875 - mae: 4.6875\n",
            "Epoch 503/1000\n",
            "1/1 [==============================] - 0s 6ms/step - loss: 4.6819 - mae: 4.6819\n",
            "Epoch 504/1000\n",
            "1/1 [==============================] - 0s 6ms/step - loss: 4.6763 - mae: 4.6763\n",
            "Epoch 505/1000\n",
            "1/1 [==============================] - 0s 7ms/step - loss: 4.6706 - mae: 4.6706\n",
            "Epoch 506/1000\n",
            "1/1 [==============================] - 0s 6ms/step - loss: 4.6650 - mae: 4.6650\n",
            "Epoch 507/1000\n",
            "1/1 [==============================] - 0s 6ms/step - loss: 4.6594 - mae: 4.6594\n",
            "Epoch 508/1000\n",
            "1/1 [==============================] - 0s 6ms/step - loss: 4.6538 - mae: 4.6538\n",
            "Epoch 509/1000\n",
            "1/1 [==============================] - 0s 6ms/step - loss: 4.6481 - mae: 4.6481\n",
            "Epoch 510/1000\n",
            "1/1 [==============================] - 0s 6ms/step - loss: 4.6440 - mae: 4.6440\n",
            "Epoch 511/1000\n",
            "1/1 [==============================] - 0s 6ms/step - loss: 4.6388 - mae: 4.6388\n",
            "Epoch 512/1000\n",
            "1/1 [==============================] - 0s 6ms/step - loss: 4.6331 - mae: 4.6331\n",
            "Epoch 513/1000\n",
            "1/1 [==============================] - 0s 6ms/step - loss: 4.6275 - mae: 4.6275\n",
            "Epoch 514/1000\n",
            "1/1 [==============================] - 0s 6ms/step - loss: 4.6219 - mae: 4.6219\n",
            "Epoch 515/1000\n",
            "1/1 [==============================] - 0s 6ms/step - loss: 4.6163 - mae: 4.6163\n",
            "Epoch 516/1000\n",
            "1/1 [==============================] - 0s 6ms/step - loss: 4.6106 - mae: 4.6106\n",
            "Epoch 517/1000\n",
            "1/1 [==============================] - 0s 6ms/step - loss: 4.6050 - mae: 4.6050\n",
            "Epoch 518/1000\n",
            "1/1 [==============================] - 0s 8ms/step - loss: 4.5994 - mae: 4.5994\n",
            "Epoch 519/1000\n",
            "1/1 [==============================] - 0s 6ms/step - loss: 4.5938 - mae: 4.5938\n",
            "Epoch 520/1000\n",
            "1/1 [==============================] - 0s 6ms/step - loss: 4.5881 - mae: 4.5881\n",
            "Epoch 521/1000\n",
            "1/1 [==============================] - 0s 6ms/step - loss: 4.5825 - mae: 4.5825\n",
            "Epoch 522/1000\n",
            "1/1 [==============================] - 0s 7ms/step - loss: 4.5769 - mae: 4.5769\n",
            "Epoch 523/1000\n",
            "1/1 [==============================] - 0s 8ms/step - loss: 4.5713 - mae: 4.5713\n",
            "Epoch 524/1000\n",
            "1/1 [==============================] - 0s 6ms/step - loss: 4.5656 - mae: 4.5656\n",
            "Epoch 525/1000\n",
            "1/1 [==============================] - 0s 9ms/step - loss: 4.5600 - mae: 4.5600\n",
            "Epoch 526/1000\n",
            "1/1 [==============================] - 0s 8ms/step - loss: 4.5544 - mae: 4.5544\n",
            "Epoch 527/1000\n",
            "1/1 [==============================] - 0s 7ms/step - loss: 4.5488 - mae: 4.5488\n",
            "Epoch 528/1000\n",
            "1/1 [==============================] - 0s 6ms/step - loss: 4.5431 - mae: 4.5431\n",
            "Epoch 529/1000\n",
            "1/1 [==============================] - 0s 6ms/step - loss: 4.5375 - mae: 4.5375\n",
            "Epoch 530/1000\n",
            "1/1 [==============================] - 0s 6ms/step - loss: 4.5319 - mae: 4.5319\n",
            "Epoch 531/1000\n",
            "1/1 [==============================] - 0s 6ms/step - loss: 4.5263 - mae: 4.5263\n",
            "Epoch 532/1000\n",
            "1/1 [==============================] - 0s 6ms/step - loss: 4.5206 - mae: 4.5206\n",
            "Epoch 533/1000\n",
            "1/1 [==============================] - 0s 6ms/step - loss: 4.5150 - mae: 4.5150\n",
            "Epoch 534/1000\n",
            "1/1 [==============================] - 0s 7ms/step - loss: 4.5094 - mae: 4.5094\n",
            "Epoch 535/1000\n",
            "1/1 [==============================] - 0s 6ms/step - loss: 4.5038 - mae: 4.5038\n",
            "Epoch 536/1000\n",
            "1/1 [==============================] - 0s 6ms/step - loss: 4.4981 - mae: 4.4981\n",
            "Epoch 537/1000\n",
            "1/1 [==============================] - 0s 6ms/step - loss: 4.4925 - mae: 4.4925\n",
            "Epoch 538/1000\n",
            "1/1 [==============================] - 0s 6ms/step - loss: 4.4869 - mae: 4.4869\n",
            "Epoch 539/1000\n",
            "1/1 [==============================] - 0s 6ms/step - loss: 4.4813 - mae: 4.4813\n",
            "Epoch 540/1000\n",
            "1/1 [==============================] - 0s 6ms/step - loss: 4.4756 - mae: 4.4756\n",
            "Epoch 541/1000\n",
            "1/1 [==============================] - 0s 11ms/step - loss: 4.4700 - mae: 4.4700\n",
            "Epoch 542/1000\n",
            "1/1 [==============================] - 0s 16ms/step - loss: 4.4644 - mae: 4.4644\n",
            "Epoch 543/1000\n",
            "1/1 [==============================] - 0s 10ms/step - loss: 4.4588 - mae: 4.4588\n",
            "Epoch 544/1000\n",
            "1/1 [==============================] - 0s 6ms/step - loss: 4.4531 - mae: 4.4531\n",
            "Epoch 545/1000\n",
            "1/1 [==============================] - 0s 6ms/step - loss: 4.4475 - mae: 4.4475\n",
            "Epoch 546/1000\n",
            "1/1 [==============================] - 0s 5ms/step - loss: 4.4419 - mae: 4.4419\n",
            "Epoch 547/1000\n",
            "1/1 [==============================] - 0s 10ms/step - loss: 4.4363 - mae: 4.4363\n",
            "Epoch 548/1000\n",
            "1/1 [==============================] - 0s 8ms/step - loss: 4.4306 - mae: 4.4306\n",
            "Epoch 549/1000\n",
            "1/1 [==============================] - 0s 9ms/step - loss: 4.4250 - mae: 4.4250\n",
            "Epoch 550/1000\n",
            "1/1 [==============================] - 0s 11ms/step - loss: 4.4197 - mae: 4.4197\n",
            "Epoch 551/1000\n",
            "1/1 [==============================] - 0s 6ms/step - loss: 4.4156 - mae: 4.4156\n",
            "Epoch 552/1000\n",
            "1/1 [==============================] - 0s 8ms/step - loss: 4.4100 - mae: 4.4100\n",
            "Epoch 553/1000\n",
            "1/1 [==============================] - 0s 8ms/step - loss: 4.4044 - mae: 4.4044\n",
            "Epoch 554/1000\n",
            "1/1 [==============================] - 0s 6ms/step - loss: 4.3988 - mae: 4.3988\n",
            "Epoch 555/1000\n",
            "1/1 [==============================] - 0s 7ms/step - loss: 4.3931 - mae: 4.3931\n",
            "Epoch 556/1000\n",
            "1/1 [==============================] - 0s 11ms/step - loss: 4.3875 - mae: 4.3875\n",
            "Epoch 557/1000\n",
            "1/1 [==============================] - 0s 7ms/step - loss: 4.3819 - mae: 4.3819\n",
            "Epoch 558/1000\n",
            "1/1 [==============================] - 0s 8ms/step - loss: 4.3763 - mae: 4.3763\n",
            "Epoch 559/1000\n",
            "1/1 [==============================] - 0s 9ms/step - loss: 4.3706 - mae: 4.3706\n",
            "Epoch 560/1000\n",
            "1/1 [==============================] - 0s 8ms/step - loss: 4.3650 - mae: 4.3650\n",
            "Epoch 561/1000\n",
            "1/1 [==============================] - 0s 8ms/step - loss: 4.3594 - mae: 4.3594\n",
            "Epoch 562/1000\n",
            "1/1 [==============================] - 0s 9ms/step - loss: 4.3538 - mae: 4.3538\n",
            "Epoch 563/1000\n",
            "1/1 [==============================] - 0s 9ms/step - loss: 4.3481 - mae: 4.3481\n",
            "Epoch 564/1000\n",
            "1/1 [==============================] - 0s 12ms/step - loss: 4.3425 - mae: 4.3425\n",
            "Epoch 565/1000\n",
            "1/1 [==============================] - 0s 336ms/step - loss: 4.3369 - mae: 4.3369\n",
            "Epoch 566/1000\n",
            "1/1 [==============================] - 0s 10ms/step - loss: 4.3313 - mae: 4.3313\n",
            "Epoch 567/1000\n",
            "1/1 [==============================] - 0s 15ms/step - loss: 4.3256 - mae: 4.3256\n",
            "Epoch 568/1000\n",
            "1/1 [==============================] - 0s 10ms/step - loss: 4.3200 - mae: 4.3200\n",
            "Epoch 569/1000\n",
            "1/1 [==============================] - 0s 7ms/step - loss: 4.3144 - mae: 4.3144\n",
            "Epoch 570/1000\n",
            "1/1 [==============================] - 0s 7ms/step - loss: 4.3088 - mae: 4.3088\n",
            "Epoch 571/1000\n",
            "1/1 [==============================] - 0s 7ms/step - loss: 4.3031 - mae: 4.3031\n",
            "Epoch 572/1000\n",
            "1/1 [==============================] - 0s 7ms/step - loss: 4.2975 - mae: 4.2975\n",
            "Epoch 573/1000\n",
            "1/1 [==============================] - 0s 7ms/step - loss: 4.2919 - mae: 4.2919\n",
            "Epoch 574/1000\n",
            "1/1 [==============================] - 0s 7ms/step - loss: 4.2863 - mae: 4.2863\n",
            "Epoch 575/1000\n",
            "1/1 [==============================] - 0s 7ms/step - loss: 4.2806 - mae: 4.2806\n",
            "Epoch 576/1000\n",
            "1/1 [==============================] - 0s 7ms/step - loss: 4.2750 - mae: 4.2750\n",
            "Epoch 577/1000\n",
            "1/1 [==============================] - 0s 10ms/step - loss: 4.2694 - mae: 4.2694\n",
            "Epoch 578/1000\n",
            "1/1 [==============================] - 0s 6ms/step - loss: 4.2638 - mae: 4.2638\n",
            "Epoch 579/1000\n",
            "1/1 [==============================] - 0s 7ms/step - loss: 4.2581 - mae: 4.2581\n",
            "Epoch 580/1000\n",
            "1/1 [==============================] - 0s 8ms/step - loss: 4.2525 - mae: 4.2525\n",
            "Epoch 581/1000\n",
            "1/1 [==============================] - 0s 6ms/step - loss: 4.2469 - mae: 4.2469\n",
            "Epoch 582/1000\n",
            "1/1 [==============================] - 0s 6ms/step - loss: 4.2413 - mae: 4.2413\n",
            "Epoch 583/1000\n",
            "1/1 [==============================] - 0s 7ms/step - loss: 4.2356 - mae: 4.2356\n",
            "Epoch 584/1000\n",
            "1/1 [==============================] - 0s 7ms/step - loss: 4.2300 - mae: 4.2300\n",
            "Epoch 585/1000\n",
            "1/1 [==============================] - 0s 7ms/step - loss: 4.2244 - mae: 4.2244\n",
            "Epoch 586/1000\n",
            "1/1 [==============================] - 0s 7ms/step - loss: 4.2188 - mae: 4.2188\n",
            "Epoch 587/1000\n",
            "1/1 [==============================] - 0s 7ms/step - loss: 4.2131 - mae: 4.2131\n",
            "Epoch 588/1000\n",
            "1/1 [==============================] - 0s 6ms/step - loss: 4.2075 - mae: 4.2075\n",
            "Epoch 589/1000\n",
            "1/1 [==============================] - 0s 6ms/step - loss: 4.2019 - mae: 4.2019\n",
            "Epoch 590/1000\n",
            "1/1 [==============================] - 0s 6ms/step - loss: 4.1963 - mae: 4.1963\n",
            "Epoch 591/1000\n",
            "1/1 [==============================] - 0s 6ms/step - loss: 4.1915 - mae: 4.1915\n",
            "Epoch 592/1000\n",
            "1/1 [==============================] - 0s 7ms/step - loss: 4.1869 - mae: 4.1869\n",
            "Epoch 593/1000\n",
            "1/1 [==============================] - 0s 6ms/step - loss: 4.1813 - mae: 4.1813\n",
            "Epoch 594/1000\n",
            "1/1 [==============================] - 0s 7ms/step - loss: 4.1756 - mae: 4.1756\n",
            "Epoch 595/1000\n",
            "1/1 [==============================] - 0s 7ms/step - loss: 4.1700 - mae: 4.1700\n",
            "Epoch 596/1000\n",
            "1/1 [==============================] - 0s 7ms/step - loss: 4.1644 - mae: 4.1644\n",
            "Epoch 597/1000\n",
            "1/1 [==============================] - 0s 7ms/step - loss: 4.1587 - mae: 4.1587\n",
            "Epoch 598/1000\n",
            "1/1 [==============================] - 0s 6ms/step - loss: 4.1531 - mae: 4.1531\n",
            "Epoch 599/1000\n",
            "1/1 [==============================] - 0s 6ms/step - loss: 4.1475 - mae: 4.1475\n",
            "Epoch 600/1000\n",
            "1/1 [==============================] - 0s 6ms/step - loss: 4.1419 - mae: 4.1419\n",
            "Epoch 601/1000\n",
            "1/1 [==============================] - 0s 6ms/step - loss: 4.1362 - mae: 4.1362\n",
            "Epoch 602/1000\n",
            "1/1 [==============================] - 0s 12ms/step - loss: 4.1306 - mae: 4.1306\n",
            "Epoch 603/1000\n",
            "1/1 [==============================] - 0s 7ms/step - loss: 4.1250 - mae: 4.1250\n",
            "Epoch 604/1000\n",
            "1/1 [==============================] - 0s 7ms/step - loss: 4.1194 - mae: 4.1194\n",
            "Epoch 605/1000\n",
            "1/1 [==============================] - 0s 6ms/step - loss: 4.1137 - mae: 4.1137\n",
            "Epoch 606/1000\n",
            "1/1 [==============================] - 0s 6ms/step - loss: 4.1081 - mae: 4.1081\n",
            "Epoch 607/1000\n",
            "1/1 [==============================] - 0s 6ms/step - loss: 4.1025 - mae: 4.1025\n",
            "Epoch 608/1000\n",
            "1/1 [==============================] - 0s 6ms/step - loss: 4.0969 - mae: 4.0969\n",
            "Epoch 609/1000\n",
            "1/1 [==============================] - 0s 6ms/step - loss: 4.0912 - mae: 4.0912\n",
            "Epoch 610/1000\n",
            "1/1 [==============================] - 0s 6ms/step - loss: 4.0856 - mae: 4.0856\n",
            "Epoch 611/1000\n",
            "1/1 [==============================] - 0s 6ms/step - loss: 4.0800 - mae: 4.0800\n",
            "Epoch 612/1000\n",
            "1/1 [==============================] - 0s 6ms/step - loss: 4.0744 - mae: 4.0744\n",
            "Epoch 613/1000\n",
            "1/1 [==============================] - 0s 7ms/step - loss: 4.0687 - mae: 4.0687\n",
            "Epoch 614/1000\n",
            "1/1 [==============================] - 0s 11ms/step - loss: 4.0631 - mae: 4.0631\n",
            "Epoch 615/1000\n",
            "1/1 [==============================] - 0s 11ms/step - loss: 4.0575 - mae: 4.0575\n",
            "Epoch 616/1000\n",
            "1/1 [==============================] - 0s 9ms/step - loss: 4.0519 - mae: 4.0519\n",
            "Epoch 617/1000\n",
            "1/1 [==============================] - 0s 7ms/step - loss: 4.0462 - mae: 4.0462\n",
            "Epoch 618/1000\n",
            "1/1 [==============================] - 0s 6ms/step - loss: 4.0406 - mae: 4.0406\n",
            "Epoch 619/1000\n",
            "1/1 [==============================] - 0s 6ms/step - loss: 4.0350 - mae: 4.0350\n",
            "Epoch 620/1000\n",
            "1/1 [==============================] - 0s 8ms/step - loss: 4.0294 - mae: 4.0294\n",
            "Epoch 621/1000\n",
            "1/1 [==============================] - 0s 7ms/step - loss: 4.0237 - mae: 4.0237\n",
            "Epoch 622/1000\n",
            "1/1 [==============================] - 0s 8ms/step - loss: 4.0181 - mae: 4.0181\n",
            "Epoch 623/1000\n",
            "1/1 [==============================] - 0s 6ms/step - loss: 4.0125 - mae: 4.0125\n",
            "Epoch 624/1000\n",
            "1/1 [==============================] - 0s 7ms/step - loss: 4.0069 - mae: 4.0069\n",
            "Epoch 625/1000\n",
            "1/1 [==============================] - 0s 7ms/step - loss: 4.0012 - mae: 4.0012\n",
            "Epoch 626/1000\n",
            "1/1 [==============================] - 0s 6ms/step - loss: 3.9956 - mae: 3.9956\n",
            "Epoch 627/1000\n",
            "1/1 [==============================] - 0s 6ms/step - loss: 3.9900 - mae: 3.9900\n",
            "Epoch 628/1000\n",
            "1/1 [==============================] - 0s 6ms/step - loss: 3.9844 - mae: 3.9844\n",
            "Epoch 629/1000\n",
            "1/1 [==============================] - 0s 7ms/step - loss: 3.9787 - mae: 3.9787\n",
            "Epoch 630/1000\n",
            "1/1 [==============================] - 0s 7ms/step - loss: 3.9731 - mae: 3.9731\n",
            "Epoch 631/1000\n",
            "1/1 [==============================] - 0s 7ms/step - loss: 3.9675 - mae: 3.9675\n",
            "Epoch 632/1000\n",
            "1/1 [==============================] - 0s 7ms/step - loss: 3.9634 - mae: 3.9634\n",
            "Epoch 633/1000\n",
            "1/1 [==============================] - 0s 7ms/step - loss: 3.9581 - mae: 3.9581\n",
            "Epoch 634/1000\n",
            "1/1 [==============================] - 0s 7ms/step - loss: 3.9525 - mae: 3.9525\n",
            "Epoch 635/1000\n",
            "1/1 [==============================] - 0s 7ms/step - loss: 3.9469 - mae: 3.9469\n",
            "Epoch 636/1000\n",
            "1/1 [==============================] - 0s 7ms/step - loss: 3.9412 - mae: 3.9412\n",
            "Epoch 637/1000\n",
            "1/1 [==============================] - 0s 7ms/step - loss: 3.9356 - mae: 3.9356\n",
            "Epoch 638/1000\n",
            "1/1 [==============================] - 0s 6ms/step - loss: 3.9300 - mae: 3.9300\n",
            "Epoch 639/1000\n",
            "1/1 [==============================] - 0s 7ms/step - loss: 3.9244 - mae: 3.9244\n",
            "Epoch 640/1000\n",
            "1/1 [==============================] - 0s 7ms/step - loss: 3.9187 - mae: 3.9187\n",
            "Epoch 641/1000\n",
            "1/1 [==============================] - 0s 7ms/step - loss: 3.9131 - mae: 3.9131\n",
            "Epoch 642/1000\n",
            "1/1 [==============================] - 0s 6ms/step - loss: 3.9075 - mae: 3.9075\n",
            "Epoch 643/1000\n",
            "1/1 [==============================] - 0s 6ms/step - loss: 3.9019 - mae: 3.9019\n",
            "Epoch 644/1000\n",
            "1/1 [==============================] - 0s 7ms/step - loss: 3.8962 - mae: 3.8962\n",
            "Epoch 645/1000\n",
            "1/1 [==============================] - 0s 7ms/step - loss: 3.8906 - mae: 3.8906\n",
            "Epoch 646/1000\n",
            "1/1 [==============================] - 0s 9ms/step - loss: 3.8850 - mae: 3.8850\n",
            "Epoch 647/1000\n",
            "1/1 [==============================] - 0s 7ms/step - loss: 3.8794 - mae: 3.8794\n",
            "Epoch 648/1000\n",
            "1/1 [==============================] - 0s 304ms/step - loss: 3.8737 - mae: 3.8737\n",
            "Epoch 649/1000\n",
            "1/1 [==============================] - 0s 6ms/step - loss: 3.8681 - mae: 3.8681\n",
            "Epoch 650/1000\n",
            "1/1 [==============================] - 0s 7ms/step - loss: 3.8625 - mae: 3.8625\n",
            "Epoch 651/1000\n",
            "1/1 [==============================] - 0s 8ms/step - loss: 3.8569 - mae: 3.8569\n",
            "Epoch 652/1000\n",
            "1/1 [==============================] - 0s 7ms/step - loss: 3.8512 - mae: 3.8512\n",
            "Epoch 653/1000\n",
            "1/1 [==============================] - 0s 17ms/step - loss: 3.8456 - mae: 3.8456\n",
            "Epoch 654/1000\n",
            "1/1 [==============================] - 0s 12ms/step - loss: 3.8400 - mae: 3.8400\n",
            "Epoch 655/1000\n",
            "1/1 [==============================] - 0s 12ms/step - loss: 3.8344 - mae: 3.8344\n",
            "Epoch 656/1000\n",
            "1/1 [==============================] - 0s 11ms/step - loss: 3.8287 - mae: 3.8287\n",
            "Epoch 657/1000\n",
            "1/1 [==============================] - 0s 9ms/step - loss: 3.8231 - mae: 3.8231\n",
            "Epoch 658/1000\n",
            "1/1 [==============================] - 0s 10ms/step - loss: 3.8175 - mae: 3.8175\n",
            "Epoch 659/1000\n",
            "1/1 [==============================] - 0s 14ms/step - loss: 3.8119 - mae: 3.8119\n",
            "Epoch 660/1000\n",
            "1/1 [==============================] - 0s 14ms/step - loss: 3.8062 - mae: 3.8062\n",
            "Epoch 661/1000\n",
            "1/1 [==============================] - 0s 12ms/step - loss: 3.8006 - mae: 3.8006\n",
            "Epoch 662/1000\n",
            "1/1 [==============================] - 0s 13ms/step - loss: 3.7950 - mae: 3.7950\n",
            "Epoch 663/1000\n",
            "1/1 [==============================] - 0s 9ms/step - loss: 3.7894 - mae: 3.7894\n",
            "Epoch 664/1000\n",
            "1/1 [==============================] - 0s 14ms/step - loss: 3.7837 - mae: 3.7837\n",
            "Epoch 665/1000\n",
            "1/1 [==============================] - 0s 13ms/step - loss: 3.7781 - mae: 3.7781\n",
            "Epoch 666/1000\n",
            "1/1 [==============================] - 0s 9ms/step - loss: 3.7725 - mae: 3.7725\n",
            "Epoch 667/1000\n",
            "1/1 [==============================] - 0s 13ms/step - loss: 3.7669 - mae: 3.7669\n",
            "Epoch 668/1000\n",
            "1/1 [==============================] - 0s 7ms/step - loss: 3.7612 - mae: 3.7612\n",
            "Epoch 669/1000\n",
            "1/1 [==============================] - 0s 12ms/step - loss: 3.7556 - mae: 3.7556\n",
            "Epoch 670/1000\n",
            "1/1 [==============================] - 0s 6ms/step - loss: 3.7500 - mae: 3.7500\n",
            "Epoch 671/1000\n",
            "1/1 [==============================] - 0s 13ms/step - loss: 3.7444 - mae: 3.7444\n",
            "Epoch 672/1000\n",
            "1/1 [==============================] - 0s 10ms/step - loss: 3.7390 - mae: 3.7390\n",
            "Epoch 673/1000\n",
            "1/1 [==============================] - 0s 11ms/step - loss: 3.7350 - mae: 3.7350\n",
            "Epoch 674/1000\n",
            "1/1 [==============================] - 0s 7ms/step - loss: 3.7294 - mae: 3.7294\n",
            "Epoch 675/1000\n",
            "1/1 [==============================] - 0s 7ms/step - loss: 3.7237 - mae: 3.7237\n",
            "Epoch 676/1000\n",
            "1/1 [==============================] - 0s 9ms/step - loss: 3.7181 - mae: 3.7181\n",
            "Epoch 677/1000\n",
            "1/1 [==============================] - 0s 8ms/step - loss: 3.7125 - mae: 3.7125\n",
            "Epoch 678/1000\n",
            "1/1 [==============================] - 0s 9ms/step - loss: 3.7069 - mae: 3.7069\n",
            "Epoch 679/1000\n",
            "1/1 [==============================] - 0s 9ms/step - loss: 3.7012 - mae: 3.7012\n",
            "Epoch 680/1000\n",
            "1/1 [==============================] - 0s 10ms/step - loss: 3.6956 - mae: 3.6956\n",
            "Epoch 681/1000\n",
            "1/1 [==============================] - 0s 13ms/step - loss: 3.6900 - mae: 3.6900\n",
            "Epoch 682/1000\n",
            "1/1 [==============================] - 0s 8ms/step - loss: 3.6844 - mae: 3.6844\n",
            "Epoch 683/1000\n",
            "1/1 [==============================] - 0s 9ms/step - loss: 3.6787 - mae: 3.6787\n",
            "Epoch 684/1000\n",
            "1/1 [==============================] - 0s 11ms/step - loss: 3.6731 - mae: 3.6731\n",
            "Epoch 685/1000\n",
            "1/1 [==============================] - 0s 8ms/step - loss: 3.6675 - mae: 3.6675\n",
            "Epoch 686/1000\n",
            "1/1 [==============================] - 0s 11ms/step - loss: 3.6619 - mae: 3.6619\n",
            "Epoch 687/1000\n",
            "1/1 [==============================] - 0s 10ms/step - loss: 3.6562 - mae: 3.6562\n",
            "Epoch 688/1000\n",
            "1/1 [==============================] - 0s 9ms/step - loss: 3.6506 - mae: 3.6506\n",
            "Epoch 689/1000\n",
            "1/1 [==============================] - 0s 8ms/step - loss: 3.6450 - mae: 3.6450\n",
            "Epoch 690/1000\n",
            "1/1 [==============================] - 0s 11ms/step - loss: 3.6394 - mae: 3.6394\n",
            "Epoch 691/1000\n",
            "1/1 [==============================] - 0s 13ms/step - loss: 3.6337 - mae: 3.6337\n",
            "Epoch 692/1000\n",
            "1/1 [==============================] - 0s 8ms/step - loss: 3.6281 - mae: 3.6281\n",
            "Epoch 693/1000\n",
            "1/1 [==============================] - 0s 9ms/step - loss: 3.6225 - mae: 3.6225\n",
            "Epoch 694/1000\n",
            "1/1 [==============================] - 0s 12ms/step - loss: 3.6169 - mae: 3.6169\n",
            "Epoch 695/1000\n",
            "1/1 [==============================] - 0s 10ms/step - loss: 3.6112 - mae: 3.6112\n",
            "Epoch 696/1000\n",
            "1/1 [==============================] - 0s 9ms/step - loss: 3.6056 - mae: 3.6056\n",
            "Epoch 697/1000\n",
            "1/1 [==============================] - 0s 7ms/step - loss: 3.6000 - mae: 3.6000\n",
            "Epoch 698/1000\n",
            "1/1 [==============================] - 0s 13ms/step - loss: 3.5944 - mae: 3.5944\n",
            "Epoch 699/1000\n",
            "1/1 [==============================] - 0s 11ms/step - loss: 3.5887 - mae: 3.5887\n",
            "Epoch 700/1000\n",
            "1/1 [==============================] - 0s 13ms/step - loss: 3.5831 - mae: 3.5831\n",
            "Epoch 701/1000\n",
            "1/1 [==============================] - 0s 13ms/step - loss: 3.5775 - mae: 3.5775\n",
            "Epoch 702/1000\n",
            "1/1 [==============================] - 0s 14ms/step - loss: 3.5719 - mae: 3.5719\n",
            "Epoch 703/1000\n",
            "1/1 [==============================] - 0s 9ms/step - loss: 3.5662 - mae: 3.5662\n",
            "Epoch 704/1000\n",
            "1/1 [==============================] - 0s 8ms/step - loss: 3.5606 - mae: 3.5606\n",
            "Epoch 705/1000\n",
            "1/1 [==============================] - 0s 8ms/step - loss: 3.5550 - mae: 3.5550\n",
            "Epoch 706/1000\n",
            "1/1 [==============================] - 0s 12ms/step - loss: 3.5494 - mae: 3.5494\n",
            "Epoch 707/1000\n",
            "1/1 [==============================] - 0s 7ms/step - loss: 3.5437 - mae: 3.5437\n",
            "Epoch 708/1000\n",
            "1/1 [==============================] - 0s 10ms/step - loss: 3.5381 - mae: 3.5381\n",
            "Epoch 709/1000\n",
            "1/1 [==============================] - 0s 8ms/step - loss: 3.5325 - mae: 3.5325\n",
            "Epoch 710/1000\n",
            "1/1 [==============================] - 0s 11ms/step - loss: 3.5269 - mae: 3.5269\n",
            "Epoch 711/1000\n",
            "1/1 [==============================] - 0s 8ms/step - loss: 3.5212 - mae: 3.5212\n",
            "Epoch 712/1000\n",
            "1/1 [==============================] - 0s 7ms/step - loss: 3.5156 - mae: 3.5156\n",
            "Epoch 713/1000\n",
            "1/1 [==============================] - 0s 9ms/step - loss: 3.5109 - mae: 3.5109\n",
            "Epoch 714/1000\n",
            "1/1 [==============================] - 0s 11ms/step - loss: 3.5062 - mae: 3.5062\n",
            "Epoch 715/1000\n",
            "1/1 [==============================] - 0s 10ms/step - loss: 3.5006 - mae: 3.5006\n",
            "Epoch 716/1000\n",
            "1/1 [==============================] - 0s 12ms/step - loss: 3.4950 - mae: 3.4950\n",
            "Epoch 717/1000\n",
            "1/1 [==============================] - 0s 7ms/step - loss: 3.4894 - mae: 3.4894\n",
            "Epoch 718/1000\n",
            "1/1 [==============================] - 0s 10ms/step - loss: 3.4837 - mae: 3.4837\n",
            "Epoch 719/1000\n",
            "1/1 [==============================] - 0s 12ms/step - loss: 3.4781 - mae: 3.4781\n",
            "Epoch 720/1000\n",
            "1/1 [==============================] - 0s 10ms/step - loss: 3.4725 - mae: 3.4725\n",
            "Epoch 721/1000\n",
            "1/1 [==============================] - 0s 10ms/step - loss: 3.4669 - mae: 3.4669\n",
            "Epoch 722/1000\n",
            "1/1 [==============================] - 0s 13ms/step - loss: 3.4612 - mae: 3.4612\n",
            "Epoch 723/1000\n",
            "1/1 [==============================] - 0s 10ms/step - loss: 3.4556 - mae: 3.4556\n",
            "Epoch 724/1000\n",
            "1/1 [==============================] - 0s 10ms/step - loss: 3.4500 - mae: 3.4500\n",
            "Epoch 725/1000\n",
            "1/1 [==============================] - 0s 9ms/step - loss: 3.4444 - mae: 3.4444\n",
            "Epoch 726/1000\n",
            "1/1 [==============================] - 0s 10ms/step - loss: 3.4387 - mae: 3.4387\n",
            "Epoch 727/1000\n",
            "1/1 [==============================] - 0s 10ms/step - loss: 3.4331 - mae: 3.4331\n",
            "Epoch 728/1000\n",
            "1/1 [==============================] - 0s 8ms/step - loss: 3.4275 - mae: 3.4275\n",
            "Epoch 729/1000\n",
            "1/1 [==============================] - 0s 10ms/step - loss: 3.4219 - mae: 3.4219\n",
            "Epoch 730/1000\n",
            "1/1 [==============================] - 0s 11ms/step - loss: 3.4162 - mae: 3.4162\n",
            "Epoch 731/1000\n",
            "1/1 [==============================] - 0s 15ms/step - loss: 3.4106 - mae: 3.4106\n",
            "Epoch 732/1000\n",
            "1/1 [==============================] - 0s 9ms/step - loss: 3.4050 - mae: 3.4050\n",
            "Epoch 733/1000\n",
            "1/1 [==============================] - 0s 9ms/step - loss: 3.3994 - mae: 3.3994\n",
            "Epoch 734/1000\n",
            "1/1 [==============================] - 0s 10ms/step - loss: 3.3937 - mae: 3.3937\n",
            "Epoch 735/1000\n",
            "1/1 [==============================] - 0s 8ms/step - loss: 3.3881 - mae: 3.3881\n",
            "Epoch 736/1000\n",
            "1/1 [==============================] - 0s 9ms/step - loss: 3.3825 - mae: 3.3825\n",
            "Epoch 737/1000\n",
            "1/1 [==============================] - 0s 11ms/step - loss: 3.3769 - mae: 3.3769\n",
            "Epoch 738/1000\n",
            "1/1 [==============================] - 0s 9ms/step - loss: 3.3712 - mae: 3.3712\n",
            "Epoch 739/1000\n",
            "1/1 [==============================] - 0s 11ms/step - loss: 3.3656 - mae: 3.3656\n",
            "Epoch 740/1000\n",
            "1/1 [==============================] - 0s 10ms/step - loss: 3.3600 - mae: 3.3600\n",
            "Epoch 741/1000\n",
            "1/1 [==============================] - 0s 9ms/step - loss: 3.3544 - mae: 3.3544\n",
            "Epoch 742/1000\n",
            "1/1 [==============================] - 0s 8ms/step - loss: 3.3487 - mae: 3.3487\n",
            "Epoch 743/1000\n",
            "1/1 [==============================] - 0s 11ms/step - loss: 3.3431 - mae: 3.3431\n",
            "Epoch 744/1000\n",
            "1/1 [==============================] - 0s 11ms/step - loss: 3.3375 - mae: 3.3375\n",
            "Epoch 745/1000\n",
            "1/1 [==============================] - 0s 12ms/step - loss: 3.3319 - mae: 3.3319\n",
            "Epoch 746/1000\n",
            "1/1 [==============================] - 0s 9ms/step - loss: 3.3262 - mae: 3.3262\n",
            "Epoch 747/1000\n",
            "1/1 [==============================] - 0s 8ms/step - loss: 3.3206 - mae: 3.3206\n",
            "Epoch 748/1000\n",
            "1/1 [==============================] - 0s 13ms/step - loss: 3.3150 - mae: 3.3150\n",
            "Epoch 749/1000\n",
            "1/1 [==============================] - 0s 12ms/step - loss: 3.3094 - mae: 3.3094\n",
            "Epoch 750/1000\n",
            "1/1 [==============================] - 0s 5ms/step - loss: 3.3037 - mae: 3.3037\n",
            "Epoch 751/1000\n",
            "1/1 [==============================] - 0s 10ms/step - loss: 3.2981 - mae: 3.2981\n",
            "Epoch 752/1000\n",
            "1/1 [==============================] - 0s 6ms/step - loss: 3.2925 - mae: 3.2925\n",
            "Epoch 753/1000\n",
            "1/1 [==============================] - 0s 5ms/step - loss: 3.2869 - mae: 3.2869\n",
            "Epoch 754/1000\n",
            "1/1 [==============================] - 0s 5ms/step - loss: 3.2828 - mae: 3.2828\n",
            "Epoch 755/1000\n",
            "1/1 [==============================] - 0s 6ms/step - loss: 3.2775 - mae: 3.2775\n",
            "Epoch 756/1000\n",
            "1/1 [==============================] - 0s 5ms/step - loss: 3.2719 - mae: 3.2719\n",
            "Epoch 757/1000\n",
            "1/1 [==============================] - 0s 5ms/step - loss: 3.2662 - mae: 3.2662\n",
            "Epoch 758/1000\n",
            "1/1 [==============================] - 0s 6ms/step - loss: 3.2606 - mae: 3.2606\n",
            "Epoch 759/1000\n",
            "1/1 [==============================] - 0s 5ms/step - loss: 3.2550 - mae: 3.2550\n",
            "Epoch 760/1000\n",
            "1/1 [==============================] - 0s 5ms/step - loss: 3.2494 - mae: 3.2494\n",
            "Epoch 761/1000\n",
            "1/1 [==============================] - 0s 5ms/step - loss: 3.2437 - mae: 3.2437\n",
            "Epoch 762/1000\n",
            "1/1 [==============================] - 0s 5ms/step - loss: 3.2381 - mae: 3.2381\n",
            "Epoch 763/1000\n",
            "1/1 [==============================] - 0s 5ms/step - loss: 3.2325 - mae: 3.2325\n",
            "Epoch 764/1000\n",
            "1/1 [==============================] - 0s 5ms/step - loss: 3.2269 - mae: 3.2269\n",
            "Epoch 765/1000\n",
            "1/1 [==============================] - 0s 5ms/step - loss: 3.2212 - mae: 3.2212\n",
            "Epoch 766/1000\n",
            "1/1 [==============================] - 0s 5ms/step - loss: 3.2156 - mae: 3.2156\n",
            "Epoch 767/1000\n",
            "1/1 [==============================] - 0s 5ms/step - loss: 3.2100 - mae: 3.2100\n",
            "Epoch 768/1000\n",
            "1/1 [==============================] - 0s 5ms/step - loss: 3.2044 - mae: 3.2044\n",
            "Epoch 769/1000\n",
            "1/1 [==============================] - 0s 5ms/step - loss: 3.1987 - mae: 3.1987\n",
            "Epoch 770/1000\n",
            "1/1 [==============================] - 0s 5ms/step - loss: 3.1931 - mae: 3.1931\n",
            "Epoch 771/1000\n",
            "1/1 [==============================] - 0s 6ms/step - loss: 3.1875 - mae: 3.1875\n",
            "Epoch 772/1000\n",
            "1/1 [==============================] - 0s 5ms/step - loss: 3.1819 - mae: 3.1819\n",
            "Epoch 773/1000\n",
            "1/1 [==============================] - 0s 5ms/step - loss: 3.1762 - mae: 3.1762\n",
            "Epoch 774/1000\n",
            "1/1 [==============================] - 0s 6ms/step - loss: 3.1706 - mae: 3.1706\n",
            "Epoch 775/1000\n",
            "1/1 [==============================] - 0s 5ms/step - loss: 3.1650 - mae: 3.1650\n",
            "Epoch 776/1000\n",
            "1/1 [==============================] - 0s 5ms/step - loss: 3.1594 - mae: 3.1594\n",
            "Epoch 777/1000\n",
            "1/1 [==============================] - 0s 5ms/step - loss: 3.1537 - mae: 3.1537\n",
            "Epoch 778/1000\n",
            "1/1 [==============================] - 0s 5ms/step - loss: 3.1481 - mae: 3.1481\n",
            "Epoch 779/1000\n",
            "1/1 [==============================] - 0s 5ms/step - loss: 3.1425 - mae: 3.1425\n",
            "Epoch 780/1000\n",
            "1/1 [==============================] - 0s 5ms/step - loss: 3.1369 - mae: 3.1369\n",
            "Epoch 781/1000\n",
            "1/1 [==============================] - 0s 5ms/step - loss: 3.1312 - mae: 3.1312\n",
            "Epoch 782/1000\n",
            "1/1 [==============================] - 0s 5ms/step - loss: 3.1256 - mae: 3.1256\n",
            "Epoch 783/1000\n",
            "1/1 [==============================] - 0s 5ms/step - loss: 3.1200 - mae: 3.1200\n",
            "Epoch 784/1000\n",
            "1/1 [==============================] - 0s 5ms/step - loss: 3.1144 - mae: 3.1144\n",
            "Epoch 785/1000\n",
            "1/1 [==============================] - 0s 5ms/step - loss: 3.1087 - mae: 3.1087\n",
            "Epoch 786/1000\n",
            "1/1 [==============================] - 0s 6ms/step - loss: 3.1031 - mae: 3.1031\n",
            "Epoch 787/1000\n",
            "1/1 [==============================] - 0s 5ms/step - loss: 3.0975 - mae: 3.0975\n",
            "Epoch 788/1000\n",
            "1/1 [==============================] - 0s 5ms/step - loss: 3.0919 - mae: 3.0919\n",
            "Epoch 789/1000\n",
            "1/1 [==============================] - 0s 5ms/step - loss: 3.0862 - mae: 3.0862\n",
            "Epoch 790/1000\n",
            "1/1 [==============================] - 0s 5ms/step - loss: 3.0806 - mae: 3.0806\n",
            "Epoch 791/1000\n",
            "1/1 [==============================] - 0s 5ms/step - loss: 3.0750 - mae: 3.0750\n",
            "Epoch 792/1000\n",
            "1/1 [==============================] - 0s 6ms/step - loss: 3.0694 - mae: 3.0694\n",
            "Epoch 793/1000\n",
            "1/1 [==============================] - 0s 5ms/step - loss: 3.0637 - mae: 3.0637\n",
            "Epoch 794/1000\n",
            "1/1 [==============================] - 0s 5ms/step - loss: 3.0584 - mae: 3.0584\n",
            "Epoch 795/1000\n",
            "1/1 [==============================] - 0s 6ms/step - loss: 3.0543 - mae: 3.0543\n",
            "Epoch 796/1000\n",
            "1/1 [==============================] - 0s 5ms/step - loss: 3.0487 - mae: 3.0487\n",
            "Epoch 797/1000\n",
            "1/1 [==============================] - 0s 5ms/step - loss: 3.0431 - mae: 3.0431\n",
            "Epoch 798/1000\n",
            "1/1 [==============================] - 0s 5ms/step - loss: 3.0375 - mae: 3.0375\n",
            "Epoch 799/1000\n",
            "1/1 [==============================] - 0s 5ms/step - loss: 3.0318 - mae: 3.0318\n",
            "Epoch 800/1000\n",
            "1/1 [==============================] - 0s 5ms/step - loss: 3.0262 - mae: 3.0262\n",
            "Epoch 801/1000\n",
            "1/1 [==============================] - 0s 6ms/step - loss: 3.0206 - mae: 3.0206\n",
            "Epoch 802/1000\n",
            "1/1 [==============================] - 0s 5ms/step - loss: 3.0150 - mae: 3.0150\n",
            "Epoch 803/1000\n",
            "1/1 [==============================] - 0s 5ms/step - loss: 3.0093 - mae: 3.0093\n",
            "Epoch 804/1000\n",
            "1/1 [==============================] - 0s 6ms/step - loss: 3.0037 - mae: 3.0037\n",
            "Epoch 805/1000\n",
            "1/1 [==============================] - 0s 5ms/step - loss: 2.9981 - mae: 2.9981\n",
            "Epoch 806/1000\n",
            "1/1 [==============================] - 0s 7ms/step - loss: 2.9925 - mae: 2.9925\n",
            "Epoch 807/1000\n",
            "1/1 [==============================] - 0s 6ms/step - loss: 2.9868 - mae: 2.9868\n",
            "Epoch 808/1000\n",
            "1/1 [==============================] - 0s 5ms/step - loss: 2.9812 - mae: 2.9812\n",
            "Epoch 809/1000\n",
            "1/1 [==============================] - 0s 5ms/step - loss: 2.9756 - mae: 2.9756\n",
            "Epoch 810/1000\n",
            "1/1 [==============================] - 0s 6ms/step - loss: 2.9700 - mae: 2.9700\n",
            "Epoch 811/1000\n",
            "1/1 [==============================] - 0s 7ms/step - loss: 2.9643 - mae: 2.9643\n",
            "Epoch 812/1000\n",
            "1/1 [==============================] - 0s 7ms/step - loss: 2.9587 - mae: 2.9587\n",
            "Epoch 813/1000\n",
            "1/1 [==============================] - 0s 5ms/step - loss: 2.9531 - mae: 2.9531\n",
            "Epoch 814/1000\n",
            "1/1 [==============================] - 0s 5ms/step - loss: 2.9475 - mae: 2.9475\n",
            "Epoch 815/1000\n",
            "1/1 [==============================] - 0s 115ms/step - loss: 2.9418 - mae: 2.9418\n",
            "Epoch 816/1000\n",
            "1/1 [==============================] - 0s 6ms/step - loss: 2.9362 - mae: 2.9362\n",
            "Epoch 817/1000\n",
            "1/1 [==============================] - 0s 6ms/step - loss: 2.9306 - mae: 2.9306\n",
            "Epoch 818/1000\n",
            "1/1 [==============================] - 0s 5ms/step - loss: 2.9250 - mae: 2.9250\n",
            "Epoch 819/1000\n",
            "1/1 [==============================] - 0s 5ms/step - loss: 2.9193 - mae: 2.9193\n",
            "Epoch 820/1000\n",
            "1/1 [==============================] - 0s 6ms/step - loss: 2.9137 - mae: 2.9137\n",
            "Epoch 821/1000\n",
            "1/1 [==============================] - 0s 6ms/step - loss: 2.9081 - mae: 2.9081\n",
            "Epoch 822/1000\n",
            "1/1 [==============================] - 0s 6ms/step - loss: 2.9025 - mae: 2.9025\n",
            "Epoch 823/1000\n",
            "1/1 [==============================] - 0s 6ms/step - loss: 2.8968 - mae: 2.8968\n",
            "Epoch 824/1000\n",
            "1/1 [==============================] - 0s 11ms/step - loss: 2.8912 - mae: 2.8912\n",
            "Epoch 825/1000\n",
            "1/1 [==============================] - 0s 6ms/step - loss: 2.8856 - mae: 2.8856\n",
            "Epoch 826/1000\n",
            "1/1 [==============================] - 0s 9ms/step - loss: 2.8800 - mae: 2.8800\n",
            "Epoch 827/1000\n",
            "1/1 [==============================] - 0s 8ms/step - loss: 2.8743 - mae: 2.8743\n",
            "Epoch 828/1000\n",
            "1/1 [==============================] - 0s 7ms/step - loss: 2.8687 - mae: 2.8687\n",
            "Epoch 829/1000\n",
            "1/1 [==============================] - 0s 6ms/step - loss: 2.8631 - mae: 2.8631\n",
            "Epoch 830/1000\n",
            "1/1 [==============================] - 0s 7ms/step - loss: 2.8575 - mae: 2.8575\n",
            "Epoch 831/1000\n",
            "1/1 [==============================] - 0s 6ms/step - loss: 2.8518 - mae: 2.8518\n",
            "Epoch 832/1000\n",
            "1/1 [==============================] - 0s 6ms/step - loss: 2.8462 - mae: 2.8462\n",
            "Epoch 833/1000\n",
            "1/1 [==============================] - 0s 7ms/step - loss: 2.8406 - mae: 2.8406\n",
            "Epoch 834/1000\n",
            "1/1 [==============================] - 0s 6ms/step - loss: 2.8350 - mae: 2.8350\n",
            "Epoch 835/1000\n",
            "1/1 [==============================] - 0s 6ms/step - loss: 2.8303 - mae: 2.8303\n",
            "Epoch 836/1000\n",
            "1/1 [==============================] - 0s 6ms/step - loss: 2.8256 - mae: 2.8256\n",
            "Epoch 837/1000\n",
            "1/1 [==============================] - 0s 6ms/step - loss: 2.8200 - mae: 2.8200\n",
            "Epoch 838/1000\n",
            "1/1 [==============================] - 0s 6ms/step - loss: 2.8143 - mae: 2.8143\n",
            "Epoch 839/1000\n",
            "1/1 [==============================] - 0s 7ms/step - loss: 2.8087 - mae: 2.8087\n",
            "Epoch 840/1000\n",
            "1/1 [==============================] - 0s 6ms/step - loss: 2.8031 - mae: 2.8031\n",
            "Epoch 841/1000\n",
            "1/1 [==============================] - 0s 6ms/step - loss: 2.7975 - mae: 2.7975\n",
            "Epoch 842/1000\n",
            "1/1 [==============================] - 0s 6ms/step - loss: 2.7918 - mae: 2.7918\n",
            "Epoch 843/1000\n",
            "1/1 [==============================] - 0s 7ms/step - loss: 2.7862 - mae: 2.7862\n",
            "Epoch 844/1000\n",
            "1/1 [==============================] - 0s 6ms/step - loss: 2.7806 - mae: 2.7806\n",
            "Epoch 845/1000\n",
            "1/1 [==============================] - 0s 7ms/step - loss: 2.7750 - mae: 2.7750\n",
            "Epoch 846/1000\n",
            "1/1 [==============================] - 0s 6ms/step - loss: 2.7693 - mae: 2.7693\n",
            "Epoch 847/1000\n",
            "1/1 [==============================] - 0s 6ms/step - loss: 2.7637 - mae: 2.7637\n",
            "Epoch 848/1000\n",
            "1/1 [==============================] - 0s 7ms/step - loss: 2.7581 - mae: 2.7581\n",
            "Epoch 849/1000\n",
            "1/1 [==============================] - 0s 7ms/step - loss: 2.7525 - mae: 2.7525\n",
            "Epoch 850/1000\n",
            "1/1 [==============================] - 0s 7ms/step - loss: 2.7468 - mae: 2.7468\n",
            "Epoch 851/1000\n",
            "1/1 [==============================] - 0s 7ms/step - loss: 2.7412 - mae: 2.7412\n",
            "Epoch 852/1000\n",
            "1/1 [==============================] - 0s 6ms/step - loss: 2.7356 - mae: 2.7356\n",
            "Epoch 853/1000\n",
            "1/1 [==============================] - 0s 6ms/step - loss: 2.7300 - mae: 2.7300\n",
            "Epoch 854/1000\n",
            "1/1 [==============================] - 0s 6ms/step - loss: 2.7243 - mae: 2.7243\n",
            "Epoch 855/1000\n",
            "1/1 [==============================] - 0s 7ms/step - loss: 2.7187 - mae: 2.7187\n",
            "Epoch 856/1000\n",
            "1/1 [==============================] - 0s 5ms/step - loss: 2.7131 - mae: 2.7131\n",
            "Epoch 857/1000\n",
            "1/1 [==============================] - 0s 12ms/step - loss: 2.7075 - mae: 2.7075\n",
            "Epoch 858/1000\n",
            "1/1 [==============================] - 0s 10ms/step - loss: 2.7018 - mae: 2.7018\n",
            "Epoch 859/1000\n",
            "1/1 [==============================] - 0s 13ms/step - loss: 2.6962 - mae: 2.6962\n",
            "Epoch 860/1000\n",
            "1/1 [==============================] - 0s 10ms/step - loss: 2.6906 - mae: 2.6906\n",
            "Epoch 861/1000\n",
            "1/1 [==============================] - 0s 14ms/step - loss: 2.6850 - mae: 2.6850\n",
            "Epoch 862/1000\n",
            "1/1 [==============================] - 0s 12ms/step - loss: 2.6793 - mae: 2.6793\n",
            "Epoch 863/1000\n",
            "1/1 [==============================] - 0s 14ms/step - loss: 2.6737 - mae: 2.6737\n",
            "Epoch 864/1000\n",
            "1/1 [==============================] - 0s 11ms/step - loss: 2.6681 - mae: 2.6681\n",
            "Epoch 865/1000\n",
            "1/1 [==============================] - 0s 14ms/step - loss: 2.6625 - mae: 2.6625\n",
            "Epoch 866/1000\n",
            "1/1 [==============================] - 0s 12ms/step - loss: 2.6568 - mae: 2.6568\n",
            "Epoch 867/1000\n",
            "1/1 [==============================] - 0s 10ms/step - loss: 2.6512 - mae: 2.6512\n",
            "Epoch 868/1000\n",
            "1/1 [==============================] - 0s 11ms/step - loss: 2.6456 - mae: 2.6456\n",
            "Epoch 869/1000\n",
            "1/1 [==============================] - 0s 11ms/step - loss: 2.6400 - mae: 2.6400\n",
            "Epoch 870/1000\n",
            "1/1 [==============================] - 0s 13ms/step - loss: 2.6343 - mae: 2.6343\n",
            "Epoch 871/1000\n",
            "1/1 [==============================] - 0s 6ms/step - loss: 2.6287 - mae: 2.6287\n",
            "Epoch 872/1000\n",
            "1/1 [==============================] - 0s 10ms/step - loss: 2.6231 - mae: 2.6231\n",
            "Epoch 873/1000\n",
            "1/1 [==============================] - 0s 14ms/step - loss: 2.6175 - mae: 2.6175\n",
            "Epoch 874/1000\n",
            "1/1 [==============================] - 0s 11ms/step - loss: 2.6118 - mae: 2.6118\n",
            "Epoch 875/1000\n",
            "1/1 [==============================] - 0s 8ms/step - loss: 2.6062 - mae: 2.6062\n",
            "Epoch 876/1000\n",
            "1/1 [==============================] - 0s 7ms/step - loss: 2.6021 - mae: 2.6021\n",
            "Epoch 877/1000\n",
            "1/1 [==============================] - 0s 14ms/step - loss: 2.5968 - mae: 2.5968\n",
            "Epoch 878/1000\n",
            "1/1 [==============================] - 0s 12ms/step - loss: 2.5912 - mae: 2.5912\n",
            "Epoch 879/1000\n",
            "1/1 [==============================] - 0s 11ms/step - loss: 2.5856 - mae: 2.5856\n",
            "Epoch 880/1000\n",
            "1/1 [==============================] - 0s 9ms/step - loss: 2.5800 - mae: 2.5800\n",
            "Epoch 881/1000\n",
            "1/1 [==============================] - 0s 12ms/step - loss: 2.5743 - mae: 2.5743\n",
            "Epoch 882/1000\n",
            "1/1 [==============================] - 0s 8ms/step - loss: 2.5687 - mae: 2.5687\n",
            "Epoch 883/1000\n",
            "1/1 [==============================] - 0s 13ms/step - loss: 2.5631 - mae: 2.5631\n",
            "Epoch 884/1000\n",
            "1/1 [==============================] - 0s 12ms/step - loss: 2.5575 - mae: 2.5575\n",
            "Epoch 885/1000\n",
            "1/1 [==============================] - 0s 10ms/step - loss: 2.5518 - mae: 2.5518\n",
            "Epoch 886/1000\n",
            "1/1 [==============================] - 0s 9ms/step - loss: 2.5462 - mae: 2.5462\n",
            "Epoch 887/1000\n",
            "1/1 [==============================] - 0s 10ms/step - loss: 2.5406 - mae: 2.5406\n",
            "Epoch 888/1000\n",
            "1/1 [==============================] - 0s 8ms/step - loss: 2.5350 - mae: 2.5350\n",
            "Epoch 889/1000\n",
            "1/1 [==============================] - 0s 7ms/step - loss: 2.5293 - mae: 2.5293\n",
            "Epoch 890/1000\n",
            "1/1 [==============================] - 0s 6ms/step - loss: 2.5237 - mae: 2.5237\n",
            "Epoch 891/1000\n",
            "1/1 [==============================] - 0s 6ms/step - loss: 2.5181 - mae: 2.5181\n",
            "Epoch 892/1000\n",
            "1/1 [==============================] - 0s 6ms/step - loss: 2.5125 - mae: 2.5125\n",
            "Epoch 893/1000\n",
            "1/1 [==============================] - 0s 6ms/step - loss: 2.5068 - mae: 2.5068\n",
            "Epoch 894/1000\n",
            "1/1 [==============================] - 0s 7ms/step - loss: 2.5012 - mae: 2.5012\n",
            "Epoch 895/1000\n",
            "1/1 [==============================] - 0s 6ms/step - loss: 2.4956 - mae: 2.4956\n",
            "Epoch 896/1000\n",
            "1/1 [==============================] - 0s 6ms/step - loss: 2.4900 - mae: 2.4900\n",
            "Epoch 897/1000\n",
            "1/1 [==============================] - 0s 6ms/step - loss: 2.4843 - mae: 2.4843\n",
            "Epoch 898/1000\n",
            "1/1 [==============================] - 0s 198ms/step - loss: 2.4787 - mae: 2.4787\n",
            "Epoch 899/1000\n",
            "1/1 [==============================] - 0s 7ms/step - loss: 2.4731 - mae: 2.4731\n",
            "Epoch 900/1000\n",
            "1/1 [==============================] - 0s 6ms/step - loss: 2.4675 - mae: 2.4675\n",
            "Epoch 901/1000\n",
            "1/1 [==============================] - 0s 6ms/step - loss: 2.4618 - mae: 2.4618\n",
            "Epoch 902/1000\n",
            "1/1 [==============================] - 0s 6ms/step - loss: 2.4562 - mae: 2.4562\n",
            "Epoch 903/1000\n",
            "1/1 [==============================] - 0s 6ms/step - loss: 2.4506 - mae: 2.4506\n",
            "Epoch 904/1000\n",
            "1/1 [==============================] - 0s 5ms/step - loss: 2.4450 - mae: 2.4450\n",
            "Epoch 905/1000\n",
            "1/1 [==============================] - 0s 5ms/step - loss: 2.4393 - mae: 2.4393\n",
            "Epoch 906/1000\n",
            "1/1 [==============================] - 0s 5ms/step - loss: 2.4337 - mae: 2.4337\n",
            "Epoch 907/1000\n",
            "1/1 [==============================] - 0s 10ms/step - loss: 2.4281 - mae: 2.4281\n",
            "Epoch 908/1000\n",
            "1/1 [==============================] - 0s 6ms/step - loss: 2.4225 - mae: 2.4225\n",
            "Epoch 909/1000\n",
            "1/1 [==============================] - 0s 6ms/step - loss: 2.4168 - mae: 2.4168\n",
            "Epoch 910/1000\n",
            "1/1 [==============================] - 0s 6ms/step - loss: 2.4112 - mae: 2.4112\n",
            "Epoch 911/1000\n",
            "1/1 [==============================] - 0s 6ms/step - loss: 2.4056 - mae: 2.4056\n",
            "Epoch 912/1000\n",
            "1/1 [==============================] - 0s 6ms/step - loss: 2.4000 - mae: 2.4000\n",
            "Epoch 913/1000\n",
            "1/1 [==============================] - 0s 6ms/step - loss: 2.3943 - mae: 2.3943\n",
            "Epoch 914/1000\n",
            "1/1 [==============================] - 0s 5ms/step - loss: 2.3887 - mae: 2.3887\n",
            "Epoch 915/1000\n",
            "1/1 [==============================] - 0s 6ms/step - loss: 2.3831 - mae: 2.3831\n",
            "Epoch 916/1000\n",
            "1/1 [==============================] - 0s 6ms/step - loss: 2.3778 - mae: 2.3778\n",
            "Epoch 917/1000\n",
            "1/1 [==============================] - 0s 5ms/step - loss: 2.3737 - mae: 2.3737\n",
            "Epoch 918/1000\n",
            "1/1 [==============================] - 0s 5ms/step - loss: 2.3681 - mae: 2.3681\n",
            "Epoch 919/1000\n",
            "1/1 [==============================] - 0s 6ms/step - loss: 2.3625 - mae: 2.3625\n",
            "Epoch 920/1000\n",
            "1/1 [==============================] - 0s 8ms/step - loss: 2.3568 - mae: 2.3568\n",
            "Epoch 921/1000\n",
            "1/1 [==============================] - 0s 6ms/step - loss: 2.3512 - mae: 2.3512\n",
            "Epoch 922/1000\n",
            "1/1 [==============================] - 0s 6ms/step - loss: 2.3456 - mae: 2.3456\n",
            "Epoch 923/1000\n",
            "1/1 [==============================] - 0s 6ms/step - loss: 2.3400 - mae: 2.3400\n",
            "Epoch 924/1000\n",
            "1/1 [==============================] - 0s 6ms/step - loss: 2.3343 - mae: 2.3343\n",
            "Epoch 925/1000\n",
            "1/1 [==============================] - 0s 6ms/step - loss: 2.3287 - mae: 2.3287\n",
            "Epoch 926/1000\n",
            "1/1 [==============================] - 0s 6ms/step - loss: 2.3231 - mae: 2.3231\n",
            "Epoch 927/1000\n",
            "1/1 [==============================] - 0s 6ms/step - loss: 2.3175 - mae: 2.3175\n",
            "Epoch 928/1000\n",
            "1/1 [==============================] - 0s 6ms/step - loss: 2.3118 - mae: 2.3118\n",
            "Epoch 929/1000\n",
            "1/1 [==============================] - 0s 9ms/step - loss: 2.3062 - mae: 2.3062\n",
            "Epoch 930/1000\n",
            "1/1 [==============================] - 0s 7ms/step - loss: 2.3006 - mae: 2.3006\n",
            "Epoch 931/1000\n",
            "1/1 [==============================] - 0s 11ms/step - loss: 2.2950 - mae: 2.2950\n",
            "Epoch 932/1000\n",
            "1/1 [==============================] - 0s 6ms/step - loss: 2.2893 - mae: 2.2893\n",
            "Epoch 933/1000\n",
            "1/1 [==============================] - 0s 6ms/step - loss: 2.2837 - mae: 2.2837\n",
            "Epoch 934/1000\n",
            "1/1 [==============================] - 0s 8ms/step - loss: 2.2781 - mae: 2.2781\n",
            "Epoch 935/1000\n",
            "1/1 [==============================] - 0s 7ms/step - loss: 2.2725 - mae: 2.2725\n",
            "Epoch 936/1000\n",
            "1/1 [==============================] - 0s 6ms/step - loss: 2.2668 - mae: 2.2668\n",
            "Epoch 937/1000\n",
            "1/1 [==============================] - 0s 6ms/step - loss: 2.2612 - mae: 2.2612\n",
            "Epoch 938/1000\n",
            "1/1 [==============================] - 0s 6ms/step - loss: 2.2556 - mae: 2.2556\n",
            "Epoch 939/1000\n",
            "1/1 [==============================] - 0s 6ms/step - loss: 2.2500 - mae: 2.2500\n",
            "Epoch 940/1000\n",
            "1/1 [==============================] - 0s 6ms/step - loss: 2.2443 - mae: 2.2443\n",
            "Epoch 941/1000\n",
            "1/1 [==============================] - 0s 6ms/step - loss: 2.2387 - mae: 2.2387\n",
            "Epoch 942/1000\n",
            "1/1 [==============================] - 0s 6ms/step - loss: 2.2331 - mae: 2.2331\n",
            "Epoch 943/1000\n",
            "1/1 [==============================] - 0s 7ms/step - loss: 2.2275 - mae: 2.2275\n",
            "Epoch 944/1000\n",
            "1/1 [==============================] - 0s 6ms/step - loss: 2.2218 - mae: 2.2218\n",
            "Epoch 945/1000\n",
            "1/1 [==============================] - 0s 6ms/step - loss: 2.2162 - mae: 2.2162\n",
            "Epoch 946/1000\n",
            "1/1 [==============================] - 0s 6ms/step - loss: 2.2106 - mae: 2.2106\n",
            "Epoch 947/1000\n",
            "1/1 [==============================] - 0s 5ms/step - loss: 2.2050 - mae: 2.2050\n",
            "Epoch 948/1000\n",
            "1/1 [==============================] - 0s 6ms/step - loss: 2.1993 - mae: 2.1993\n",
            "Epoch 949/1000\n",
            "1/1 [==============================] - 0s 6ms/step - loss: 2.1937 - mae: 2.1937\n",
            "Epoch 950/1000\n",
            "1/1 [==============================] - 0s 13ms/step - loss: 2.1881 - mae: 2.1881\n",
            "Epoch 951/1000\n",
            "1/1 [==============================] - 0s 9ms/step - loss: 2.1825 - mae: 2.1825\n",
            "Epoch 952/1000\n",
            "1/1 [==============================] - 0s 9ms/step - loss: 2.1768 - mae: 2.1768\n",
            "Epoch 953/1000\n",
            "1/1 [==============================] - 0s 7ms/step - loss: 2.1712 - mae: 2.1712\n",
            "Epoch 954/1000\n",
            "1/1 [==============================] - 0s 7ms/step - loss: 2.1656 - mae: 2.1656\n",
            "Epoch 955/1000\n",
            "1/1 [==============================] - 0s 7ms/step - loss: 2.1600 - mae: 2.1600\n",
            "Epoch 956/1000\n",
            "1/1 [==============================] - 0s 8ms/step - loss: 2.1543 - mae: 2.1543\n",
            "Epoch 957/1000\n",
            "1/1 [==============================] - 0s 8ms/step - loss: 2.1496 - mae: 2.1496\n",
            "Epoch 958/1000\n",
            "1/1 [==============================] - 0s 10ms/step - loss: 2.1450 - mae: 2.1450\n",
            "Epoch 959/1000\n",
            "1/1 [==============================] - 0s 11ms/step - loss: 2.1393 - mae: 2.1393\n",
            "Epoch 960/1000\n",
            "1/1 [==============================] - 0s 31ms/step - loss: 2.1337 - mae: 2.1337\n",
            "Epoch 961/1000\n",
            "1/1 [==============================] - 0s 7ms/step - loss: 2.1281 - mae: 2.1281\n",
            "Epoch 962/1000\n",
            "1/1 [==============================] - 0s 9ms/step - loss: 2.1225 - mae: 2.1225\n",
            "Epoch 963/1000\n",
            "1/1 [==============================] - 0s 10ms/step - loss: 2.1168 - mae: 2.1168\n",
            "Epoch 964/1000\n",
            "1/1 [==============================] - 0s 9ms/step - loss: 2.1112 - mae: 2.1112\n",
            "Epoch 965/1000\n",
            "1/1 [==============================] - 0s 9ms/step - loss: 2.1056 - mae: 2.1056\n",
            "Epoch 966/1000\n",
            "1/1 [==============================] - 0s 10ms/step - loss: 2.1000 - mae: 2.1000\n",
            "Epoch 967/1000\n",
            "1/1 [==============================] - 0s 8ms/step - loss: 2.0943 - mae: 2.0943\n",
            "Epoch 968/1000\n",
            "1/1 [==============================] - 0s 8ms/step - loss: 2.0887 - mae: 2.0887\n",
            "Epoch 969/1000\n",
            "1/1 [==============================] - 0s 9ms/step - loss: 2.0831 - mae: 2.0831\n",
            "Epoch 970/1000\n",
            "1/1 [==============================] - 0s 11ms/step - loss: 2.0775 - mae: 2.0775\n",
            "Epoch 971/1000\n",
            "1/1 [==============================] - 0s 9ms/step - loss: 2.0718 - mae: 2.0718\n",
            "Epoch 972/1000\n",
            "1/1 [==============================] - 0s 9ms/step - loss: 2.0662 - mae: 2.0662\n",
            "Epoch 973/1000\n",
            "1/1 [==============================] - 0s 13ms/step - loss: 2.0606 - mae: 2.0606\n",
            "Epoch 974/1000\n",
            "1/1 [==============================] - 0s 10ms/step - loss: 2.0550 - mae: 2.0550\n",
            "Epoch 975/1000\n",
            "1/1 [==============================] - 0s 6ms/step - loss: 2.0493 - mae: 2.0493\n",
            "Epoch 976/1000\n",
            "1/1 [==============================] - 0s 9ms/step - loss: 2.0437 - mae: 2.0437\n",
            "Epoch 977/1000\n",
            "1/1 [==============================] - 0s 8ms/step - loss: 2.0381 - mae: 2.0381\n",
            "Epoch 978/1000\n",
            "1/1 [==============================] - 0s 9ms/step - loss: 2.0325 - mae: 2.0325\n",
            "Epoch 979/1000\n",
            "1/1 [==============================] - 0s 14ms/step - loss: 2.0268 - mae: 2.0268\n",
            "Epoch 980/1000\n",
            "1/1 [==============================] - 0s 13ms/step - loss: 2.0212 - mae: 2.0212\n",
            "Epoch 981/1000\n",
            "1/1 [==============================] - 0s 11ms/step - loss: 2.0156 - mae: 2.0156\n",
            "Epoch 982/1000\n",
            "1/1 [==============================] - 0s 11ms/step - loss: 2.0100 - mae: 2.0100\n",
            "Epoch 983/1000\n",
            "1/1 [==============================] - 0s 11ms/step - loss: 2.0043 - mae: 2.0043\n",
            "Epoch 984/1000\n",
            "1/1 [==============================] - 0s 14ms/step - loss: 1.9987 - mae: 1.9987\n",
            "Epoch 985/1000\n",
            "1/1 [==============================] - 0s 12ms/step - loss: 1.9931 - mae: 1.9931\n",
            "Epoch 986/1000\n",
            "1/1 [==============================] - 0s 11ms/step - loss: 1.9875 - mae: 1.9875\n",
            "Epoch 987/1000\n",
            "1/1 [==============================] - 0s 10ms/step - loss: 1.9818 - mae: 1.9818\n",
            "Epoch 988/1000\n",
            "1/1 [==============================] - 0s 13ms/step - loss: 1.9762 - mae: 1.9762\n",
            "Epoch 989/1000\n",
            "1/1 [==============================] - 0s 10ms/step - loss: 1.9706 - mae: 1.9706\n",
            "Epoch 990/1000\n",
            "1/1 [==============================] - 0s 13ms/step - loss: 1.9649 - mae: 1.9649\n",
            "Epoch 991/1000\n",
            "1/1 [==============================] - 0s 8ms/step - loss: 1.9593 - mae: 1.9593\n",
            "Epoch 992/1000\n",
            "1/1 [==============================] - 0s 10ms/step - loss: 1.9537 - mae: 1.9537\n",
            "Epoch 993/1000\n",
            "1/1 [==============================] - 0s 13ms/step - loss: 1.9481 - mae: 1.9481\n",
            "Epoch 994/1000\n",
            "1/1 [==============================] - 0s 12ms/step - loss: 1.9424 - mae: 1.9424\n",
            "Epoch 995/1000\n",
            "1/1 [==============================] - 0s 17ms/step - loss: 1.9368 - mae: 1.9368\n",
            "Epoch 996/1000\n",
            "1/1 [==============================] - 0s 9ms/step - loss: 1.9312 - mae: 1.9312\n",
            "Epoch 997/1000\n",
            "1/1 [==============================] - 0s 5ms/step - loss: 1.9256 - mae: 1.9256\n",
            "Epoch 998/1000\n",
            "1/1 [==============================] - 0s 5ms/step - loss: 1.9215 - mae: 1.9215\n",
            "Epoch 999/1000\n",
            "1/1 [==============================] - 0s 5ms/step - loss: 1.9162 - mae: 1.9162\n",
            "Epoch 1000/1000\n",
            "1/1 [==============================] - 0s 5ms/step - loss: 1.9106 - mae: 1.9106\n"
          ]
        },
        {
          "output_type": "execute_result",
          "data": {
            "text/plain": [
              "<keras.callbacks.History at 0x7f3bfce69110>"
            ]
          },
          "metadata": {},
          "execution_count": 41
        }
      ]
    },
    {
      "cell_type": "code",
      "source": [
        "X,y"
      ],
      "metadata": {
        "colab": {
          "base_uri": "https://localhost:8080/"
        },
        "id": "kMRYuGJ817El",
        "outputId": "9e274346-ec58-4048-943b-8384e2ac26af"
      },
      "execution_count": 42,
      "outputs": [
        {
          "output_type": "execute_result",
          "data": {
            "text/plain": [
              "(array([-7., -4., -1.,  2.,  5.,  8., 11., 14.]),\n",
              " array([ 3.,  6.,  9., 12., 15., 18., 21., 24.]))"
            ]
          },
          "metadata": {},
          "execution_count": 42
        }
      ]
    },
    {
      "cell_type": "markdown",
      "source": [
        "Prediction on the basis of given data set\n",
        "\n",
        "*   X = input\n",
        "*   y = label\n",
        "\n",
        "model is predicting new y for for new X(given by us)\n",
        "\n"
      ],
      "metadata": {
        "id": "c-8goo2nRbHQ"
      }
    },
    {
      "cell_type": "code",
      "source": [
        "model.predict([15.0])"
      ],
      "metadata": {
        "colab": {
          "base_uri": "https://localhost:8080/"
        },
        "id": "e9sAxkYiNhQE",
        "outputId": "35c1b93d-d27d-452f-de8b-a06a124bc7ce"
      },
      "execution_count": 44,
      "outputs": [
        {
          "output_type": "execute_result",
          "data": {
            "text/plain": [
              "array([[25.54681]], dtype=float32)"
            ]
          },
          "metadata": {},
          "execution_count": 44
        }
      ]
    },
    {
      "cell_type": "code",
      "source": [
        "X = np.arange(-100, 100, 6)\n",
        "X"
      ],
      "metadata": {
        "colab": {
          "base_uri": "https://localhost:8080/"
        },
        "id": "ZrxsZdiNPJ1A",
        "outputId": "fa5c3ac3-c929-4ad2-8421-77d20a0180ee"
      },
      "execution_count": 84,
      "outputs": [
        {
          "output_type": "execute_result",
          "data": {
            "text/plain": [
              "array([-100,  -94,  -88,  -82,  -76,  -70,  -64,  -58,  -52,  -46,  -40,\n",
              "        -34,  -28,  -22,  -16,  -10,   -4,    2,    8,   14,   20,   26,\n",
              "         32,   38,   44,   50,   56,   62,   68,   74,   80,   86,   92,\n",
              "         98])"
            ]
          },
          "metadata": {},
          "execution_count": 84
        }
      ]
    },
    {
      "cell_type": "code",
      "source": [
        "y = np.arange(-110, 90, 6)\n",
        "y"
      ],
      "metadata": {
        "colab": {
          "base_uri": "https://localhost:8080/"
        },
        "id": "wz1X02O6SlkY",
        "outputId": "2754b475-0185-422d-c566-8e56856c84c9"
      },
      "execution_count": 85,
      "outputs": [
        {
          "output_type": "execute_result",
          "data": {
            "text/plain": [
              "array([-110, -104,  -98,  -92,  -86,  -80,  -74,  -68,  -62,  -56,  -50,\n",
              "        -44,  -38,  -32,  -26,  -20,  -14,   -8,   -2,    4,   10,   16,\n",
              "         22,   28,   34,   40,   46,   52,   58,   64,   70,   76,   82,\n",
              "         88])"
            ]
          },
          "metadata": {},
          "execution_count": 85
        }
      ]
    },
    {
      "cell_type": "code",
      "source": [
        "y  = X-10\n",
        "y"
      ],
      "metadata": {
        "colab": {
          "base_uri": "https://localhost:8080/"
        },
        "id": "-2MyPE9lU7zX",
        "outputId": "44be05c3-1c95-456c-f9f1-59568cdff3c5"
      },
      "execution_count": 86,
      "outputs": [
        {
          "output_type": "execute_result",
          "data": {
            "text/plain": [
              "array([-110, -104,  -98,  -92,  -86,  -80,  -74,  -68,  -62,  -56,  -50,\n",
              "        -44,  -38,  -32,  -26,  -20,  -14,   -8,   -2,    4,   10,   16,\n",
              "         22,   28,   34,   40,   46,   52,   58,   64,   70,   76,   82,\n",
              "         88])"
            ]
          },
          "metadata": {},
          "execution_count": 86
        }
      ]
    },
    {
      "cell_type": "code",
      "source": [
        "plt.scatter(X,y)"
      ],
      "metadata": {
        "colab": {
          "base_uri": "https://localhost:8080/",
          "height": 282
        },
        "id": "r5NqNHG9VLVH",
        "outputId": "567884f9-71ec-4ee1-8809-0b2856cae931"
      },
      "execution_count": 87,
      "outputs": [
        {
          "output_type": "execute_result",
          "data": {
            "text/plain": [
              "<matplotlib.collections.PathCollection at 0x7f3b8045ca90>"
            ]
          },
          "metadata": {},
          "execution_count": 87
        },
        {
          "output_type": "display_data",
          "data": {
            "text/plain": [
              "<Figure size 432x288 with 1 Axes>"
            ],
            "image/png": "[encoded data removed]"
          },
          "metadata": {
            "needs_background": "light"
          }
        }
      ]
    },
    {
      "cell_type": "code",
      "source": [
        "len(X)"
      ],
      "metadata": {
        "colab": {
          "base_uri": "https://localhost:8080/"
        },
        "id": "XEpB7L-JVjtQ",
        "outputId": "34ad02d4-c270-474a-88cd-4ad6dd275059"
      },
      "execution_count": 88,
      "outputs": [
        {
          "output_type": "execute_result",
          "data": {
            "text/plain": [
              "34"
            ]
          },
          "metadata": {},
          "execution_count": 88
        }
      ]
    },
    {
      "cell_type": "code",
      "source": [
        "x_train = X[:30]\n",
        "y_train = y[:30]\n",
        "\n",
        "x_test = X[30:]\n",
        "y_test = y[30:]\n",
        "\n",
        "x_train, y_train, x_test, y_test"
      ],
      "metadata": {
        "colab": {
          "base_uri": "https://localhost:8080/"
        },
        "id": "8EtDennIXDrk",
        "outputId": "f2ebbe74-7645-4eb9-ccde-0282102b59a5"
      },
      "execution_count": 89,
      "outputs": [
        {
          "output_type": "execute_result",
          "data": {
            "text/plain": [
              "(array([-100,  -94,  -88,  -82,  -76,  -70,  -64,  -58,  -52,  -46,  -40,\n",
              "         -34,  -28,  -22,  -16,  -10,   -4,    2,    8,   14,   20,   26,\n",
              "          32,   38,   44,   50,   56,   62,   68,   74]),\n",
              " array([-110, -104,  -98,  -92,  -86,  -80,  -74,  -68,  -62,  -56,  -50,\n",
              "         -44,  -38,  -32,  -26,  -20,  -14,   -8,   -2,    4,   10,   16,\n",
              "          22,   28,   34,   40,   46,   52,   58,   64]),\n",
              " array([80, 86, 92, 98]),\n",
              " array([70, 76, 82, 88]))"
            ]
          },
          "metadata": {},
          "execution_count": 89
        }
      ]
    },
    {
      "cell_type": "code",
      "source": [
        "tf.random.set_seed(42)\n",
        "model = tf.keras.Sequential([tf.keras.layers.Dense(1)])\n",
        "\n",
        "model.compile(loss = tf.keras.losses.mae, optimizer = tf.keras.optimizers.SGD(),metrics=[\"mae\"])\n",
        "model.fit(tf.expand_dims(x_train, axis=-1), y_train,batch_size=32 , epochs=5, verbose=1)"
      ],
      "metadata": {
        "colab": {
          "base_uri": "https://localhost:8080/"
        },
        "id": "Fs0SGzjKYGCh",
        "outputId": "deb21191-3baf-43e4-d3d2-7238c9bf4944"
      },
      "execution_count": 117,
      "outputs": [
        {
          "output_type": "stream",
          "name": "stdout",
          "text": [
            "Epoch 1/5\n",
            "1/1 [==============================] - 1s 506ms/step - loss: 22.4874 - mae: 22.4874\n",
            "Epoch 2/5\n",
            "1/1 [==============================] - 0s 10ms/step - loss: 9.9952 - mae: 9.9952\n",
            "Epoch 3/5\n",
            "1/1 [==============================] - 0s 11ms/step - loss: 8.7884 - mae: 8.7884\n",
            "Epoch 4/5\n",
            "1/1 [==============================] - 0s 17ms/step - loss: 9.7526 - mae: 9.7526\n",
            "Epoch 5/5\n",
            "1/1 [==============================] - 0s 6ms/step - loss: 9.0765 - mae: 9.0765\n"
          ]
        },
        {
          "output_type": "execute_result",
          "data": {
            "text/plain": [
              "<keras.callbacks.History at 0x7f3b7fdd4650>"
            ]
          },
          "metadata": {},
          "execution_count": 117
        }
      ]
    },
    {
      "cell_type": "code",
      "source": [
        "model.predict([86])"
      ],
      "metadata": {
        "colab": {
          "base_uri": "https://localhost:8080/"
        },
        "id": "Hjmf72tHZPw-",
        "outputId": "f13093d9-a768-43c2-f80b-abef4caa641a"
      },
      "execution_count": 109,
      "outputs": [
        {
          "output_type": "execute_result",
          "data": {
            "text/plain": [
              "array([[80.57849]], dtype=float32)"
            ]
          },
          "metadata": {},
          "execution_count": 109
        }
      ]
    },
    {
      "cell_type": "code",
      "source": [
        "model.summary()"
      ],
      "metadata": {
        "colab": {
          "base_uri": "https://localhost:8080/"
        },
        "id": "bgFhJKuhZ6_d",
        "outputId": "06583b5c-dfdb-4472-9aef-4a5f1001877f"
      },
      "execution_count": 110,
      "outputs": [
        {
          "output_type": "stream",
          "name": "stdout",
          "text": [
            "Model: \"sequential_40\"\n",
            "_________________________________________________________________\n",
            " Layer (type)                Output Shape              Param #   \n",
            "=================================================================\n",
            " dense_41 (Dense)            (None, 1)                 2         \n",
            "                                                                 \n",
            "=================================================================\n",
            "Total params: 2\n",
            "Trainable params: 2\n",
            "Non-trainable params: 0\n",
            "_________________________________________________________________\n"
          ]
        }
      ]
    },
    {
      "cell_type": "code",
      "source": [
        "from tensorflow.keras.utils import plot_model\n",
        "\n",
        "plot_model(model, show_shapes=True)"
      ],
      "metadata": {
        "colab": {
          "base_uri": "https://localhost:8080/",
          "height": 201
        },
        "id": "LHWr5sZGrqrf",
        "outputId": "a23a2d62-72f6-4a0d-f80c-a759d78e57aa"
      },
      "execution_count": 118,
      "outputs": [
        {
          "output_type": "execute_result",
          "data": {
            "image/png": "[encoded data removed]",
            "text/plain": [
              "<IPython.core.display.Image object>"
            ]
          },
          "metadata": {},
          "execution_count": 118
        }
      ]
    },
    {
      "cell_type": "code",
      "source": [
        "y_preds = model.predict(x_test)\n",
        "y_test,y_preds"
      ],
      "metadata": {
        "colab": {
          "base_uri": "https://localhost:8080/"
        },
        "id": "HCsooyjhhT8H",
        "outputId": "1ccbf925-2c3b-4801-ac21-95d623b863cb"
      },
      "execution_count": 119,
      "outputs": [
        {
          "output_type": "execute_result",
          "data": {
            "text/plain": [
              "(array([70, 76, 82, 88]), array([[74.95413],\n",
              "        [80.57849],\n",
              "        [86.20285],\n",
              "        [91.82721]], dtype=float32))"
            ]
          },
          "metadata": {},
          "execution_count": 119
        }
      ]
    },
    {
      "cell_type": "code",
      "source": [
        "def plot_predictions(train_data=x_train, \n",
        "                     train_labels=y_train, \n",
        "                     test_data=x_test, \n",
        "                     test_labels=y_test, \n",
        "                     predictions=y_preds):\n",
        "  \"\"\"\n",
        "  Plots training data, test data and compares predictions.\n",
        "  \"\"\"\n",
        "  plt.figure(figsize=(10, 7))\n",
        "  # Plot training data in blue\n",
        "  plt.scatter(train_data, train_labels, c=\"b\", label=\"Training data\")\n",
        "  # Plot test data in green\n",
        "  plt.scatter(test_data, test_labels, c=\"g\", label=\"Testing data\")\n",
        "  # Plot the predictions in red (predictions were made on the test data)\n",
        "  plt.scatter(test_data, predictions, c=\"r\", label=\"Predictions\")\n",
        "  # Show the legend\n",
        "  plt.legend();"
      ],
      "metadata": {
        "id": "EvU2tytQiyWr"
      },
      "execution_count": 120,
      "outputs": []
    },
    {
      "cell_type": "code",
      "source": [
        "plot_predictions(train_data=x_train,\n",
        "                 train_labels=y_train,\n",
        "                 test_data=x_test,\n",
        "                 test_labels=y_test,\n",
        "                 predictions=y_preds)"
      ],
      "metadata": {
        "colab": {
          "base_uri": "https://localhost:8080/",
          "height": 429
        },
        "id": "Xo1XFVw2ssJn",
        "outputId": "4852020e-5c40-4b60-a604-b7331702fb05"
      },
      "execution_count": 123,
      "outputs": [
        {
          "output_type": "display_data",
          "data": {
            "text/plain": [
              "<Figure size 720x504 with 1 Axes>"
            ],
            "image/png": "[encoded data removed]"
          },
          "metadata": {
            "needs_background": "light"
          }
        }
      ]
    },
    {
      "cell_type": "code",
      "source": [
        "model.evaluate(x_test, y_test)"
      ],
      "metadata": {
        "colab": {
          "base_uri": "https://localhost:8080/"
        },
        "id": "JZ6CdBtesuva",
        "outputId": "f1788079-40dc-4642-8713-f9cef226167b"
      },
      "execution_count": 125,
      "outputs": [
        {
          "output_type": "stream",
          "name": "stdout",
          "text": [
            "1/1 [==============================] - 0s 122ms/step - loss: 4.3907 - mae: 4.3907\n"
          ]
        },
        {
          "output_type": "execute_result",
          "data": {
            "text/plain": [
              "[4.3906707763671875, 4.3906707763671875]"
            ]
          },
          "metadata": {},
          "execution_count": 125
        }
      ]
    },
    {
      "cell_type": "code",
      "source": [
        "# Calculate the mean absolute error\n",
        "mae = tf.metrics.mean_absolute_error(y_true=y_test, \n",
        "                                     y_pred=y_preds)\n",
        "mae"
      ],
      "metadata": {
        "colab": {
          "base_uri": "https://localhost:8080/"
        },
        "id": "XB2_fkhbtonX",
        "outputId": "d0c181ee-d8d1-4fcf-916e-79ea183cc426"
      },
      "execution_count": 127,
      "outputs": [
        {
          "output_type": "execute_result",
          "data": {
            "text/plain": [
              "<tf.Tensor: shape=(4,), dtype=float32, numpy=array([ 6.522934,  6.      ,  8.101425, 12.827209], dtype=float32)>"
            ]
          },
          "metadata": {},
          "execution_count": 127
        }
      ]
    },
    {
      "cell_type": "code",
      "source": [
        "y_test.shape, y_preds.shape\n"
      ],
      "metadata": {
        "colab": {
          "base_uri": "https://localhost:8080/"
        },
        "id": "Y2bjG2SB0OQl",
        "outputId": "1f9a4bc3-9cc0-46bd-cc8d-2568a0aab59b"
      },
      "execution_count": 128,
      "outputs": [
        {
          "output_type": "execute_result",
          "data": {
            "text/plain": [
              "((4,), (4, 1))"
            ]
          },
          "metadata": {},
          "execution_count": 128
        }
      ]
    },
    {
      "cell_type": "code",
      "source": [
        "y_preds.squeeze().shape\n"
      ],
      "metadata": {
        "colab": {
          "base_uri": "https://localhost:8080/"
        },
        "id": "wA0NyH7p0lhJ",
        "outputId": "aa80d536-68d0-45cf-bb8c-17fbbfaa6afa"
      },
      "execution_count": 129,
      "outputs": [
        {
          "output_type": "execute_result",
          "data": {
            "text/plain": [
              "(4,)"
            ]
          },
          "metadata": {},
          "execution_count": 129
        }
      ]
    },
    {
      "cell_type": "code",
      "source": [
        "y_test, y_preds.squeeze()\n"
      ],
      "metadata": {
        "colab": {
          "base_uri": "https://localhost:8080/"
        },
        "id": "QICmqG7A0tGa",
        "outputId": "38faae88-a512-4230-f711-b27e1db98d96"
      },
      "execution_count": 130,
      "outputs": [
        {
          "output_type": "execute_result",
          "data": {
            "text/plain": [
              "(array([70, 76, 82, 88]),\n",
              " array([74.95413, 80.57849, 86.20285, 91.82721], dtype=float32))"
            ]
          },
          "metadata": {},
          "execution_count": 130
        }
      ]
    },
    {
      "cell_type": "code",
      "source": [
        "mae = tf.metrics.mean_absolute_error(y_true=y_test, \n",
        "                                     y_pred=y_preds.squeeze()) # use squeeze() to make same shape\n",
        "mae"
      ],
      "metadata": {
        "colab": {
          "base_uri": "https://localhost:8080/"
        },
        "id": "e5DArldL0xFd",
        "outputId": "5d624feb-457e-4036-ea57-c4492facfd3c"
      },
      "execution_count": 131,
      "outputs": [
        {
          "output_type": "execute_result",
          "data": {
            "text/plain": [
              "<tf.Tensor: shape=(), dtype=float32, numpy=4.390671>"
            ]
          },
          "metadata": {},
          "execution_count": 131
        }
      ]
    },
    {
      "cell_type": "code",
      "source": [
        "tf.reduce_mean(tf.abs(y_test-y_preds.squeeze()))\n"
      ],
      "metadata": {
        "colab": {
          "base_uri": "https://localhost:8080/"
        },
        "id": "Em3RZs-5049r",
        "outputId": "e82fca09-5edc-4f48-f33d-24fa4b5b72a8"
      },
      "execution_count": 132,
      "outputs": [
        {
          "output_type": "execute_result",
          "data": {
            "text/plain": [
              "<tf.Tensor: shape=(), dtype=float64, numpy=4.3906707763671875>"
            ]
          },
          "metadata": {},
          "execution_count": 132
        }
      ]
    },
    {
      "cell_type": "code",
      "source": [
        "def mae(y_test, y_pred):\n",
        "  \"\"\"\n",
        "  Calculuates mean absolute error between y_test and y_preds.\n",
        "  \"\"\"\n",
        "  return tf.metrics.mean_absolute_error(y_test,\n",
        "                                        y_pred)\n",
        "  \n",
        "def mse(y_test, y_pred):\n",
        "  \"\"\"\n",
        "  Calculates mean squared error between y_test and y_preds.\n",
        "  \"\"\"\n",
        "  return tf.metrics.mean_squared_error(y_test,\n",
        "                                       y_pred)"
      ],
      "metadata": {
        "id": "F0O8KwTk25eZ"
      },
      "execution_count": 137,
      "outputs": []
    },
    {
      "cell_type": "code",
      "source": [
        "# Set random seed\n",
        "tf.random.set_seed(42)\n",
        "\n",
        "# Replicate original model\n",
        "model_1 = tf.keras.Sequential([\n",
        "  tf.keras.layers.Dense(1)\n",
        "])\n",
        "\n",
        "# Compile the model\n",
        "model_1.compile(loss=tf.keras.losses.mae,\n",
        "                optimizer=tf.keras.optimizers.SGD(),\n",
        "                metrics=['mae'])\n",
        "\n",
        "# Fit the model\n",
        "model_1.fit(tf.expand_dims(x_train, axis=-1), y_train, epochs=100)"
      ],
      "metadata": {
        "colab": {
          "base_uri": "https://localhost:8080/"
        },
        "id": "068lap3N1Pew",
        "outputId": "e6d201b4-6f3c-4cde-a786-742c659379e8"
      },
      "execution_count": 133,
      "outputs": [
        {
          "output_type": "stream",
          "name": "stdout",
          "text": [
            "Epoch 1/100\n",
            "1/1 [==============================] - 0s 381ms/step - loss: 22.4874 - mae: 22.4874\n",
            "Epoch 2/100\n",
            "1/1 [==============================] - 0s 16ms/step - loss: 9.9952 - mae: 9.9952\n",
            "Epoch 3/100\n",
            "1/1 [==============================] - 0s 10ms/step - loss: 8.7884 - mae: 8.7884\n",
            "Epoch 4/100\n",
            "1/1 [==============================] - 0s 10ms/step - loss: 9.7526 - mae: 9.7526\n",
            "Epoch 5/100\n",
            "1/1 [==============================] - 0s 12ms/step - loss: 9.0765 - mae: 9.0765\n",
            "Epoch 6/100\n",
            "1/1 [==============================] - 0s 12ms/step - loss: 10.7766 - mae: 10.7766\n",
            "Epoch 7/100\n",
            "1/1 [==============================] - 0s 9ms/step - loss: 9.0766 - mae: 9.0766\n",
            "Epoch 8/100\n",
            "1/1 [==============================] - 0s 10ms/step - loss: 10.4121 - mae: 10.4121\n",
            "Epoch 9/100\n",
            "1/1 [==============================] - 0s 10ms/step - loss: 11.6106 - mae: 11.6106\n",
            "Epoch 10/100\n",
            "1/1 [==============================] - 0s 10ms/step - loss: 9.9106 - mae: 9.9106\n",
            "Epoch 11/100\n",
            "1/1 [==============================] - 0s 11ms/step - loss: 8.7585 - mae: 8.7585\n",
            "Epoch 12/100\n",
            "1/1 [==============================] - 0s 10ms/step - loss: 10.3272 - mae: 10.3272\n",
            "Epoch 13/100\n",
            "1/1 [==============================] - 0s 10ms/step - loss: 8.6272 - mae: 8.6272\n",
            "Epoch 14/100\n",
            "1/1 [==============================] - 0s 10ms/step - loss: 11.4315 - mae: 11.4315\n",
            "Epoch 15/100\n",
            "1/1 [==============================] - 0s 8ms/step - loss: 11.5606 - mae: 11.5606\n",
            "Epoch 16/100\n",
            "1/1 [==============================] - 0s 8ms/step - loss: 9.8606 - mae: 9.8606\n",
            "Epoch 17/100\n",
            "1/1 [==============================] - 0s 8ms/step - loss: 8.7252 - mae: 8.7252\n",
            "Epoch 18/100\n",
            "1/1 [==============================] - 0s 8ms/step - loss: 10.2772 - mae: 10.2772\n",
            "Epoch 19/100\n",
            "1/1 [==============================] - 0s 8ms/step - loss: 8.5772 - mae: 8.5772\n",
            "Epoch 20/100\n",
            "1/1 [==============================] - 0s 11ms/step - loss: 11.4148 - mae: 11.4148\n",
            "Epoch 21/100\n",
            "1/1 [==============================] - 0s 15ms/step - loss: 11.5106 - mae: 11.5106\n",
            "Epoch 22/100\n",
            "1/1 [==============================] - 0s 7ms/step - loss: 9.8106 - mae: 9.8106\n",
            "Epoch 23/100\n",
            "1/1 [==============================] - 0s 7ms/step - loss: 8.6919 - mae: 8.6919\n",
            "Epoch 24/100\n",
            "1/1 [==============================] - 0s 6ms/step - loss: 10.2272 - mae: 10.2272\n",
            "Epoch 25/100\n",
            "1/1 [==============================] - 0s 8ms/step - loss: 8.5275 - mae: 8.5275\n",
            "Epoch 26/100\n",
            "1/1 [==============================] - 0s 8ms/step - loss: 9.3006 - mae: 9.3006\n",
            "Epoch 27/100\n",
            "1/1 [==============================] - 0s 9ms/step - loss: 10.9739 - mae: 10.9739\n",
            "Epoch 28/100\n",
            "1/1 [==============================] - 0s 9ms/step - loss: 9.2739 - mae: 9.2739\n",
            "Epoch 29/100\n",
            "1/1 [==============================] - 0s 15ms/step - loss: 9.4737 - mae: 9.4737\n",
            "Epoch 30/100\n",
            "1/1 [==============================] - 0s 9ms/step - loss: 11.3566 - mae: 11.3566\n",
            "Epoch 31/100\n",
            "1/1 [==============================] - 0s 8ms/step - loss: 9.6566 - mae: 9.6566\n",
            "Epoch 32/100\n",
            "1/1 [==============================] - 0s 8ms/step - loss: 8.7392 - mae: 8.7392\n",
            "Epoch 33/100\n",
            "1/1 [==============================] - 0s 7ms/step - loss: 10.0732 - mae: 10.0732\n",
            "Epoch 34/100\n",
            "1/1 [==============================] - 0s 13ms/step - loss: 8.4223 - mae: 8.4223\n",
            "Epoch 35/100\n",
            "1/1 [==============================] - 0s 15ms/step - loss: 8.4147 - mae: 8.4147\n",
            "Epoch 36/100\n",
            "1/1 [==============================] - 0s 11ms/step - loss: 8.4072 - mae: 8.4072\n",
            "Epoch 37/100\n",
            "1/1 [==============================] - 0s 11ms/step - loss: 8.3996 - mae: 8.3996\n",
            "Epoch 38/100\n",
            "1/1 [==============================] - 0s 10ms/step - loss: 8.3920 - mae: 8.3920\n",
            "Epoch 39/100\n",
            "1/1 [==============================] - 0s 9ms/step - loss: 8.3845 - mae: 8.3845\n",
            "Epoch 40/100\n",
            "1/1 [==============================] - 0s 8ms/step - loss: 8.3769 - mae: 8.3769\n",
            "Epoch 41/100\n",
            "1/1 [==============================] - 0s 8ms/step - loss: 8.3694 - mae: 8.3694\n",
            "Epoch 42/100\n",
            "1/1 [==============================] - 0s 7ms/step - loss: 8.3618 - mae: 8.3618\n",
            "Epoch 43/100\n",
            "1/1 [==============================] - 0s 9ms/step - loss: 8.3567 - mae: 8.3567\n",
            "Epoch 44/100\n",
            "1/1 [==============================] - 0s 8ms/step - loss: 8.9632 - mae: 8.9632\n",
            "Epoch 45/100\n",
            "1/1 [==============================] - 0s 8ms/step - loss: 9.7980 - mae: 9.7980\n",
            "Epoch 46/100\n",
            "1/1 [==============================] - 0s 29ms/step - loss: 11.0459 - mae: 11.0459\n",
            "Epoch 47/100\n",
            "1/1 [==============================] - 0s 20ms/step - loss: 9.3459 - mae: 9.3459\n",
            "Epoch 48/100\n",
            "1/1 [==============================] - 0s 27ms/step - loss: 8.9312 - mae: 8.9312\n",
            "Epoch 49/100\n",
            "1/1 [==============================] - 0s 11ms/step - loss: 10.9252 - mae: 10.9252\n",
            "Epoch 50/100\n",
            "1/1 [==============================] - 0s 11ms/step - loss: 9.2252 - mae: 9.2252\n",
            "Epoch 51/100\n",
            "1/1 [==============================] - 0s 12ms/step - loss: 9.1030 - mae: 9.1030\n",
            "Epoch 52/100\n",
            "1/1 [==============================] - 0s 18ms/step - loss: 10.8046 - mae: 10.8046\n",
            "Epoch 53/100\n",
            "1/1 [==============================] - 0s 21ms/step - loss: 9.1046 - mae: 9.1046\n",
            "Epoch 54/100\n",
            "1/1 [==============================] - 0s 17ms/step - loss: 9.2773 - mae: 9.2773\n",
            "Epoch 55/100\n",
            "1/1 [==============================] - 0s 11ms/step - loss: 11.1872 - mae: 11.1872\n",
            "Epoch 56/100\n",
            "1/1 [==============================] - 0s 11ms/step - loss: 9.4872 - mae: 9.4872\n",
            "Epoch 57/100\n",
            "1/1 [==============================] - 0s 12ms/step - loss: 8.5430 - mae: 8.5430\n",
            "Epoch 58/100\n",
            "1/1 [==============================] - 0s 8ms/step - loss: 9.9039 - mae: 9.9039\n",
            "Epoch 59/100\n",
            "1/1 [==============================] - 0s 11ms/step - loss: 8.2412 - mae: 8.2412\n",
            "Epoch 60/100\n",
            "1/1 [==============================] - 0s 6ms/step - loss: 9.2148 - mae: 9.2148\n",
            "Epoch 61/100\n",
            "1/1 [==============================] - 0s 6ms/step - loss: 11.1539 - mae: 11.1539\n",
            "Epoch 62/100\n",
            "1/1 [==============================] - 0s 11ms/step - loss: 9.4539 - mae: 9.4539\n",
            "Epoch 63/100\n",
            "1/1 [==============================] - 0s 8ms/step - loss: 8.4874 - mae: 8.4874\n",
            "Epoch 64/100\n",
            "1/1 [==============================] - 0s 8ms/step - loss: 9.8706 - mae: 9.8706\n",
            "Epoch 65/100\n",
            "1/1 [==============================] - 0s 8ms/step - loss: 8.2023 - mae: 8.2023\n",
            "Epoch 66/100\n",
            "1/1 [==============================] - 0s 7ms/step - loss: 9.1533 - mae: 9.1533\n",
            "Epoch 67/100\n",
            "1/1 [==============================] - 0s 9ms/step - loss: 10.6172 - mae: 10.6172\n",
            "Epoch 68/100\n",
            "1/1 [==============================] - 0s 8ms/step - loss: 8.9172 - mae: 8.9172\n",
            "Epoch 69/100\n",
            "1/1 [==============================] - 0s 8ms/step - loss: 9.3541 - mae: 9.3541\n",
            "Epoch 70/100\n",
            "1/1 [==============================] - 0s 8ms/step - loss: 10.9999 - mae: 10.9999\n",
            "Epoch 71/100\n",
            "1/1 [==============================] - 0s 12ms/step - loss: 9.2999 - mae: 9.2999\n",
            "Epoch 72/100\n",
            "1/1 [==============================] - 0s 25ms/step - loss: 8.5553 - mae: 8.5553\n",
            "Epoch 73/100\n",
            "1/1 [==============================] - 0s 10ms/step - loss: 10.3239 - mae: 10.3239\n",
            "Epoch 74/100\n",
            "1/1 [==============================] - 0s 8ms/step - loss: 8.6239 - mae: 8.6239\n",
            "Epoch 75/100\n",
            "1/1 [==============================] - 0s 10ms/step - loss: 9.9034 - mae: 9.9034\n",
            "Epoch 76/100\n",
            "1/1 [==============================] - 0s 10ms/step - loss: 11.2102 - mae: 11.2102\n",
            "Epoch 77/100\n",
            "1/1 [==============================] - 0s 11ms/step - loss: 8.8172 - mae: 8.8172\n",
            "Epoch 78/100\n",
            "1/1 [==============================] - 0s 10ms/step - loss: 9.3779 - mae: 9.3779\n",
            "Epoch 79/100\n",
            "1/1 [==============================] - 0s 8ms/step - loss: 10.8999 - mae: 10.8999\n",
            "Epoch 80/100\n",
            "1/1 [==============================] - 0s 7ms/step - loss: 9.1999 - mae: 9.1999\n",
            "Epoch 81/100\n",
            "1/1 [==============================] - 0s 7ms/step - loss: 8.5529 - mae: 8.5529\n",
            "Epoch 82/100\n",
            "1/1 [==============================] - 0s 7ms/step - loss: 10.2239 - mae: 10.2239\n",
            "Epoch 83/100\n",
            "1/1 [==============================] - 0s 6ms/step - loss: 8.5239 - mae: 8.5239\n",
            "Epoch 84/100\n",
            "1/1 [==============================] - 0s 7ms/step - loss: 9.9390 - mae: 9.9390\n",
            "Epoch 85/100\n",
            "1/1 [==============================] - 0s 7ms/step - loss: 11.1053 - mae: 11.1053\n",
            "Epoch 86/100\n",
            "1/1 [==============================] - 0s 7ms/step - loss: 8.7172 - mae: 8.7172\n",
            "Epoch 87/100\n",
            "1/1 [==============================] - 0s 7ms/step - loss: 9.4016 - mae: 9.4016\n",
            "Epoch 88/100\n",
            "1/1 [==============================] - 0s 7ms/step - loss: 10.7999 - mae: 10.7999\n",
            "Epoch 89/100\n",
            "1/1 [==============================] - 0s 7ms/step - loss: 9.0999 - mae: 9.0999\n",
            "Epoch 90/100\n",
            "1/1 [==============================] - 0s 6ms/step - loss: 8.5505 - mae: 8.5505\n",
            "Epoch 91/100\n",
            "1/1 [==============================] - 0s 8ms/step - loss: 10.1239 - mae: 10.1239\n",
            "Epoch 92/100\n",
            "1/1 [==============================] - 0s 7ms/step - loss: 8.4239 - mae: 8.4239\n",
            "Epoch 93/100\n",
            "1/1 [==============================] - 0s 9ms/step - loss: 9.9746 - mae: 9.9746\n",
            "Epoch 94/100\n",
            "1/1 [==============================] - 0s 8ms/step - loss: 11.0004 - mae: 11.0004\n",
            "Epoch 95/100\n",
            "1/1 [==============================] - 0s 12ms/step - loss: 8.6172 - mae: 8.6172\n",
            "Epoch 96/100\n",
            "1/1 [==============================] - 0s 12ms/step - loss: 9.4253 - mae: 9.4253\n",
            "Epoch 97/100\n",
            "1/1 [==============================] - 0s 19ms/step - loss: 10.6999 - mae: 10.6999\n",
            "Epoch 98/100\n",
            "1/1 [==============================] - 0s 10ms/step - loss: 8.9999 - mae: 8.9999\n",
            "Epoch 99/100\n",
            "1/1 [==============================] - 0s 8ms/step - loss: 8.5535 - mae: 8.5535\n",
            "Epoch 100/100\n",
            "1/1 [==============================] - 0s 17ms/step - loss: 10.5792 - mae: 10.5792\n"
          ]
        },
        {
          "output_type": "execute_result",
          "data": {
            "text/plain": [
              "<keras.callbacks.History at 0x7f3b7fed7290>"
            ]
          },
          "metadata": {},
          "execution_count": 133
        }
      ]
    },
    {
      "cell_type": "code",
      "source": [
        "# Make and plot predictions for model_1\n",
        "y_preds_1 = model_1.predict(x_test)\n",
        "plot_predictions(predictions=y_preds_1)"
      ],
      "metadata": {
        "colab": {
          "base_uri": "https://localhost:8080/",
          "height": 428
        },
        "id": "djQ774GL2iUH",
        "outputId": "dc6723ee-95b9-434e-d2d0-5dd32f0ce13a"
      },
      "execution_count": 135,
      "outputs": [
        {
          "output_type": "display_data",
          "data": {
            "text/plain": [
              "<Figure size 720x504 with 1 Axes>"
            ],
            "image/png": "[encoded data removed]"
          },
          "metadata": {
            "needs_background": "light"
          }
        }
      ]
    },
    {
      "cell_type": "code",
      "source": [
        "mae_1 = mae(y_test, y_preds_1.squeeze()).numpy()\n",
        "mse_1 = mse(y_test, y_preds_1.squeeze()).numpy()\n",
        "mae_1, mse_1"
      ],
      "metadata": {
        "colab": {
          "base_uri": "https://localhost:8080/"
        },
        "id": "iezYE29P2nYf",
        "outputId": "23b9415a-ecbd-4f0d-a07e-cbdf07d160b7"
      },
      "execution_count": 138,
      "outputs": [
        {
          "output_type": "execute_result",
          "data": {
            "text/plain": [
              "(11.129301, 123.88324)"
            ]
          },
          "metadata": {},
          "execution_count": 138
        }
      ]
    },
    {
      "cell_type": "code",
      "source": [
        "# Set random seed\n",
        "tf.random.set_seed(42)\n",
        "\n",
        "# Replicate model_1 and add an extra layer\n",
        "model_2 = tf.keras.Sequential([\n",
        "  tf.keras.layers.Dense(1),\n",
        "  tf.keras.layers.Dense(1) # add a second layer\n",
        "])\n",
        "\n",
        "# Compile the model\n",
        "model_2.compile(loss=tf.keras.losses.mae,\n",
        "                optimizer=tf.keras.optimizers.SGD(),\n",
        "                metrics=['mae'])\n",
        "\n",
        "# Fit the model\n",
        "model_2.fit(tf.expand_dims(x_train, axis=-1), y_train, epochs=100, verbose=0)"
      ],
      "metadata": {
        "colab": {
          "base_uri": "https://localhost:8080/"
        },
        "id": "KrknW2UY2tyR",
        "outputId": "62e86335-40a1-4a07-873a-34d8672ef8b2"
      },
      "execution_count": 140,
      "outputs": [
        {
          "output_type": "execute_result",
          "data": {
            "text/plain": [
              "<keras.callbacks.History at 0x7f3b7fb1cf50>"
            ]
          },
          "metadata": {},
          "execution_count": 140
        }
      ]
    },
    {
      "cell_type": "code",
      "source": [
        "# Make and plot predictions for model_2\n",
        "y_preds_2 = model_2.predict(x_test)\n",
        "plot_predictions(predictions=y_preds_2)"
      ],
      "metadata": {
        "colab": {
          "base_uri": "https://localhost:8080/",
          "height": 428
        },
        "id": "CyXHpbPv3Bhe",
        "outputId": "3903091c-3893-49d7-e948-5b6f426bba34"
      },
      "execution_count": 142,
      "outputs": [
        {
          "output_type": "display_data",
          "data": {
            "text/plain": [
              "<Figure size 720x504 with 1 Axes>"
            ],
            "image/png": "[encoded data removed]"
          },
          "metadata": {
            "needs_background": "light"
          }
        }
      ]
    },
    {
      "cell_type": "code",
      "source": [
        "# Calculate model_2 metrics\n",
        "mae_2 = mae(y_test, y_preds_2.squeeze()).numpy()\n",
        "mse_2 = mse(y_test, y_preds_2.squeeze()).numpy()\n",
        "mae_2, mse_2\n"
      ],
      "metadata": {
        "colab": {
          "base_uri": "https://localhost:8080/"
        },
        "id": "Nki3fB0T3GlE",
        "outputId": "15ebb037-40b8-4f77-b5ec-1035e561b647"
      },
      "execution_count": 143,
      "outputs": [
        {
          "output_type": "execute_result",
          "data": {
            "text/plain": [
              "(30.170414, 912.8298)"
            ]
          },
          "metadata": {},
          "execution_count": 143
        }
      ]
    },
    {
      "cell_type": "code",
      "source": [
        "# Set random seed\n",
        "tf.random.set_seed(42)\n",
        "\n",
        "# Replicate model_2\n",
        "model_3 = tf.keras.Sequential([\n",
        "  tf.keras.layers.Dense(1),\n",
        "  tf.keras.layers.Dense(1)\n",
        "])\n",
        "\n",
        "# Compile the model\n",
        "model_3.compile(loss=tf.keras.losses.mae,\n",
        "                optimizer=tf.keras.optimizers.SGD(),\n",
        "                metrics=['mae'])\n",
        "\n",
        "# Fit the model (this time for 500 epochs, not 100)\n",
        "model_3.fit(tf.expand_dims(x_train, axis=-1), y_train, epochs=500, verbose=0) "
      ],
      "metadata": {
        "colab": {
          "base_uri": "https://localhost:8080/"
        },
        "id": "bGtcu7bd3MzP",
        "outputId": "29ae7f2e-3a3d-4ce7-b11c-63a7e911e8a3"
      },
      "execution_count": 144,
      "outputs": [
        {
          "output_type": "execute_result",
          "data": {
            "text/plain": [
              "<keras.callbacks.History at 0x7f3b7f9fbe90>"
            ]
          },
          "metadata": {},
          "execution_count": 144
        }
      ]
    },
    {
      "cell_type": "code",
      "source": [
        "# Make and plot predictions for model_3\n",
        "y_preds_3 = model_3.predict(x_test)\n",
        "plot_predictions(predictions=y_preds_3)"
      ],
      "metadata": {
        "colab": {
          "base_uri": "https://localhost:8080/",
          "height": 428
        },
        "id": "loTMpdNX3Q39",
        "outputId": "50007df2-7b38-488b-d0f7-1d7778a39e57"
      },
      "execution_count": 145,
      "outputs": [
        {
          "output_type": "display_data",
          "data": {
            "text/plain": [
              "<Figure size 720x504 with 1 Axes>"
            ],
            "image/png": "[encoded data removed]"
          },
          "metadata": {
            "needs_background": "light"
          }
        }
      ]
    },
    {
      "cell_type": "code",
      "source": [
        "mae_3 = mae(y_test, y_preds_3.squeeze()).numpy()\n",
        "mse_3 = mse(y_test, y_preds_3.squeeze()).numpy()\n",
        "mae_3, mse_3"
      ],
      "metadata": {
        "colab": {
          "base_uri": "https://localhost:8080/"
        },
        "id": "dXLINiMs3tyj",
        "outputId": "2fc297bf-e5a8-48ed-9e1c-bb21439c99c0"
      },
      "execution_count": 146,
      "outputs": [
        {
          "output_type": "execute_result",
          "data": {
            "text/plain": [
              "(34.04923, 1164.1215)"
            ]
          },
          "metadata": {},
          "execution_count": 146
        }
      ]
    },
    {
      "cell_type": "code",
      "source": [
        "mae = mae(y_test, y_preds.squeeze()).numpy()\n",
        "mse = mse(y_test, y_preds.squeeze()).numpy()\n",
        "mae, mse"
      ],
      "metadata": {
        "colab": {
          "base_uri": "https://localhost:8080/"
        },
        "id": "YYeh8ugO4WVK",
        "outputId": "486bd41f-5e5f-4864-d381-049c4bc3269d"
      },
      "execution_count": 149,
      "outputs": [
        {
          "output_type": "execute_result",
          "data": {
            "text/plain": [
              "(4.390671, 19.454372)"
            ]
          },
          "metadata": {},
          "execution_count": 149
        }
      ]
    },
    {
      "cell_type": "code",
      "source": [
        "model_results = [[\"model_1\", mae_1, mse_1],\n",
        "                 [\"model_2\", mae_2, mse_2],\n",
        "                 [\"model_3\", mae_3, mse_3],\n",
        "                 [\"model\", mae, mse]]"
      ],
      "metadata": {
        "id": "4py9gQgA3UhB"
      },
      "execution_count": 150,
      "outputs": []
    },
    {
      "cell_type": "code",
      "source": [
        "import pandas as pd\n",
        "all_results = pd.DataFrame(model_results, columns=[\"model\", \"mae\", \"mse\"])\n",
        "all_results"
      ],
      "metadata": {
        "colab": {
          "base_uri": "https://localhost:8080/",
          "height": 175
        },
        "id": "T91iZ8bu3xvN",
        "outputId": "e892c593-7cf9-42d8-ac22-828e52a21cda"
      },
      "execution_count": 151,
      "outputs": [
        {
          "output_type": "execute_result",
          "data": {
            "text/plain": [
              "     model        mae          mse\n",
              "0  model_1  11.129301   123.883240\n",
              "1  model_2  30.170414   912.829773\n",
              "2  model_3  34.049229  1164.121460\n",
              "3    model   4.390671    19.454372"
            ],
            "text/html": [
              "\n",
              "  <div id=\"df-5d8715e9-a8c1-49d7-b54b-728202b5a1ba\">\n",
              "    <div class=\"colab-df-container\">\n",
              "      <div>\n",
              "<style scoped>\n",
              "    .dataframe tbody tr th:only-of-type {\n",
              "        vertical-align: middle;\n",
              "    }\n",
              "\n",
              "    .dataframe tbody tr th {\n",
              "        vertical-align: top;\n",
              "    }\n",
              "\n",
              "    .dataframe thead th {\n",
              "        text-align: right;\n",
              "    }\n",
              "</style>\n",
              "<table border=\"1\" class=\"dataframe\">\n",
              "  <thead>\n",
              "    <tr style=\"text-align: right;\">\n",
              "      <th></th>\n",
              "      <th>model</th>\n",
              "      <th>mae</th>\n",
              "      <th>mse</th>\n",
              "    </tr>\n",
              "  </thead>\n",
              "  <tbody>\n",
              "    <tr>\n",
              "      <th>0</th>\n",
              "      <td>model_1</td>\n",
              "      <td>11.129301</td>\n",
              "      <td>123.883240</td>\n",
              "    </tr>\n",
              "    <tr>\n",
              "      <th>1</th>\n",
              "      <td>model_2</td>\n",
              "      <td>30.170414</td>\n",
              "      <td>912.829773</td>\n",
              "    </tr>\n",
              "    <tr>\n",
              "      <th>2</th>\n",
              "      <td>model_3</td>\n",
              "      <td>34.049229</td>\n",
              "      <td>1164.121460</td>\n",
              "    </tr>\n",
              "    <tr>\n",
              "      <th>3</th>\n",
              "      <td>model</td>\n",
              "      <td>4.390671</td>\n",
              "      <td>19.454372</td>\n",
              "    </tr>\n",
              "  </tbody>\n",
              "</table>\n",
              "</div>\n",
              "      <button class=\"colab-df-convert\" onclick=\"convertToInteractive('df-5d8715e9-a8c1-49d7-b54b-728202b5a1ba')\"\n",
              "              title=\"Convert this dataframe to an interactive table.\"\n",
              "              style=\"display:none;\">\n",
              "        \n",
              "  <svg xmlns=\"http://www.w3.org/2000/svg\" height=\"24px\"viewBox=\"0 0 24 24\"\n",
              "       width=\"24px\">\n",
              "    <path d=\"M0 0h24v24H0V0z\" fill=\"none\"/>\n",
              "    <path d=\"M18.56 5.44l.94 2.06.94-2.06 2.06-.94-2.06-.94-.94-2.06-.94 2.06-2.06.94zm-11 1L8.5 8.5l.94-2.06 2.06-.94-2.06-.94L8.5 2.5l-.94 2.06-2.06.94zm10 10l.94 2.06.94-2.06 2.06-.94-2.06-.94-.94-2.06-.94 2.06-2.06.94z\"/><path d=\"M17.41 7.96l-1.37-1.37c-.4-.4-.92-.59-1.43-.59-.52 0-1.04.2-1.43.59L10.3 9.45l-7.72 7.72c-.78.78-.78 2.05 0 2.83L4 21.41c.39.39.9.59 1.41.59.51 0 1.02-.2 1.41-.59l7.78-7.78 2.81-2.81c.8-.78.8-2.07 0-2.86zM5.41 20L4 18.59l7.72-7.72 1.47 1.35L5.41 20z\"/>\n",
              "  </svg>\n",
              "      </button>\n",
              "      \n",
              "  <style>\n",
              "    .colab-df-container {\n",
              "      display:flex;\n",
              "      flex-wrap:wrap;\n",
              "      gap: 12px;\n",
              "    }\n",
              "\n",
              "    .colab-df-convert {\n",
              "      background-color: #E8F0FE;\n",
              "      border: none;\n",
              "      border-radius: 50%;\n",
              "      cursor: pointer;\n",
              "      display: none;\n",
              "      fill: #1967D2;\n",
              "      height: 32px;\n",
              "      padding: 0 0 0 0;\n",
              "      width: 32px;\n",
              "    }\n",
              "\n",
              "    .colab-df-convert:hover {\n",
              "      background-color: #E2EBFA;\n",
              "      box-shadow: 0px 1px 2px rgba(60, 64, 67, 0.3), 0px 1px 3px 1px rgba(60, 64, 67, 0.15);\n",
              "      fill: #174EA6;\n",
              "    }\n",
              "\n",
              "    [theme=dark] .colab-df-convert {\n",
              "      background-color: #3B4455;\n",
              "      fill: #D2E3FC;\n",
              "    }\n",
              "\n",
              "    [theme=dark] .colab-df-convert:hover {\n",
              "      background-color: #434B5C;\n",
              "      box-shadow: 0px 1px 3px 1px rgba(0, 0, 0, 0.15);\n",
              "      filter: drop-shadow(0px 1px 2px rgba(0, 0, 0, 0.3));\n",
              "      fill: #FFFFFF;\n",
              "    }\n",
              "  </style>\n",
              "\n",
              "      <script>\n",
              "        const buttonEl =\n",
              "          document.querySelector('#df-5d8715e9-a8c1-49d7-b54b-728202b5a1ba button.colab-df-convert');\n",
              "        buttonEl.style.display =\n",
              "          google.colab.kernel.accessAllowed ? 'block' : 'none';\n",
              "\n",
              "        async function convertToInteractive(key) {\n",
              "          const element = document.querySelector('#df-5d8715e9-a8c1-49d7-b54b-728202b5a1ba');\n",
              "          const dataTable =\n",
              "            await google.colab.kernel.invokeFunction('convertToInteractive',\n",
              "                                                     [key], {});\n",
              "          if (!dataTable) return;\n",
              "\n",
              "          const docLinkHtml = 'Like what you see? Visit the ' +\n",
              "            '<a target=\"_blank\" href=https://colab.research.google.com/notebooks/data_table.ipynb>data table notebook</a>'\n",
              "            + ' to learn more about interactive tables.';\n",
              "          element.innerHTML = '';\n",
              "          dataTable['output_type'] = 'display_data';\n",
              "          await google.colab.output.renderOutput(dataTable, element);\n",
              "          const docLink = document.createElement('div');\n",
              "          docLink.innerHTML = docLinkHtml;\n",
              "          element.appendChild(docLink);\n",
              "        }\n",
              "      </script>\n",
              "    </div>\n",
              "  </div>\n",
              "  "
            ]
          },
          "metadata": {},
          "execution_count": 151
        }
      ]
    },
    {
      "cell_type": "code",
      "source": [
        "# Save a model using the SavedModel format\n",
        "model.save('best_model_SavedModel_format')"
      ],
      "metadata": {
        "id": "IptCp40U31Zg"
      },
      "execution_count": null,
      "outputs": []
    },
    {
      "cell_type": "code",
      "source": [
        "# Check it out - outputs a protobuf binary file (.pb) as well as other files\n",
        "!ls best_model_SavedModel_format"
      ],
      "metadata": {
        "colab": {
          "base_uri": "https://localhost:8080/"
        },
        "id": "mBOPvhtt5PoU",
        "outputId": "fd66c821-e0ec-46f6-e39f-6ba28ba17c12"
      },
      "execution_count": 152,
      "outputs": [
        {
          "output_type": "stream",
          "name": "stdout",
          "text": [
            "ls: cannot access 'best_model_SavedModel_format': No such file or directory\n"
          ]
        }
      ]
    },
    {
      "cell_type": "code",
      "source": [
        "# Save a model using the HDF5 format\n",
        "model_2.save(\"best_model_HDF5_format.h5\") # note the addition of '.h5' on the end"
      ],
      "metadata": {
        "id": "90kdCw705QZw"
      },
      "execution_count": 153,
      "outputs": []
    },
    {
      "cell_type": "code",
      "source": [
        "# Check it out\n",
        "!ls best_model_HDF5_format.h5"
      ],
      "metadata": {
        "colab": {
          "base_uri": "https://localhost:8080/"
        },
        "id": "AeH_mKZw5o55",
        "outputId": "3e1a139d-9e50-4f23-b03f-5a7688a88575"
      },
      "execution_count": 154,
      "outputs": [
        {
          "output_type": "stream",
          "name": "stdout",
          "text": [
            "best_model_HDF5_format.h5\n"
          ]
        }
      ]
    },
    {
      "cell_type": "code",
      "source": [
        "# Load a model from the SavedModel format\n",
        "loaded_saved_model = tf.keras.models.load_model(\"best_model_HDF5_format.h5\")\n",
        "loaded_saved_model.summary()"
      ],
      "metadata": {
        "colab": {
          "base_uri": "https://localhost:8080/"
        },
        "id": "8o9PsRFW5q3c",
        "outputId": "c4f827c8-dffc-460c-b5cd-850278a1227e"
      },
      "execution_count": 157,
      "outputs": [
        {
          "output_type": "stream",
          "name": "stdout",
          "text": [
            "Model: \"sequential_44\"\n",
            "_________________________________________________________________\n",
            " Layer (type)                Output Shape              Param #   \n",
            "=================================================================\n",
            " dense_46 (Dense)            (None, 1)                 2         \n",
            "                                                                 \n",
            " dense_47 (Dense)            (None, 1)                 2         \n",
            "                                                                 \n",
            "=================================================================\n",
            "Total params: 4\n",
            "Trainable params: 4\n",
            "Non-trainable params: 0\n",
            "_________________________________________________________________\n"
          ]
        }
      ]
    },
    {
      "cell_type": "code",
      "source": [
        "import tensorflow as tf\n",
        "import pandas as pd\n",
        "import matplotlib.pyplot as plt"
      ],
      "metadata": {
        "id": "SwCgWyj351YN"
      },
      "execution_count": 1,
      "outputs": []
    },
    {
      "cell_type": "code",
      "source": [
        "# Read in the insurance dataset\n",
        "insurance = pd.read_csv(\"https://raw.githubusercontent.com/stedy/Machine-Learning-with-R-datasets/master/insurance.csv\")"
      ],
      "metadata": {
        "id": "JUVpVuFh7PB4"
      },
      "execution_count": 2,
      "outputs": []
    },
    {
      "cell_type": "code",
      "source": [
        "insurance.head()\n"
      ],
      "metadata": {
        "colab": {
          "base_uri": "https://localhost:8080/",
          "height": 206
        },
        "id": "nyzrzukiVfYt",
        "outputId": "8c193919-5746-42a4-b040-49052ca2ba88"
      },
      "execution_count": 3,
      "outputs": [
        {
          "output_type": "execute_result",
          "data": {
            "text/plain": [
              "   age     sex     bmi  children smoker     region      charges\n",
              "0   19  female  27.900         0    yes  southwest  16884.92400\n",
              "1   18    male  33.770         1     no  southeast   1725.55230\n",
              "2   28    male  33.000         3     no  southeast   4449.46200\n",
              "3   33    male  22.705         0     no  northwest  21984.47061\n",
              "4   32    male  28.880         0     no  northwest   3866.85520"
            ],
            "text/html": [
              "\n",
              "  <div id=\"df-e295a271-11f7-449b-9fe7-839dd65ba184\">\n",
              "    <div class=\"colab-df-container\">\n",
              "      <div>\n",
              "<style scoped>\n",
              "    .dataframe tbody tr th:only-of-type {\n",
              "        vertical-align: middle;\n",
              "    }\n",
              "\n",
              "    .dataframe tbody tr th {\n",
              "        vertical-align: top;\n",
              "    }\n",
              "\n",
              "    .dataframe thead th {\n",
              "        text-align: right;\n",
              "    }\n",
              "</style>\n",
              "<table border=\"1\" class=\"dataframe\">\n",
              "  <thead>\n",
              "    <tr style=\"text-align: right;\">\n",
              "      <th></th>\n",
              "      <th>age</th>\n",
              "      <th>sex</th>\n",
              "      <th>bmi</th>\n",
              "      <th>children</th>\n",
              "      <th>smoker</th>\n",
              "      <th>region</th>\n",
              "      <th>charges</th>\n",
              "    </tr>\n",
              "  </thead>\n",
              "  <tbody>\n",
              "    <tr>\n",
              "      <th>0</th>\n",
              "      <td>19</td>\n",
              "      <td>female</td>\n",
              "      <td>27.900</td>\n",
              "      <td>0</td>\n",
              "      <td>yes</td>\n",
              "      <td>southwest</td>\n",
              "      <td>16884.92400</td>\n",
              "    </tr>\n",
              "    <tr>\n",
              "      <th>1</th>\n",
              "      <td>18</td>\n",
              "      <td>male</td>\n",
              "      <td>33.770</td>\n",
              "      <td>1</td>\n",
              "      <td>no</td>\n",
              "      <td>southeast</td>\n",
              "      <td>1725.55230</td>\n",
              "    </tr>\n",
              "    <tr>\n",
              "      <th>2</th>\n",
              "      <td>28</td>\n",
              "      <td>male</td>\n",
              "      <td>33.000</td>\n",
              "      <td>3</td>\n",
              "      <td>no</td>\n",
              "      <td>southeast</td>\n",
              "      <td>4449.46200</td>\n",
              "    </tr>\n",
              "    <tr>\n",
              "      <th>3</th>\n",
              "      <td>33</td>\n",
              "      <td>male</td>\n",
              "      <td>22.705</td>\n",
              "      <td>0</td>\n",
              "      <td>no</td>\n",
              "      <td>northwest</td>\n",
              "      <td>21984.47061</td>\n",
              "    </tr>\n",
              "    <tr>\n",
              "      <th>4</th>\n",
              "      <td>32</td>\n",
              "      <td>male</td>\n",
              "      <td>28.880</td>\n",
              "      <td>0</td>\n",
              "      <td>no</td>\n",
              "      <td>northwest</td>\n",
              "      <td>3866.85520</td>\n",
              "    </tr>\n",
              "  </tbody>\n",
              "</table>\n",
              "</div>\n",
              "      <button class=\"colab-df-convert\" onclick=\"convertToInteractive('df-e295a271-11f7-449b-9fe7-839dd65ba184')\"\n",
              "              title=\"Convert this dataframe to an interactive table.\"\n",
              "              style=\"display:none;\">\n",
              "        \n",
              "  <svg xmlns=\"http://www.w3.org/2000/svg\" height=\"24px\"viewBox=\"0 0 24 24\"\n",
              "       width=\"24px\">\n",
              "    <path d=\"M0 0h24v24H0V0z\" fill=\"none\"/>\n",
              "    <path d=\"M18.56 5.44l.94 2.06.94-2.06 2.06-.94-2.06-.94-.94-2.06-.94 2.06-2.06.94zm-11 1L8.5 8.5l.94-2.06 2.06-.94-2.06-.94L8.5 2.5l-.94 2.06-2.06.94zm10 10l.94 2.06.94-2.06 2.06-.94-2.06-.94-.94-2.06-.94 2.06-2.06.94z\"/><path d=\"M17.41 7.96l-1.37-1.37c-.4-.4-.92-.59-1.43-.59-.52 0-1.04.2-1.43.59L10.3 9.45l-7.72 7.72c-.78.78-.78 2.05 0 2.83L4 21.41c.39.39.9.59 1.41.59.51 0 1.02-.2 1.41-.59l7.78-7.78 2.81-2.81c.8-.78.8-2.07 0-2.86zM5.41 20L4 18.59l7.72-7.72 1.47 1.35L5.41 20z\"/>\n",
              "  </svg>\n",
              "      </button>\n",
              "      \n",
              "  <style>\n",
              "    .colab-df-container {\n",
              "      display:flex;\n",
              "      flex-wrap:wrap;\n",
              "      gap: 12px;\n",
              "    }\n",
              "\n",
              "    .colab-df-convert {\n",
              "      background-color: #E8F0FE;\n",
              "      border: none;\n",
              "      border-radius: 50%;\n",
              "      cursor: pointer;\n",
              "      display: none;\n",
              "      fill: #1967D2;\n",
              "      height: 32px;\n",
              "      padding: 0 0 0 0;\n",
              "      width: 32px;\n",
              "    }\n",
              "\n",
              "    .colab-df-convert:hover {\n",
              "      background-color: #E2EBFA;\n",
              "      box-shadow: 0px 1px 2px rgba(60, 64, 67, 0.3), 0px 1px 3px 1px rgba(60, 64, 67, 0.15);\n",
              "      fill: #174EA6;\n",
              "    }\n",
              "\n",
              "    [theme=dark] .colab-df-convert {\n",
              "      background-color: #3B4455;\n",
              "      fill: #D2E3FC;\n",
              "    }\n",
              "\n",
              "    [theme=dark] .colab-df-convert:hover {\n",
              "      background-color: #434B5C;\n",
              "      box-shadow: 0px 1px 3px 1px rgba(0, 0, 0, 0.15);\n",
              "      filter: drop-shadow(0px 1px 2px rgba(0, 0, 0, 0.3));\n",
              "      fill: #FFFFFF;\n",
              "    }\n",
              "  </style>\n",
              "\n",
              "      <script>\n",
              "        const buttonEl =\n",
              "          document.querySelector('#df-e295a271-11f7-449b-9fe7-839dd65ba184 button.colab-df-convert');\n",
              "        buttonEl.style.display =\n",
              "          google.colab.kernel.accessAllowed ? 'block' : 'none';\n",
              "\n",
              "        async function convertToInteractive(key) {\n",
              "          const element = document.querySelector('#df-e295a271-11f7-449b-9fe7-839dd65ba184');\n",
              "          const dataTable =\n",
              "            await google.colab.kernel.invokeFunction('convertToInteractive',\n",
              "                                                     [key], {});\n",
              "          if (!dataTable) return;\n",
              "\n",
              "          const docLinkHtml = 'Like what you see? Visit the ' +\n",
              "            '<a target=\"_blank\" href=https://colab.research.google.com/notebooks/data_table.ipynb>data table notebook</a>'\n",
              "            + ' to learn more about interactive tables.';\n",
              "          element.innerHTML = '';\n",
              "          dataTable['output_type'] = 'display_data';\n",
              "          await google.colab.output.renderOutput(dataTable, element);\n",
              "          const docLink = document.createElement('div');\n",
              "          docLink.innerHTML = docLinkHtml;\n",
              "          element.appendChild(docLink);\n",
              "        }\n",
              "      </script>\n",
              "    </div>\n",
              "  </div>\n",
              "  "
            ]
          },
          "metadata": {},
          "execution_count": 3
        }
      ]
    },
    {
      "cell_type": "code",
      "source": [
        "insurance_one_hot = pd.get_dummies(insurance)\n",
        "insurance_one_hot.head()"
      ],
      "metadata": {
        "colab": {
          "base_uri": "https://localhost:8080/",
          "height": 270
        },
        "id": "dOXFfuSaViUr",
        "outputId": "e8c33d37-3011-40d7-8df3-22a3574e080e"
      },
      "execution_count": 4,
      "outputs": [
        {
          "output_type": "execute_result",
          "data": {
            "text/plain": [
              "   age     bmi  children      charges  sex_female  sex_male  smoker_no  \\\n",
              "0   19  27.900         0  16884.92400           1         0          0   \n",
              "1   18  33.770         1   1725.55230           0         1          1   \n",
              "2   28  33.000         3   4449.46200           0         1          1   \n",
              "3   33  22.705         0  21984.47061           0         1          1   \n",
              "4   32  28.880         0   3866.85520           0         1          1   \n",
              "\n",
              "   smoker_yes  region_northeast  region_northwest  region_southeast  \\\n",
              "0           1                 0                 0                 0   \n",
              "1           0                 0                 0                 1   \n",
              "2           0                 0                 0                 1   \n",
              "3           0                 0                 1                 0   \n",
              "4           0                 0                 1                 0   \n",
              "\n",
              "   region_southwest  \n",
              "0                 1  \n",
              "1                 0  \n",
              "2                 0  \n",
              "3                 0  \n",
              "4                 0  "
            ],
            "text/html": [
              "\n",
              "  <div id=\"df-08c40799-00d5-4986-af59-7343f5cef19f\">\n",
              "    <div class=\"colab-df-container\">\n",
              "      <div>\n",
              "<style scoped>\n",
              "    .dataframe tbody tr th:only-of-type {\n",
              "        vertical-align: middle;\n",
              "    }\n",
              "\n",
              "    .dataframe tbody tr th {\n",
              "        vertical-align: top;\n",
              "    }\n",
              "\n",
              "    .dataframe thead th {\n",
              "        text-align: right;\n",
              "    }\n",
              "</style>\n",
              "<table border=\"1\" class=\"dataframe\">\n",
              "  <thead>\n",
              "    <tr style=\"text-align: right;\">\n",
              "      <th></th>\n",
              "      <th>age</th>\n",
              "      <th>bmi</th>\n",
              "      <th>children</th>\n",
              "      <th>charges</th>\n",
              "      <th>sex_female</th>\n",
              "      <th>sex_male</th>\n",
              "      <th>smoker_no</th>\n",
              "      <th>smoker_yes</th>\n",
              "      <th>region_northeast</th>\n",
              "      <th>region_northwest</th>\n",
              "      <th>region_southeast</th>\n",
              "      <th>region_southwest</th>\n",
              "    </tr>\n",
              "  </thead>\n",
              "  <tbody>\n",
              "    <tr>\n",
              "      <th>0</th>\n",
              "      <td>19</td>\n",
              "      <td>27.900</td>\n",
              "      <td>0</td>\n",
              "      <td>16884.92400</td>\n",
              "      <td>1</td>\n",
              "      <td>0</td>\n",
              "      <td>0</td>\n",
              "      <td>1</td>\n",
              "      <td>0</td>\n",
              "      <td>0</td>\n",
              "      <td>0</td>\n",
              "      <td>1</td>\n",
              "    </tr>\n",
              "    <tr>\n",
              "      <th>1</th>\n",
              "      <td>18</td>\n",
              "      <td>33.770</td>\n",
              "      <td>1</td>\n",
              "      <td>1725.55230</td>\n",
              "      <td>0</td>\n",
              "      <td>1</td>\n",
              "      <td>1</td>\n",
              "      <td>0</td>\n",
              "      <td>0</td>\n",
              "      <td>0</td>\n",
              "      <td>1</td>\n",
              "      <td>0</td>\n",
              "    </tr>\n",
              "    <tr>\n",
              "      <th>2</th>\n",
              "      <td>28</td>\n",
              "      <td>33.000</td>\n",
              "      <td>3</td>\n",
              "      <td>4449.46200</td>\n",
              "      <td>0</td>\n",
              "      <td>1</td>\n",
              "      <td>1</td>\n",
              "      <td>0</td>\n",
              "      <td>0</td>\n",
              "      <td>0</td>\n",
              "      <td>1</td>\n",
              "      <td>0</td>\n",
              "    </tr>\n",
              "    <tr>\n",
              "      <th>3</th>\n",
              "      <td>33</td>\n",
              "      <td>22.705</td>\n",
              "      <td>0</td>\n",
              "      <td>21984.47061</td>\n",
              "      <td>0</td>\n",
              "      <td>1</td>\n",
              "      <td>1</td>\n",
              "      <td>0</td>\n",
              "      <td>0</td>\n",
              "      <td>1</td>\n",
              "      <td>0</td>\n",
              "      <td>0</td>\n",
              "    </tr>\n",
              "    <tr>\n",
              "      <th>4</th>\n",
              "      <td>32</td>\n",
              "      <td>28.880</td>\n",
              "      <td>0</td>\n",
              "      <td>3866.85520</td>\n",
              "      <td>0</td>\n",
              "      <td>1</td>\n",
              "      <td>1</td>\n",
              "      <td>0</td>\n",
              "      <td>0</td>\n",
              "      <td>1</td>\n",
              "      <td>0</td>\n",
              "      <td>0</td>\n",
              "    </tr>\n",
              "  </tbody>\n",
              "</table>\n",
              "</div>\n",
              "      <button class=\"colab-df-convert\" onclick=\"convertToInteractive('df-08c40799-00d5-4986-af59-7343f5cef19f')\"\n",
              "              title=\"Convert this dataframe to an interactive table.\"\n",
              "              style=\"display:none;\">\n",
              "        \n",
              "  <svg xmlns=\"http://www.w3.org/2000/svg\" height=\"24px\"viewBox=\"0 0 24 24\"\n",
              "       width=\"24px\">\n",
              "    <path d=\"M0 0h24v24H0V0z\" fill=\"none\"/>\n",
              "    <path d=\"M18.56 5.44l.94 2.06.94-2.06 2.06-.94-2.06-.94-.94-2.06-.94 2.06-2.06.94zm-11 1L8.5 8.5l.94-2.06 2.06-.94-2.06-.94L8.5 2.5l-.94 2.06-2.06.94zm10 10l.94 2.06.94-2.06 2.06-.94-2.06-.94-.94-2.06-.94 2.06-2.06.94z\"/><path d=\"M17.41 7.96l-1.37-1.37c-.4-.4-.92-.59-1.43-.59-.52 0-1.04.2-1.43.59L10.3 9.45l-7.72 7.72c-.78.78-.78 2.05 0 2.83L4 21.41c.39.39.9.59 1.41.59.51 0 1.02-.2 1.41-.59l7.78-7.78 2.81-2.81c.8-.78.8-2.07 0-2.86zM5.41 20L4 18.59l7.72-7.72 1.47 1.35L5.41 20z\"/>\n",
              "  </svg>\n",
              "      </button>\n",
              "      \n",
              "  <style>\n",
              "    .colab-df-container {\n",
              "      display:flex;\n",
              "      flex-wrap:wrap;\n",
              "      gap: 12px;\n",
              "    }\n",
              "\n",
              "    .colab-df-convert {\n",
              "      background-color: #E8F0FE;\n",
              "      border: none;\n",
              "      border-radius: 50%;\n",
              "      cursor: pointer;\n",
              "      display: none;\n",
              "      fill: #1967D2;\n",
              "      height: 32px;\n",
              "      padding: 0 0 0 0;\n",
              "      width: 32px;\n",
              "    }\n",
              "\n",
              "    .colab-df-convert:hover {\n",
              "      background-color: #E2EBFA;\n",
              "      box-shadow: 0px 1px 2px rgba(60, 64, 67, 0.3), 0px 1px 3px 1px rgba(60, 64, 67, 0.15);\n",
              "      fill: #174EA6;\n",
              "    }\n",
              "\n",
              "    [theme=dark] .colab-df-convert {\n",
              "      background-color: #3B4455;\n",
              "      fill: #D2E3FC;\n",
              "    }\n",
              "\n",
              "    [theme=dark] .colab-df-convert:hover {\n",
              "      background-color: #434B5C;\n",
              "      box-shadow: 0px 1px 3px 1px rgba(0, 0, 0, 0.15);\n",
              "      filter: drop-shadow(0px 1px 2px rgba(0, 0, 0, 0.3));\n",
              "      fill: #FFFFFF;\n",
              "    }\n",
              "  </style>\n",
              "\n",
              "      <script>\n",
              "        const buttonEl =\n",
              "          document.querySelector('#df-08c40799-00d5-4986-af59-7343f5cef19f button.colab-df-convert');\n",
              "        buttonEl.style.display =\n",
              "          google.colab.kernel.accessAllowed ? 'block' : 'none';\n",
              "\n",
              "        async function convertToInteractive(key) {\n",
              "          const element = document.querySelector('#df-08c40799-00d5-4986-af59-7343f5cef19f');\n",
              "          const dataTable =\n",
              "            await google.colab.kernel.invokeFunction('convertToInteractive',\n",
              "                                                     [key], {});\n",
              "          if (!dataTable) return;\n",
              "\n",
              "          const docLinkHtml = 'Like what you see? Visit the ' +\n",
              "            '<a target=\"_blank\" href=https://colab.research.google.com/notebooks/data_table.ipynb>data table notebook</a>'\n",
              "            + ' to learn more about interactive tables.';\n",
              "          element.innerHTML = '';\n",
              "          dataTable['output_type'] = 'display_data';\n",
              "          await google.colab.output.renderOutput(dataTable, element);\n",
              "          const docLink = document.createElement('div');\n",
              "          docLink.innerHTML = docLinkHtml;\n",
              "          element.appendChild(docLink);\n",
              "        }\n",
              "      </script>\n",
              "    </div>\n",
              "  </div>\n",
              "  "
            ]
          },
          "metadata": {},
          "execution_count": 4
        }
      ]
    },
    {
      "cell_type": "code",
      "source": [
        "X = insurance_one_hot.drop(\"charges\", axis=1)\n",
        "y = insurance_one_hot[\"charges\"]\n",
        "print(X)\n",
        "print(\"jay\")\n",
        "print(y)"
      ],
      "metadata": {
        "colab": {
          "base_uri": "https://localhost:8080/"
        },
        "id": "18GrzKNNVnN6",
        "outputId": "70624ce3-6a66-4cc3-c9e5-74dc5a00d739"
      },
      "execution_count": 9,
      "outputs": [
        {
          "output_type": "stream",
          "name": "stdout",
          "text": [
            "      age     bmi  children  sex_female  sex_male  smoker_no  smoker_yes  \\\n",
            "0      19  27.900         0           1         0          0           1   \n",
            "1      18  33.770         1           0         1          1           0   \n",
            "2      28  33.000         3           0         1          1           0   \n",
            "3      33  22.705         0           0         1          1           0   \n",
            "4      32  28.880         0           0         1          1           0   \n",
            "...   ...     ...       ...         ...       ...        ...         ...   \n",
            "1333   50  30.970         3           0         1          1           0   \n",
            "1334   18  31.920         0           1         0          1           0   \n",
            "1335   18  36.850         0           1         0          1           0   \n",
            "1336   21  25.800         0           1         0          1           0   \n",
            "1337   61  29.070         0           1         0          0           1   \n",
            "\n",
            "      region_northeast  region_northwest  region_southeast  region_southwest  \n",
            "0                    0                 0                 0                 1  \n",
            "1                    0                 0                 1                 0  \n",
            "2                    0                 0                 1                 0  \n",
            "3                    0                 1                 0                 0  \n",
            "4                    0                 1                 0                 0  \n",
            "...                ...               ...               ...               ...  \n",
            "1333                 0                 1                 0                 0  \n",
            "1334                 1                 0                 0                 0  \n",
            "1335                 0                 0                 1                 0  \n",
            "1336                 0                 0                 0                 1  \n",
            "1337                 0                 1                 0                 0  \n",
            "\n",
            "[1338 rows x 11 columns]\n",
            "jay\n",
            "0       16884.92400\n",
            "1        1725.55230\n",
            "2        4449.46200\n",
            "3       21984.47061\n",
            "4        3866.85520\n",
            "           ...     \n",
            "1333    10600.54830\n",
            "1334     2205.98080\n",
            "1335     1629.83350\n",
            "1336     2007.94500\n",
            "1337    29141.36030\n",
            "Name: charges, Length: 1338, dtype: float64\n"
          ]
        }
      ]
    },
    {
      "cell_type": "code",
      "source": [
        "from sklearn.model_selection import train_test_split\n",
        "X_train, X_test, y_train, y_test = train_test_split(X, \n",
        "                                                    y, \n",
        "                                                    test_size=0.2, \n",
        "                                                    random_state=42)"
      ],
      "metadata": {
        "id": "Ut365uI4WOWr"
      },
      "execution_count": 10,
      "outputs": []
    },
    {
      "cell_type": "code",
      "source": [
        "tf.random.set_seed(42)\n",
        "\n",
        "# Create a new model (same as model_2)\n",
        "insurance_model = tf.keras.Sequential([\n",
        "  tf.keras.layers.Dense(1),\n",
        "  tf.keras.layers.Dense(1)\n",
        "])\n",
        "\n",
        "# Compile the model\n",
        "insurance_model.compile(loss=tf.keras.losses.mae,\n",
        "                        optimizer=tf.keras.optimizers.SGD(),\n",
        "                        metrics=['mae'])\n",
        "\n",
        "# Fit the model\n",
        "insurance_model.fit(X_train, y_train, epochs=100)"
      ],
      "metadata": {
        "colab": {
          "base_uri": "https://localhost:8080/"
        },
        "id": "Yh0lkAWAcJkh",
        "outputId": "cec718f6-b8e6-4ff4-f1fd-3df726ee3993"
      },
      "execution_count": 11,
      "outputs": [
        {
          "output_type": "stream",
          "name": "stdout",
          "text": [
            "Epoch 1/100\n",
            "34/34 [==============================] - 1s 1ms/step - loss: 8868.5918 - mae: 8868.5918\n",
            "Epoch 2/100\n",
            "34/34 [==============================] - 0s 2ms/step - loss: 7887.1606 - mae: 7887.1606\n",
            "Epoch 3/100\n",
            "34/34 [==============================] - 0s 1ms/step - loss: 7537.0947 - mae: 7537.0947\n",
            "Epoch 4/100\n",
            "34/34 [==============================] - 0s 2ms/step - loss: 7859.4336 - mae: 7859.4336\n",
            "Epoch 5/100\n",
            "34/34 [==============================] - 0s 2ms/step - loss: 7639.6699 - mae: 7639.6699\n",
            "Epoch 6/100\n",
            "34/34 [==============================] - 0s 2ms/step - loss: 7578.0859 - mae: 7578.0859\n",
            "Epoch 7/100\n",
            "34/34 [==============================] - 0s 2ms/step - loss: 7514.6172 - mae: 7514.6172\n",
            "Epoch 8/100\n",
            "34/34 [==============================] - 0s 1ms/step - loss: 7694.1338 - mae: 7694.1338\n",
            "Epoch 9/100\n",
            "34/34 [==============================] - 0s 1ms/step - loss: 7595.9136 - mae: 7595.9136\n",
            "Epoch 10/100\n",
            "34/34 [==============================] - 0s 2ms/step - loss: 7735.9116 - mae: 7735.9116\n",
            "Epoch 11/100\n",
            "34/34 [==============================] - 0s 1ms/step - loss: 7444.4189 - mae: 7444.4189\n",
            "Epoch 12/100\n",
            "34/34 [==============================] - 0s 1ms/step - loss: 7678.0337 - mae: 7678.0337\n",
            "Epoch 13/100\n",
            "34/34 [==============================] - 0s 2ms/step - loss: 7681.5840 - mae: 7681.5840\n",
            "Epoch 14/100\n",
            "34/34 [==============================] - 0s 1ms/step - loss: 7702.2842 - mae: 7702.2842\n",
            "Epoch 15/100\n",
            "34/34 [==============================] - 0s 1ms/step - loss: 7585.8921 - mae: 7585.8921\n",
            "Epoch 16/100\n",
            "34/34 [==============================] - 0s 1ms/step - loss: 7689.5356 - mae: 7689.5356\n",
            "Epoch 17/100\n",
            "34/34 [==============================] - 0s 1ms/step - loss: 7509.2036 - mae: 7509.2036\n",
            "Epoch 18/100\n",
            "34/34 [==============================] - 0s 1ms/step - loss: 7695.0093 - mae: 7695.0093\n",
            "Epoch 19/100\n",
            "34/34 [==============================] - 0s 1ms/step - loss: 7669.3740 - mae: 7669.3740\n",
            "Epoch 20/100\n",
            "34/34 [==============================] - 0s 1ms/step - loss: 7901.1362 - mae: 7901.1362\n",
            "Epoch 21/100\n",
            "34/34 [==============================] - 0s 1ms/step - loss: 7552.4814 - mae: 7552.4814\n",
            "Epoch 22/100\n",
            "34/34 [==============================] - 0s 1ms/step - loss: 7844.9961 - mae: 7844.9961\n",
            "Epoch 23/100\n",
            "34/34 [==============================] - 0s 1ms/step - loss: 7642.2490 - mae: 7642.2490\n",
            "Epoch 24/100\n",
            "34/34 [==============================] - 0s 2ms/step - loss: 7515.3081 - mae: 7515.3081\n",
            "Epoch 25/100\n",
            "34/34 [==============================] - 0s 1ms/step - loss: 7678.3506 - mae: 7678.3506\n",
            "Epoch 26/100\n",
            "34/34 [==============================] - 0s 1ms/step - loss: 7653.0269 - mae: 7653.0269\n",
            "Epoch 27/100\n",
            "34/34 [==============================] - 0s 1ms/step - loss: 7559.5449 - mae: 7559.5449\n",
            "Epoch 28/100\n",
            "34/34 [==============================] - 0s 1ms/step - loss: 7459.9404 - mae: 7459.9404\n",
            "Epoch 29/100\n",
            "34/34 [==============================] - 0s 2ms/step - loss: 7618.6177 - mae: 7618.6177\n",
            "Epoch 30/100\n",
            "34/34 [==============================] - 0s 2ms/step - loss: 7628.6250 - mae: 7628.6250\n",
            "Epoch 31/100\n",
            "34/34 [==============================] - 0s 1ms/step - loss: 7540.4893 - mae: 7540.4893\n",
            "Epoch 32/100\n",
            "34/34 [==============================] - 0s 1ms/step - loss: 7486.0186 - mae: 7486.0186\n",
            "Epoch 33/100\n",
            "34/34 [==============================] - 0s 1ms/step - loss: 7418.6646 - mae: 7418.6646\n",
            "Epoch 34/100\n",
            "34/34 [==============================] - 0s 2ms/step - loss: 7480.7319 - mae: 7480.7319\n",
            "Epoch 35/100\n",
            "34/34 [==============================] - 0s 1ms/step - loss: 7615.3115 - mae: 7615.3115\n",
            "Epoch 36/100\n",
            "34/34 [==============================] - 0s 1ms/step - loss: 7566.7896 - mae: 7566.7896\n",
            "Epoch 37/100\n",
            "34/34 [==============================] - 0s 2ms/step - loss: 7661.0884 - mae: 7661.0884\n",
            "Epoch 38/100\n",
            "34/34 [==============================] - 0s 1ms/step - loss: 7522.6816 - mae: 7522.6816\n",
            "Epoch 39/100\n",
            "34/34 [==============================] - 0s 1ms/step - loss: 7556.0718 - mae: 7556.0718\n",
            "Epoch 40/100\n",
            "34/34 [==============================] - 0s 1ms/step - loss: 7433.5669 - mae: 7433.5669\n",
            "Epoch 41/100\n",
            "34/34 [==============================] - 0s 1ms/step - loss: 7722.4321 - mae: 7722.4321\n",
            "Epoch 42/100\n",
            "34/34 [==============================] - 0s 1ms/step - loss: 7344.2700 - mae: 7344.2700\n",
            "Epoch 43/100\n",
            "34/34 [==============================] - 0s 1ms/step - loss: 7597.4331 - mae: 7597.4331\n",
            "Epoch 44/100\n",
            "34/34 [==============================] - 0s 2ms/step - loss: 7338.0132 - mae: 7338.0132\n",
            "Epoch 45/100\n",
            "34/34 [==============================] - 0s 1ms/step - loss: 7510.3467 - mae: 7510.3467\n",
            "Epoch 46/100\n",
            "34/34 [==============================] - 0s 1ms/step - loss: 7413.5801 - mae: 7413.5801\n",
            "Epoch 47/100\n",
            "34/34 [==============================] - 0s 1ms/step - loss: 7451.0391 - mae: 7451.0391\n",
            "Epoch 48/100\n",
            "34/34 [==============================] - 0s 2ms/step - loss: 7340.5381 - mae: 7340.5381\n",
            "Epoch 49/100\n",
            "34/34 [==============================] - 0s 1ms/step - loss: 7481.9966 - mae: 7481.9966\n",
            "Epoch 50/100\n",
            "34/34 [==============================] - 0s 1ms/step - loss: 7468.2842 - mae: 7468.2842\n",
            "Epoch 51/100\n",
            "34/34 [==============================] - 0s 1ms/step - loss: 7411.3408 - mae: 7411.3408\n",
            "Epoch 52/100\n",
            "34/34 [==============================] - 0s 2ms/step - loss: 7460.0796 - mae: 7460.0796\n",
            "Epoch 53/100\n",
            "34/34 [==============================] - 0s 1ms/step - loss: 7601.6606 - mae: 7601.6606\n",
            "Epoch 54/100\n",
            "34/34 [==============================] - 0s 1ms/step - loss: 7241.2544 - mae: 7241.2544\n",
            "Epoch 55/100\n",
            "34/34 [==============================] - 0s 1ms/step - loss: 7539.6953 - mae: 7539.6953\n",
            "Epoch 56/100\n",
            "34/34 [==============================] - 0s 1ms/step - loss: 7293.2012 - mae: 7293.2012\n",
            "Epoch 57/100\n",
            "34/34 [==============================] - 0s 1ms/step - loss: 7417.9731 - mae: 7417.9731\n",
            "Epoch 58/100\n",
            "34/34 [==============================] - 0s 1ms/step - loss: 7353.0625 - mae: 7353.0625\n",
            "Epoch 59/100\n",
            "34/34 [==============================] - 0s 1ms/step - loss: 7643.8237 - mae: 7643.8237\n",
            "Epoch 60/100\n",
            "34/34 [==============================] - 0s 1ms/step - loss: 7410.4004 - mae: 7410.4004\n",
            "Epoch 61/100\n",
            "34/34 [==============================] - 0s 1ms/step - loss: 7612.8330 - mae: 7612.8330\n",
            "Epoch 62/100\n",
            "34/34 [==============================] - 0s 1ms/step - loss: 7387.9087 - mae: 7387.9087\n",
            "Epoch 63/100\n",
            "34/34 [==============================] - 0s 1ms/step - loss: 7359.5605 - mae: 7359.5605\n",
            "Epoch 64/100\n",
            "34/34 [==============================] - 0s 1ms/step - loss: 7109.0884 - mae: 7109.0884\n",
            "Epoch 65/100\n",
            "34/34 [==============================] - 0s 1ms/step - loss: 7396.3223 - mae: 7396.3223\n",
            "Epoch 66/100\n",
            "34/34 [==============================] - 0s 2ms/step - loss: 7179.8613 - mae: 7179.8613\n",
            "Epoch 67/100\n",
            "34/34 [==============================] - 0s 1ms/step - loss: 7289.7710 - mae: 7289.7710\n",
            "Epoch 68/100\n",
            "34/34 [==============================] - 0s 1ms/step - loss: 7523.6973 - mae: 7523.6973\n",
            "Epoch 69/100\n",
            "34/34 [==============================] - 0s 1ms/step - loss: 7442.6157 - mae: 7442.6157\n",
            "Epoch 70/100\n",
            "34/34 [==============================] - 0s 1ms/step - loss: 7673.4834 - mae: 7673.4834\n",
            "Epoch 71/100\n",
            "34/34 [==============================] - 0s 1ms/step - loss: 7276.0337 - mae: 7276.0337\n",
            "Epoch 72/100\n",
            "34/34 [==============================] - 0s 1ms/step - loss: 7246.3721 - mae: 7246.3721\n",
            "Epoch 73/100\n",
            "34/34 [==============================] - 0s 1ms/step - loss: 7372.0718 - mae: 7372.0718\n",
            "Epoch 74/100\n",
            "34/34 [==============================] - 0s 1ms/step - loss: 7512.0762 - mae: 7512.0762\n",
            "Epoch 75/100\n",
            "34/34 [==============================] - 0s 1ms/step - loss: 7269.7437 - mae: 7269.7437\n",
            "Epoch 76/100\n",
            "34/34 [==============================] - 0s 1ms/step - loss: 7199.5039 - mae: 7199.5039\n",
            "Epoch 77/100\n",
            "34/34 [==============================] - 0s 1ms/step - loss: 7261.2920 - mae: 7261.2920\n",
            "Epoch 78/100\n",
            "34/34 [==============================] - 0s 1ms/step - loss: 7185.7627 - mae: 7185.7627\n",
            "Epoch 79/100\n",
            "34/34 [==============================] - 0s 1ms/step - loss: 7301.7495 - mae: 7301.7495\n",
            "Epoch 80/100\n",
            "34/34 [==============================] - 0s 1ms/step - loss: 7002.6309 - mae: 7002.6309\n",
            "Epoch 81/100\n",
            "34/34 [==============================] - 0s 1ms/step - loss: 7289.1357 - mae: 7289.1357\n",
            "Epoch 82/100\n",
            "34/34 [==============================] - 0s 1ms/step - loss: 7155.3945 - mae: 7155.3945\n",
            "Epoch 83/100\n",
            "34/34 [==============================] - 0s 1ms/step - loss: 7475.1709 - mae: 7475.1709\n",
            "Epoch 84/100\n",
            "34/34 [==============================] - 0s 2ms/step - loss: 7387.3672 - mae: 7387.3672\n",
            "Epoch 85/100\n",
            "34/34 [==============================] - 0s 1ms/step - loss: 7289.9448 - mae: 7289.9448\n",
            "Epoch 86/100\n",
            "34/34 [==============================] - 0s 1ms/step - loss: 7268.0942 - mae: 7268.0942\n",
            "Epoch 87/100\n",
            "34/34 [==============================] - 0s 1ms/step - loss: 7238.5869 - mae: 7238.5869\n",
            "Epoch 88/100\n",
            "34/34 [==============================] - 0s 2ms/step - loss: 7201.7354 - mae: 7201.7349\n",
            "Epoch 89/100\n",
            "34/34 [==============================] - 0s 2ms/step - loss: 7538.0757 - mae: 7538.0757\n",
            "Epoch 90/100\n",
            "34/34 [==============================] - 0s 1ms/step - loss: 6967.1187 - mae: 6967.1187\n",
            "Epoch 91/100\n",
            "34/34 [==============================] - 0s 2ms/step - loss: 7314.1294 - mae: 7314.1294\n",
            "Epoch 92/100\n",
            "34/34 [==============================] - 0s 2ms/step - loss: 7192.3115 - mae: 7192.3115\n",
            "Epoch 93/100\n",
            "34/34 [==============================] - 0s 2ms/step - loss: 7530.8774 - mae: 7530.8774\n",
            "Epoch 94/100\n",
            "34/34 [==============================] - 0s 1ms/step - loss: 7187.3579 - mae: 7187.3579\n",
            "Epoch 95/100\n",
            "34/34 [==============================] - 0s 1ms/step - loss: 7561.5635 - mae: 7561.5635\n",
            "Epoch 96/100\n",
            "34/34 [==============================] - 0s 1ms/step - loss: 7263.4648 - mae: 7263.4648\n",
            "Epoch 97/100\n",
            "34/34 [==============================] - 0s 1ms/step - loss: 7146.2896 - mae: 7146.2896\n",
            "Epoch 98/100\n",
            "34/34 [==============================] - 0s 1ms/step - loss: 7247.9238 - mae: 7247.9238\n",
            "Epoch 99/100\n",
            "34/34 [==============================] - 0s 1ms/step - loss: 7200.6694 - mae: 7200.6694\n",
            "Epoch 100/100\n",
            "34/34 [==============================] - 0s 2ms/step - loss: 7301.6870 - mae: 7301.6870\n"
          ]
        },
        {
          "output_type": "execute_result",
          "data": {
            "text/plain": [
              "<keras.callbacks.History at 0x7fa1885f5090>"
            ]
          },
          "metadata": {},
          "execution_count": 11
        }
      ]
    },
    {
      "cell_type": "code",
      "source": [
        "# Check the results of the insurance model\n",
        "insurance_model.evaluate(X_test, y_test)"
      ],
      "metadata": {
        "colab": {
          "base_uri": "https://localhost:8080/"
        },
        "id": "S6kT-MndcQRY",
        "outputId": "b4783e50-28de-4566-95c1-5d77b0e9d59d"
      },
      "execution_count": 12,
      "outputs": [
        {
          "output_type": "stream",
          "name": "stdout",
          "text": [
            "9/9 [==============================] - 0s 4ms/step - loss: 8628.2393 - mae: 8628.2393\n"
          ]
        },
        {
          "output_type": "execute_result",
          "data": {
            "text/plain": [
              "[8628.2392578125, 8628.2392578125]"
            ]
          },
          "metadata": {},
          "execution_count": 12
        }
      ]
    },
    {
      "cell_type": "markdown",
      "source": [
        "Our model didn't perform very well, let's try a bigger model.\n",
        "\n",
        "We'll try 3 things:\n",
        "\n",
        "Increasing the number of layers (2 -> 3).\n",
        "\n",
        "Increasing the number of units in each layer (except for the output layer).\n",
        "\n",
        "Changing the optimizer (from SGD to Adam).\n",
        "\n",
        "Everything else will stay the same."
      ],
      "metadata": {
        "id": "QmcFBat0c55U"
      }
    },
    {
      "cell_type": "code",
      "source": [
        "# Set random seed\n",
        "tf.random.set_seed(42)\n",
        "\n",
        "# Add an extra layer and increase number of units\n",
        "insurance_model_2 = tf.keras.Sequential([\n",
        "  tf.keras.layers.Dense(100), # 100 units\n",
        "  tf.keras.layers.Dense(10), # 10 units\n",
        "  tf.keras.layers.Dense(1) # 1 unit (important for output layer)\n",
        "])\n",
        "\n",
        "# Compile the model\n",
        "insurance_model_2.compile(loss=tf.keras.losses.mae,\n",
        "                          optimizer=tf.keras.optimizers.Adam(), # Adam works but SGD doesn't \n",
        "                          metrics=['mae'])\n",
        "\n",
        "# Fit the model and save the history (we can plot this)\n",
        "history = insurance_model_2.fit(X_train, y_train, epochs=100, verbose=0)\n"
      ],
      "metadata": {
        "colab": {
          "base_uri": "https://localhost:8080/"
        },
        "id": "Fmz9yLflco9o",
        "outputId": "0c9b923d-aa8d-43b3-feba-76b99eb67516"
      },
      "execution_count": 16,
      "outputs": [
        {
          "output_type": "execute_result",
          "data": {
            "text/plain": [
              "<keras.callbacks.History at 0x7fa186d9e490>"
            ]
          },
          "metadata": {},
          "execution_count": 16
        }
      ]
    },
    {
      "cell_type": "code",
      "source": [
        "# Evaluate our larger model\n",
        "insurance_model_2.evaluate(X_test, y_test)"
      ],
      "metadata": {
        "colab": {
          "base_uri": "https://localhost:8080/"
        },
        "id": "eyn0PB0sdXz9",
        "outputId": "e0ce65a1-8deb-4d75-9658-00901dce61da"
      },
      "execution_count": 17,
      "outputs": [
        {
          "output_type": "stream",
          "name": "stdout",
          "text": [
            "9/9 [==============================] - 0s 4ms/step - loss: 4924.3477 - mae: 4924.3477\n"
          ]
        },
        {
          "output_type": "execute_result",
          "data": {
            "text/plain": [
              "[4924.34765625, 4924.34765625]"
            ]
          },
          "metadata": {},
          "execution_count": 17
        }
      ]
    },
    {
      "cell_type": "code",
      "source": [
        "# Plot history (also known as a loss curve)\n",
        "pd.DataFrame(history.history).plot()\n",
        "plt.ylabel(\"loss\")\n",
        "plt.xlabel(\"epochs\");"
      ],
      "metadata": {
        "colab": {
          "base_uri": "https://localhost:8080/",
          "height": 279
        },
        "id": "n8anQX5CeVGK",
        "outputId": "8b3c45fc-7a1e-41f5-ae70-e5fd27b45c5a"
      },
      "execution_count": 18,
      "outputs": [
        {
          "output_type": "display_data",
          "data": {
            "text/plain": [
              "<Figure size 432x288 with 1 Axes>"
            ],
            "image/png": "[encoded data removed]"
          },
          "metadata": {
            "needs_background": "light"
          }
        }
      ]
    },
    {
      "cell_type": "code",
      "source": [
        "# Try training for a little longer (100 more epochs)\n",
        "history_2 = insurance_model_2.fit(X_train, y_train, epochs=100, verbose=0)"
      ],
      "metadata": {
        "id": "-rSP15eCiCiD"
      },
      "execution_count": 19,
      "outputs": []
    },
    {
      "cell_type": "code",
      "source": [
        "# Evaluate the model trained for 200 total epochs\n",
        "insurance_model_2_loss, insurance_model_2_mae = insurance_model_2.evaluate(X_test, y_test)\n",
        "insurance_model_2_loss, insurance_model_2_mae"
      ],
      "metadata": {
        "colab": {
          "base_uri": "https://localhost:8080/"
        },
        "id": "qAYs2QnDiIsP",
        "outputId": "8e482754-9cf2-4516-e7bc-d1ed96b4a449"
      },
      "execution_count": 20,
      "outputs": [
        {
          "output_type": "stream",
          "name": "stdout",
          "text": [
            "9/9 [==============================] - 0s 2ms/step - loss: 3494.7285 - mae: 3494.7285\n"
          ]
        },
        {
          "output_type": "execute_result",
          "data": {
            "text/plain": [
              "(3494.728515625, 3494.728515625)"
            ]
          },
          "metadata": {},
          "execution_count": 20
        }
      ]
    },
    {
      "cell_type": "code",
      "source": [
        "# Plot the model trained for 200 total epochs loss curves\n",
        "pd.DataFrame(history_2.history).plot()\n",
        "plt.ylabel(\"loss\")\n",
        "plt.xlabel(\"epochs\"); # note: epochs will only show 100 since we overrid the history variable"
      ],
      "metadata": {
        "colab": {
          "base_uri": "https://localhost:8080/",
          "height": 279
        },
        "id": "ol5ByEGEiMVU",
        "outputId": "e4ead842-1f4c-4f0b-9c17-92a51091205e"
      },
      "execution_count": 21,
      "outputs": [
        {
          "output_type": "display_data",
          "data": {
            "text/plain": [
              "<Figure size 432x288 with 1 Axes>"
            ],
            "image/png": "[encoded data removed]"
          },
          "metadata": {
            "needs_background": "light"
          }
        }
      ]
    },
    {
      "cell_type": "code",
      "source": [
        "import pandas as pd\n",
        "import matplotlib.pyplot as plt\n",
        "import tensorflow as tf\n",
        "\n",
        "# Read in the insurance dataset\n",
        "insurance = pd.read_csv(\"https://raw.githubusercontent.com/stedy/Machine-Learning-with-R-datasets/master/insurance.csv\")"
      ],
      "metadata": {
        "id": "wbfhNJaSiUbj"
      },
      "execution_count": 22,
      "outputs": []
    },
    {
      "cell_type": "code",
      "source": [
        "insurance.head()\n"
      ],
      "metadata": {
        "colab": {
          "base_uri": "https://localhost:8080/",
          "height": 206
        },
        "id": "DMm6T3rAW_6x",
        "outputId": "f91b2ac3-a681-4851-eb94-998f75025208"
      },
      "execution_count": 23,
      "outputs": [
        {
          "output_type": "execute_result",
          "data": {
            "text/plain": [
              "   age     sex     bmi  children smoker     region      charges\n",
              "0   19  female  27.900         0    yes  southwest  16884.92400\n",
              "1   18    male  33.770         1     no  southeast   1725.55230\n",
              "2   28    male  33.000         3     no  southeast   4449.46200\n",
              "3   33    male  22.705         0     no  northwest  21984.47061\n",
              "4   32    male  28.880         0     no  northwest   3866.85520"
            ],
            "text/html": [
              "\n",
              "  <div id=\"df-5085e564-060e-450f-a078-6f45af583689\">\n",
              "    <div class=\"colab-df-container\">\n",
              "      <div>\n",
              "<style scoped>\n",
              "    .dataframe tbody tr th:only-of-type {\n",
              "        vertical-align: middle;\n",
              "    }\n",
              "\n",
              "    .dataframe tbody tr th {\n",
              "        vertical-align: top;\n",
              "    }\n",
              "\n",
              "    .dataframe thead th {\n",
              "        text-align: right;\n",
              "    }\n",
              "</style>\n",
              "<table border=\"1\" class=\"dataframe\">\n",
              "  <thead>\n",
              "    <tr style=\"text-align: right;\">\n",
              "      <th></th>\n",
              "      <th>age</th>\n",
              "      <th>sex</th>\n",
              "      <th>bmi</th>\n",
              "      <th>children</th>\n",
              "      <th>smoker</th>\n",
              "      <th>region</th>\n",
              "      <th>charges</th>\n",
              "    </tr>\n",
              "  </thead>\n",
              "  <tbody>\n",
              "    <tr>\n",
              "      <th>0</th>\n",
              "      <td>19</td>\n",
              "      <td>female</td>\n",
              "      <td>27.900</td>\n",
              "      <td>0</td>\n",
              "      <td>yes</td>\n",
              "      <td>southwest</td>\n",
              "      <td>16884.92400</td>\n",
              "    </tr>\n",
              "    <tr>\n",
              "      <th>1</th>\n",
              "      <td>18</td>\n",
              "      <td>male</td>\n",
              "      <td>33.770</td>\n",
              "      <td>1</td>\n",
              "      <td>no</td>\n",
              "      <td>southeast</td>\n",
              "      <td>1725.55230</td>\n",
              "    </tr>\n",
              "    <tr>\n",
              "      <th>2</th>\n",
              "      <td>28</td>\n",
              "      <td>male</td>\n",
              "      <td>33.000</td>\n",
              "      <td>3</td>\n",
              "      <td>no</td>\n",
              "      <td>southeast</td>\n",
              "      <td>4449.46200</td>\n",
              "    </tr>\n",
              "    <tr>\n",
              "      <th>3</th>\n",
              "      <td>33</td>\n",
              "      <td>male</td>\n",
              "      <td>22.705</td>\n",
              "      <td>0</td>\n",
              "      <td>no</td>\n",
              "      <td>northwest</td>\n",
              "      <td>21984.47061</td>\n",
              "    </tr>\n",
              "    <tr>\n",
              "      <th>4</th>\n",
              "      <td>32</td>\n",
              "      <td>male</td>\n",
              "      <td>28.880</td>\n",
              "      <td>0</td>\n",
              "      <td>no</td>\n",
              "      <td>northwest</td>\n",
              "      <td>3866.85520</td>\n",
              "    </tr>\n",
              "  </tbody>\n",
              "</table>\n",
              "</div>\n",
              "      <button class=\"colab-df-convert\" onclick=\"convertToInteractive('df-5085e564-060e-450f-a078-6f45af583689')\"\n",
              "              title=\"Convert this dataframe to an interactive table.\"\n",
              "              style=\"display:none;\">\n",
              "        \n",
              "  <svg xmlns=\"http://www.w3.org/2000/svg\" height=\"24px\"viewBox=\"0 0 24 24\"\n",
              "       width=\"24px\">\n",
              "    <path d=\"M0 0h24v24H0V0z\" fill=\"none\"/>\n",
              "    <path d=\"M18.56 5.44l.94 2.06.94-2.06 2.06-.94-2.06-.94-.94-2.06-.94 2.06-2.06.94zm-11 1L8.5 8.5l.94-2.06 2.06-.94-2.06-.94L8.5 2.5l-.94 2.06-2.06.94zm10 10l.94 2.06.94-2.06 2.06-.94-2.06-.94-.94-2.06-.94 2.06-2.06.94z\"/><path d=\"M17.41 7.96l-1.37-1.37c-.4-.4-.92-.59-1.43-.59-.52 0-1.04.2-1.43.59L10.3 9.45l-7.72 7.72c-.78.78-.78 2.05 0 2.83L4 21.41c.39.39.9.59 1.41.59.51 0 1.02-.2 1.41-.59l7.78-7.78 2.81-2.81c.8-.78.8-2.07 0-2.86zM5.41 20L4 18.59l7.72-7.72 1.47 1.35L5.41 20z\"/>\n",
              "  </svg>\n",
              "      </button>\n",
              "      \n",
              "  <style>\n",
              "    .colab-df-container {\n",
              "      display:flex;\n",
              "      flex-wrap:wrap;\n",
              "      gap: 12px;\n",
              "    }\n",
              "\n",
              "    .colab-df-convert {\n",
              "      background-color: #E8F0FE;\n",
              "      border: none;\n",
              "      border-radius: 50%;\n",
              "      cursor: pointer;\n",
              "      display: none;\n",
              "      fill: #1967D2;\n",
              "      height: 32px;\n",
              "      padding: 0 0 0 0;\n",
              "      width: 32px;\n",
              "    }\n",
              "\n",
              "    .colab-df-convert:hover {\n",
              "      background-color: #E2EBFA;\n",
              "      box-shadow: 0px 1px 2px rgba(60, 64, 67, 0.3), 0px 1px 3px 1px rgba(60, 64, 67, 0.15);\n",
              "      fill: #174EA6;\n",
              "    }\n",
              "\n",
              "    [theme=dark] .colab-df-convert {\n",
              "      background-color: #3B4455;\n",
              "      fill: #D2E3FC;\n",
              "    }\n",
              "\n",
              "    [theme=dark] .colab-df-convert:hover {\n",
              "      background-color: #434B5C;\n",
              "      box-shadow: 0px 1px 3px 1px rgba(0, 0, 0, 0.15);\n",
              "      filter: drop-shadow(0px 1px 2px rgba(0, 0, 0, 0.3));\n",
              "      fill: #FFFFFF;\n",
              "    }\n",
              "  </style>\n",
              "\n",
              "      <script>\n",
              "        const buttonEl =\n",
              "          document.querySelector('#df-5085e564-060e-450f-a078-6f45af583689 button.colab-df-convert');\n",
              "        buttonEl.style.display =\n",
              "          google.colab.kernel.accessAllowed ? 'block' : 'none';\n",
              "\n",
              "        async function convertToInteractive(key) {\n",
              "          const element = document.querySelector('#df-5085e564-060e-450f-a078-6f45af583689');\n",
              "          const dataTable =\n",
              "            await google.colab.kernel.invokeFunction('convertToInteractive',\n",
              "                                                     [key], {});\n",
              "          if (!dataTable) return;\n",
              "\n",
              "          const docLinkHtml = 'Like what you see? Visit the ' +\n",
              "            '<a target=\"_blank\" href=https://colab.research.google.com/notebooks/data_table.ipynb>data table notebook</a>'\n",
              "            + ' to learn more about interactive tables.';\n",
              "          element.innerHTML = '';\n",
              "          dataTable['output_type'] = 'display_data';\n",
              "          await google.colab.output.renderOutput(dataTable, element);\n",
              "          const docLink = document.createElement('div');\n",
              "          docLink.innerHTML = docLinkHtml;\n",
              "          element.appendChild(docLink);\n",
              "        }\n",
              "      </script>\n",
              "    </div>\n",
              "  </div>\n",
              "  "
            ]
          },
          "metadata": {},
          "execution_count": 23
        }
      ]
    },
    {
      "cell_type": "code",
      "source": [
        "from sklearn.compose import make_column_transformer\n",
        "from sklearn.preprocessing import MinMaxScaler, OneHotEncoder\n",
        "\n",
        "# Create column transformer (this will help us normalize/preprocess our data)\n",
        "ct = make_column_transformer(\n",
        "    (MinMaxScaler(), [\"age\", \"bmi\", \"children\"]), # get all values between 0 and 1\n",
        "    (OneHotEncoder(handle_unknown=\"ignore\"), [\"sex\", \"smoker\", \"region\"])\n",
        ")\n",
        "\n",
        "# Create X & y\n",
        "X = insurance.drop(\"charges\", axis=1)\n",
        "y = insurance[\"charges\"]\n",
        "\n",
        "# Build our train and test sets (use random state to ensure same split as before)\n",
        "X_train, X_test, y_train, y_test = train_test_split(X, y, test_size=0.2, random_state=42)\n",
        "\n",
        "# Fit column transformer on the training data only (doing so on test data would result in data leakage)\n",
        "ct.fit(X_train)\n",
        "\n",
        "# Transform training and test data with normalization (MinMaxScalar) and one hot encoding (OneHotEncoder)\n",
        "X_train_normal = ct.transform(X_train)\n",
        "X_test_normal = ct.transform(X_test)"
      ],
      "metadata": {
        "id": "hHxnKiQ3XDSQ"
      },
      "execution_count": 24,
      "outputs": []
    },
    {
      "cell_type": "code",
      "source": [
        "X_train.loc[0]\n"
      ],
      "metadata": {
        "colab": {
          "base_uri": "https://localhost:8080/"
        },
        "id": "IFflp8S7XHXR",
        "outputId": "53aa101b-193f-44c3-f9a3-16844fa74126"
      },
      "execution_count": 25,
      "outputs": [
        {
          "output_type": "execute_result",
          "data": {
            "text/plain": [
              "age                19\n",
              "sex            female\n",
              "bmi              27.9\n",
              "children            0\n",
              "smoker            yes\n",
              "region      southwest\n",
              "Name: 0, dtype: object"
            ]
          },
          "metadata": {},
          "execution_count": 25
        }
      ]
    },
    {
      "cell_type": "code",
      "source": [
        "X_train_normal[0]\n"
      ],
      "metadata": {
        "colab": {
          "base_uri": "https://localhost:8080/"
        },
        "id": "jqVE9_nGXK6f",
        "outputId": "830d112e-8510-43a6-878a-4eabf741dc10"
      },
      "execution_count": 26,
      "outputs": [
        {
          "output_type": "execute_result",
          "data": {
            "text/plain": [
              "array([0.60869565, 0.10734463, 0.4       , 1.        , 0.        ,\n",
              "       1.        , 0.        , 0.        , 1.        , 0.        ,\n",
              "       0.        ])"
            ]
          },
          "metadata": {},
          "execution_count": 26
        }
      ]
    },
    {
      "cell_type": "code",
      "source": [
        "# Notice the normalized/one-hot encoded shape is larger because of the extra columns\n",
        "X_train_normal.shape, X_train.shape"
      ],
      "metadata": {
        "colab": {
          "base_uri": "https://localhost:8080/"
        },
        "id": "9yebTeKhXOMz",
        "outputId": "2f627075-0020-420e-e765-8df389d783a5"
      },
      "execution_count": 27,
      "outputs": [
        {
          "output_type": "execute_result",
          "data": {
            "text/plain": [
              "((1070, 11), (1070, 6))"
            ]
          },
          "metadata": {},
          "execution_count": 27
        }
      ]
    },
    {
      "cell_type": "code",
      "source": [
        "tf.random.set_seed(42)\n",
        "\n",
        "# Build the model (3 layers, 100, 10, 1 units)\n",
        "insurance_model_3 = tf.keras.Sequential([\n",
        "  tf.keras.layers.Dense(100),\n",
        "  tf.keras.layers.Dense(10),\n",
        "  tf.keras.layers.Dense(1)\n",
        "])\n",
        "\n",
        "# Compile the model\n",
        "insurance_model_3.compile(loss=tf.keras.losses.mae,\n",
        "                          optimizer=tf.keras.optimizers.Adam(),\n",
        "                          metrics=['mae'])\n",
        "\n",
        "# Fit the model for 200 epochs (same as insurance_model_2)\n",
        "insurance_model_3.fit(X_train_normal, y_train, epochs=200, verbose=0) "
      ],
      "metadata": {
        "colab": {
          "base_uri": "https://localhost:8080/"
        },
        "id": "YtHafjVpXbMz",
        "outputId": "9f90a60f-5399-410b-8046-d597619ce65c"
      },
      "execution_count": 28,
      "outputs": [
        {
          "output_type": "execute_result",
          "data": {
            "text/plain": [
              "<keras.callbacks.History at 0x7fa1865d4a10>"
            ]
          },
          "metadata": {},
          "execution_count": 28
        }
      ]
    },
    {
      "cell_type": "code",
      "source": [
        "# Evaulate 3rd model\n",
        "insurance_model_3_loss, insurance_model_3_mae = insurance_model_3.evaluate(X_test_normal, y_test)"
      ],
      "metadata": {
        "colab": {
          "base_uri": "https://localhost:8080/"
        },
        "id": "OqC9UZt4XgxA",
        "outputId": "43d5c9fd-fae1-4b4d-9a15-d981351b98e5"
      },
      "execution_count": 29,
      "outputs": [
        {
          "output_type": "stream",
          "name": "stdout",
          "text": [
            "9/9 [==============================] - 0s 2ms/step - loss: 3171.5771 - mae: 3171.5771\n"
          ]
        }
      ]
    },
    {
      "cell_type": "code",
      "source": [
        "insurance_model_2_mae, insurance_model_3_mae\n"
      ],
      "metadata": {
        "colab": {
          "base_uri": "https://localhost:8080/"
        },
        "id": "7KmEbGK5Xrao",
        "outputId": "906118fb-9714-4e64-878e-2bc0c4f678c3"
      },
      "execution_count": 30,
      "outputs": [
        {
          "output_type": "execute_result",
          "data": {
            "text/plain": [
              "(3494.728515625, 3171.5771484375)"
            ]
          },
          "metadata": {},
          "execution_count": 30
        }
      ]
    },
    {
      "cell_type": "markdown",
      "source": [
        "Reference URL = https://github.com/mrdbourke/tensorflow-deep-learning/blob/main/01_neural_network_regression_in_tensorflow.ipynb"
      ],
      "metadata": {
        "id": "fYpAzf4rX80v"
      }
    },
    {
      "cell_type": "code",
      "source": [],
      "metadata": {
        "id": "lw5PTPpgX0WU"
      },
      "execution_count": null,
      "outputs": []
    }
  ]
}